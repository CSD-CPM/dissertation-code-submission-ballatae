{
 "cells": [
  {
   "cell_type": "code",
   "execution_count": 1,
   "id": "22356d8c",
   "metadata": {},
   "outputs": [
    {
     "name": "stdout",
     "output_type": "stream",
     "text": [
      "Requirement already satisfied: timm in c:\\users\\lenovo\\desktop\\exploration-of-vit-and-cnn-for-medical-image-processing\\.venv\\lib\\site-packages (1.0.19)\n",
      "Requirement already satisfied: mplcyberpunk in c:\\users\\lenovo\\desktop\\exploration-of-vit-and-cnn-for-medical-image-processing\\.venv\\lib\\site-packages (0.7.6)\n",
      "Requirement already satisfied: ipywidgets in c:\\users\\lenovo\\desktop\\exploration-of-vit-and-cnn-for-medical-image-processing\\.venv\\lib\\site-packages (8.1.7)\n",
      "Requirement already satisfied: torch in c:\\users\\lenovo\\desktop\\exploration-of-vit-and-cnn-for-medical-image-processing\\.venv\\lib\\site-packages (from timm) (2.5.1+cu121)\n",
      "Requirement already satisfied: torchvision in c:\\users\\lenovo\\desktop\\exploration-of-vit-and-cnn-for-medical-image-processing\\.venv\\lib\\site-packages (from timm) (0.20.1+cu121)\n",
      "Requirement already satisfied: pyyaml in c:\\users\\lenovo\\desktop\\exploration-of-vit-and-cnn-for-medical-image-processing\\.venv\\lib\\site-packages (from timm) (6.0.2)\n",
      "Requirement already satisfied: huggingface_hub in c:\\users\\lenovo\\desktop\\exploration-of-vit-and-cnn-for-medical-image-processing\\.venv\\lib\\site-packages (from timm) (0.34.4)\n",
      "Requirement already satisfied: safetensors in c:\\users\\lenovo\\desktop\\exploration-of-vit-and-cnn-for-medical-image-processing\\.venv\\lib\\site-packages (from timm) (0.6.2)\n",
      "Requirement already satisfied: matplotlib in c:\\users\\lenovo\\desktop\\exploration-of-vit-and-cnn-for-medical-image-processing\\.venv\\lib\\site-packages (from mplcyberpunk) (3.10.5)\n",
      "Requirement already satisfied: numpy>1.24.4 in c:\\users\\lenovo\\desktop\\exploration-of-vit-and-cnn-for-medical-image-processing\\.venv\\lib\\site-packages (from mplcyberpunk) (2.1.2)\n",
      "Requirement already satisfied: comm>=0.1.3 in c:\\users\\lenovo\\desktop\\exploration-of-vit-and-cnn-for-medical-image-processing\\.venv\\lib\\site-packages (from ipywidgets) (0.2.3)\n",
      "Requirement already satisfied: ipython>=6.1.0 in c:\\users\\lenovo\\desktop\\exploration-of-vit-and-cnn-for-medical-image-processing\\.venv\\lib\\site-packages (from ipywidgets) (9.4.0)\n",
      "Requirement already satisfied: traitlets>=4.3.1 in c:\\users\\lenovo\\desktop\\exploration-of-vit-and-cnn-for-medical-image-processing\\.venv\\lib\\site-packages (from ipywidgets) (5.14.3)\n",
      "Requirement already satisfied: widgetsnbextension~=4.0.14 in c:\\users\\lenovo\\desktop\\exploration-of-vit-and-cnn-for-medical-image-processing\\.venv\\lib\\site-packages (from ipywidgets) (4.0.14)\n",
      "Requirement already satisfied: jupyterlab_widgets~=3.0.15 in c:\\users\\lenovo\\desktop\\exploration-of-vit-and-cnn-for-medical-image-processing\\.venv\\lib\\site-packages (from ipywidgets) (3.0.15)\n",
      "Requirement already satisfied: colorama in c:\\users\\lenovo\\desktop\\exploration-of-vit-and-cnn-for-medical-image-processing\\.venv\\lib\\site-packages (from ipython>=6.1.0->ipywidgets) (0.4.6)\n",
      "Requirement already satisfied: decorator in c:\\users\\lenovo\\desktop\\exploration-of-vit-and-cnn-for-medical-image-processing\\.venv\\lib\\site-packages (from ipython>=6.1.0->ipywidgets) (5.2.1)\n",
      "Requirement already satisfied: ipython-pygments-lexers in c:\\users\\lenovo\\desktop\\exploration-of-vit-and-cnn-for-medical-image-processing\\.venv\\lib\\site-packages (from ipython>=6.1.0->ipywidgets) (1.1.1)\n",
      "Requirement already satisfied: jedi>=0.16 in c:\\users\\lenovo\\desktop\\exploration-of-vit-and-cnn-for-medical-image-processing\\.venv\\lib\\site-packages (from ipython>=6.1.0->ipywidgets) (0.19.2)\n",
      "Requirement already satisfied: matplotlib-inline in c:\\users\\lenovo\\desktop\\exploration-of-vit-and-cnn-for-medical-image-processing\\.venv\\lib\\site-packages (from ipython>=6.1.0->ipywidgets) (0.1.7)\n",
      "Requirement already satisfied: prompt_toolkit<3.1.0,>=3.0.41 in c:\\users\\lenovo\\desktop\\exploration-of-vit-and-cnn-for-medical-image-processing\\.venv\\lib\\site-packages (from ipython>=6.1.0->ipywidgets) (3.0.52)\n",
      "Requirement already satisfied: pygments>=2.4.0 in c:\\users\\lenovo\\desktop\\exploration-of-vit-and-cnn-for-medical-image-processing\\.venv\\lib\\site-packages (from ipython>=6.1.0->ipywidgets) (2.19.2)\n",
      "Requirement already satisfied: stack_data in c:\\users\\lenovo\\desktop\\exploration-of-vit-and-cnn-for-medical-image-processing\\.venv\\lib\\site-packages (from ipython>=6.1.0->ipywidgets) (0.6.3)\n",
      "Requirement already satisfied: wcwidth in c:\\users\\lenovo\\desktop\\exploration-of-vit-and-cnn-for-medical-image-processing\\.venv\\lib\\site-packages (from prompt_toolkit<3.1.0,>=3.0.41->ipython>=6.1.0->ipywidgets) (0.2.13)\n",
      "Requirement already satisfied: parso<0.9.0,>=0.8.4 in c:\\users\\lenovo\\desktop\\exploration-of-vit-and-cnn-for-medical-image-processing\\.venv\\lib\\site-packages (from jedi>=0.16->ipython>=6.1.0->ipywidgets) (0.8.5)\n",
      "Requirement already satisfied: filelock in c:\\users\\lenovo\\desktop\\exploration-of-vit-and-cnn-for-medical-image-processing\\.venv\\lib\\site-packages (from huggingface_hub->timm) (3.13.1)\n",
      "Requirement already satisfied: fsspec>=2023.5.0 in c:\\users\\lenovo\\desktop\\exploration-of-vit-and-cnn-for-medical-image-processing\\.venv\\lib\\site-packages (from huggingface_hub->timm) (2024.6.1)\n",
      "Requirement already satisfied: packaging>=20.9 in c:\\users\\lenovo\\desktop\\exploration-of-vit-and-cnn-for-medical-image-processing\\.venv\\lib\\site-packages (from huggingface_hub->timm) (25.0)\n",
      "Requirement already satisfied: requests in c:\\users\\lenovo\\desktop\\exploration-of-vit-and-cnn-for-medical-image-processing\\.venv\\lib\\site-packages (from huggingface_hub->timm) (2.32.5)\n",
      "Requirement already satisfied: tqdm>=4.42.1 in c:\\users\\lenovo\\desktop\\exploration-of-vit-and-cnn-for-medical-image-processing\\.venv\\lib\\site-packages (from huggingface_hub->timm) (4.67.1)\n",
      "Requirement already satisfied: typing-extensions>=3.7.4.3 in c:\\users\\lenovo\\desktop\\exploration-of-vit-and-cnn-for-medical-image-processing\\.venv\\lib\\site-packages (from huggingface_hub->timm) (4.12.2)\n",
      "Requirement already satisfied: contourpy>=1.0.1 in c:\\users\\lenovo\\desktop\\exploration-of-vit-and-cnn-for-medical-image-processing\\.venv\\lib\\site-packages (from matplotlib->mplcyberpunk) (1.3.3)\n",
      "Requirement already satisfied: cycler>=0.10 in c:\\users\\lenovo\\desktop\\exploration-of-vit-and-cnn-for-medical-image-processing\\.venv\\lib\\site-packages (from matplotlib->mplcyberpunk) (0.12.1)\n",
      "Requirement already satisfied: fonttools>=4.22.0 in c:\\users\\lenovo\\desktop\\exploration-of-vit-and-cnn-for-medical-image-processing\\.venv\\lib\\site-packages (from matplotlib->mplcyberpunk) (4.59.2)\n",
      "Requirement already satisfied: kiwisolver>=1.3.1 in c:\\users\\lenovo\\desktop\\exploration-of-vit-and-cnn-for-medical-image-processing\\.venv\\lib\\site-packages (from matplotlib->mplcyberpunk) (1.4.9)\n",
      "Requirement already satisfied: pillow>=8 in c:\\users\\lenovo\\desktop\\exploration-of-vit-and-cnn-for-medical-image-processing\\.venv\\lib\\site-packages (from matplotlib->mplcyberpunk) (11.0.0)\n",
      "Requirement already satisfied: pyparsing>=2.3.1 in c:\\users\\lenovo\\desktop\\exploration-of-vit-and-cnn-for-medical-image-processing\\.venv\\lib\\site-packages (from matplotlib->mplcyberpunk) (3.2.3)\n",
      "Requirement already satisfied: python-dateutil>=2.7 in c:\\users\\lenovo\\desktop\\exploration-of-vit-and-cnn-for-medical-image-processing\\.venv\\lib\\site-packages (from matplotlib->mplcyberpunk) (2.9.0.post0)\n",
      "Requirement already satisfied: six>=1.5 in c:\\users\\lenovo\\desktop\\exploration-of-vit-and-cnn-for-medical-image-processing\\.venv\\lib\\site-packages (from python-dateutil>=2.7->matplotlib->mplcyberpunk) (1.17.0)\n",
      "Requirement already satisfied: charset_normalizer<4,>=2 in c:\\users\\lenovo\\desktop\\exploration-of-vit-and-cnn-for-medical-image-processing\\.venv\\lib\\site-packages (from requests->huggingface_hub->timm) (3.4.3)\n",
      "Requirement already satisfied: idna<4,>=2.5 in c:\\users\\lenovo\\desktop\\exploration-of-vit-and-cnn-for-medical-image-processing\\.venv\\lib\\site-packages (from requests->huggingface_hub->timm) (3.10)\n",
      "Requirement already satisfied: urllib3<3,>=1.21.1 in c:\\users\\lenovo\\desktop\\exploration-of-vit-and-cnn-for-medical-image-processing\\.venv\\lib\\site-packages (from requests->huggingface_hub->timm) (2.5.0)\n",
      "Requirement already satisfied: certifi>=2017.4.17 in c:\\users\\lenovo\\desktop\\exploration-of-vit-and-cnn-for-medical-image-processing\\.venv\\lib\\site-packages (from requests->huggingface_hub->timm) (2025.8.3)\n",
      "Requirement already satisfied: executing>=1.2.0 in c:\\users\\lenovo\\desktop\\exploration-of-vit-and-cnn-for-medical-image-processing\\.venv\\lib\\site-packages (from stack_data->ipython>=6.1.0->ipywidgets) (2.2.0)\n",
      "Requirement already satisfied: asttokens>=2.1.0 in c:\\users\\lenovo\\desktop\\exploration-of-vit-and-cnn-for-medical-image-processing\\.venv\\lib\\site-packages (from stack_data->ipython>=6.1.0->ipywidgets) (3.0.0)\n",
      "Requirement already satisfied: pure-eval in c:\\users\\lenovo\\desktop\\exploration-of-vit-and-cnn-for-medical-image-processing\\.venv\\lib\\site-packages (from stack_data->ipython>=6.1.0->ipywidgets) (0.2.3)\n",
      "Requirement already satisfied: networkx in c:\\users\\lenovo\\desktop\\exploration-of-vit-and-cnn-for-medical-image-processing\\.venv\\lib\\site-packages (from torch->timm) (3.3)\n",
      "Requirement already satisfied: jinja2 in c:\\users\\lenovo\\desktop\\exploration-of-vit-and-cnn-for-medical-image-processing\\.venv\\lib\\site-packages (from torch->timm) (3.1.4)\n",
      "Requirement already satisfied: setuptools in c:\\users\\lenovo\\desktop\\exploration-of-vit-and-cnn-for-medical-image-processing\\.venv\\lib\\site-packages (from torch->timm) (70.2.0)\n",
      "Requirement already satisfied: sympy==1.13.1 in c:\\users\\lenovo\\desktop\\exploration-of-vit-and-cnn-for-medical-image-processing\\.venv\\lib\\site-packages (from torch->timm) (1.13.1)\n",
      "Requirement already satisfied: mpmath<1.4,>=1.1.0 in c:\\users\\lenovo\\desktop\\exploration-of-vit-and-cnn-for-medical-image-processing\\.venv\\lib\\site-packages (from sympy==1.13.1->torch->timm) (1.3.0)\n",
      "Requirement already satisfied: MarkupSafe>=2.0 in c:\\users\\lenovo\\desktop\\exploration-of-vit-and-cnn-for-medical-image-processing\\.venv\\lib\\site-packages (from jinja2->torch->timm) (2.1.5)\n",
      "Note: you may need to restart the kernel to use updated packages.\n"
     ]
    }
   ],
   "source": [
    "%pip install timm mplcyberpunk ipywidgets"
   ]
  },
  {
   "cell_type": "code",
   "execution_count": 2,
   "id": "db036522",
   "metadata": {},
   "outputs": [],
   "source": [
    "from pathlib import Path\n",
    "import os, json, random, math\n",
    "import numpy as np\n",
    "import matplotlib.pyplot as plt\n",
    "\n",
    "import torch\n",
    "import torch.nn as nn\n",
    "import torch.optim as optim\n",
    "from torch.utils.data import DataLoader\n",
    "from torchvision import transforms, datasets\n",
    "\n",
    "from sklearn.metrics import classification_report, confusion_matrix\n",
    "from torchmetrics.classification import MulticlassAUROC, MulticlassAccuracy\n",
    "\n",
    "try:\n",
    "    from tqdm.auto import tqdm\n",
    "except Exception:\n",
    "    from tqdm import tqdm  \n",
    "\n",
    "import timm\n",
    "import mplcyberpunk\n",
    "plt.style.use(\"cyberpunk\")"
   ]
  },
  {
   "cell_type": "code",
   "execution_count": 3,
   "id": "054fea53",
   "metadata": {},
   "outputs": [
    {
     "name": "stdout",
     "output_type": "stream",
     "text": [
      "torch: 2.5.1+cu121\n",
      "timm : 1.0.19\n",
      "device: cuda\n",
      "GPU: NVIDIA GeForce GTX 1650 Ti\n"
     ]
    }
   ],
   "source": [
    "print(\"torch:\", torch.__version__)\n",
    "print(\"timm :\", timm.__version__)\n",
    "device = torch.device(\"cuda\" if torch.cuda.is_available() else \"cpu\")\n",
    "print(\"device:\", device)\n",
    "if torch.cuda.is_available():\n",
    "    print(\"GPU:\", torch.cuda.get_device_name(0))\n",
    "\n",
    "def set_seed(seed=42):\n",
    "    os.environ[\"PYTHONHASHSEED\"] = str(seed)\n",
    "    random.seed(seed); np.random.seed(seed)\n",
    "    torch.manual_seed(seed); torch.cuda.manual_seed_all(seed)\n",
    "    torch.backends.cudnn.deterministic = False\n",
    "    torch.backends.cudnn.benchmark = True\n",
    "\n",
    "set_seed(42)"
   ]
  },
  {
   "cell_type": "code",
   "execution_count": 5,
   "id": "2776dad5",
   "metadata": {},
   "outputs": [],
   "source": [
    "\n",
    "REPO_ROOT = Path(r\"C:\\Users\\Lenovo\\Desktop\\Exploration-of-ViT-and-CNN-for-Medical-Image-Processing\")\n",
    "\n",
    "DATA_DIR  = REPO_ROOT / \"data\" / \"processed\" / \"classification\" / \"leukemia_classification\"\n",
    "\n",
    "TRAIN_DIR = DATA_DIR / \"train\"\n",
    "VAL_DIR   = DATA_DIR / \"validation\"\n",
    "TEST_DIR  = DATA_DIR / \"test\"\n",
    "\n",
    "assert TRAIN_DIR.exists(), f\"Missing: {TRAIN_DIR}\"\n",
    "assert VAL_DIR.exists(), f\"Missing: {VAL_DIR}\"\n",
    "assert TEST_DIR.exists(), f\"Missing: {TEST_DIR}\""
   ]
  },
  {
   "cell_type": "code",
   "execution_count": 6,
   "id": "f376c505",
   "metadata": {},
   "outputs": [],
   "source": [
    "from torchvision import transforms, datasets\n",
    "from torch.utils.data import ConcatDataset, DataLoader"
   ]
  },
  {
   "cell_type": "code",
   "execution_count": 7,
   "id": "314ee20e",
   "metadata": {},
   "outputs": [],
   "source": [
    "# Normalization for ImageNet-pretrained ViT\n",
    "mean = [0.485, 0.456, 0.406]\n",
    "std  = [0.229, 0.224, 0.225]"
   ]
  },
  {
   "cell_type": "code",
   "execution_count": 8,
   "id": "1fe652c0",
   "metadata": {},
   "outputs": [],
   "source": [
    "train_tfms = transforms.Compose([\n",
    "    transforms.Resize(256),\n",
    "    transforms.RandomResizedCrop(224, scale=(0.8, 1.0)),\n",
    "    transforms.RandomHorizontalFlip(),\n",
    "    transforms.ToTensor(),\n",
    "    transforms.Normalize(mean, std),\n",
    "])\n",
    "\n",
    "val_tfms = transforms.Compose([\n",
    "    transforms.Resize(256),\n",
    "    transforms.CenterCrop(224),\n",
    "    transforms.ToTensor(),\n",
    "    transforms.Normalize(mean, std),\n",
    "])"
   ]
  },
  {
   "cell_type": "code",
   "execution_count": 12,
   "id": "3142db6f",
   "metadata": {},
   "outputs": [
    {
     "name": "stdout",
     "output_type": "stream",
     "text": [
      "Train size: 8885\n",
      "Val size:   1776\n",
      "Test size:  1867\n",
      "Classes: ['all', 'hem']\n"
     ]
    }
   ],
   "source": [
    "from torchvision import datasets\n",
    "\n",
    "# folds live under train/\n",
    "folds = [\"fold_0\", \"fold_1\", \"fold_2\"]\n",
    "\n",
    "train_datasets = []\n",
    "for f in folds:\n",
    "    fold_path = TRAIN_DIR / f\n",
    "    train_datasets.append(datasets.ImageFolder(fold_path, transform=train_tfms))\n",
    "\n",
    "val_ds  = datasets.ImageFolder(VAL_DIR,  transform=val_tfms)\n",
    "test_ds = datasets.ImageFolder(TEST_DIR, transform=val_tfms)\n",
    "\n",
    "from torch.utils.data import ConcatDataset\n",
    "train_ds = ConcatDataset(train_datasets)\n",
    "\n",
    "print(\"Train size:\", len(train_ds))\n",
    "print(\"Val size:  \", len(val_ds))\n",
    "print(\"Test size: \", len(test_ds))\n",
    "print(\"Classes:\", val_ds.classes)\n"
   ]
  },
  {
   "cell_type": "code",
   "execution_count": 14,
   "id": "8b947d94",
   "metadata": {},
   "outputs": [
    {
     "name": "stdout",
     "output_type": "stream",
     "text": [
      "Steps per epoch: 278 56 59\n",
      "First batch: torch.Size([32, 3, 224, 224]) torch.Size([32])\n"
     ]
    }
   ],
   "source": [
    "from torch.utils.data import DataLoader\n",
    "\n",
    "batch_size  = 32\n",
    "num_workers = 0\n",
    "pin         = torch.cuda.is_available()\n",
    "\n",
    "train_loader = DataLoader(\n",
    "    train_ds, batch_size=batch_size, shuffle=True,\n",
    "    num_workers=num_workers, pin_memory=pin\n",
    ")\n",
    "\n",
    "val_loader = DataLoader(\n",
    "    val_ds, batch_size=batch_size, shuffle=False,\n",
    "    num_workers=num_workers, pin_memory=pin\n",
    ")\n",
    "\n",
    "test_loader = DataLoader(\n",
    "    test_ds, batch_size=batch_size, shuffle=False,\n",
    "    num_workers=num_workers, pin_memory=pin\n",
    ")\n",
    "\n",
    "print(\"Steps per epoch:\", len(train_loader), len(val_loader), len(test_loader))\n",
    "\n",
    "\n",
    "xb, yb = next(iter(train_loader))\n",
    "print(\"First batch:\", xb.shape, yb.shape)"
   ]
  },
  {
   "cell_type": "code",
   "execution_count": 15,
   "id": "ce3da379",
   "metadata": {},
   "outputs": [
    {
     "name": "stdout",
     "output_type": "stream",
     "text": [
      "Model: vit_tiny_patch16_224\n"
     ]
    }
   ],
   "source": [
    "vit_name = \"vit_tiny_patch16_224\"\n",
    "\n",
    "# create model\n",
    "model = timm.create_model(vit_name, pretrained=True, num_classes=len(val_ds.classes))\n",
    "model = model.to(device)\n",
    "\n",
    "print(\"Model:\", vit_name)"
   ]
  },
  {
   "cell_type": "markdown",
   "id": "e5e601b4",
   "metadata": {},
   "source": [
    "*Define Loss, Optimizer, Scheduler, and Training Setup*\n",
    "\n",
    "In this step, we configure the core training components for our Vision Transformer (ViT) model:\n",
    "\n",
    "- Loss Function:\n",
    "We use CrossEntropyLoss, which is the standard choice for multi-class classification problems.\n",
    "\n",
    "- Optimizer:\n",
    "We use AdamW, a variant of Adam that includes weight decay, which works particularly well for transformer-based models. The learning rate is scaled relative to the batch size.\n",
    "\n",
    "- Learning Rate Scheduler:\n",
    "We adopt a CosineAnnealingLR scheduler. This gradually reduces the learning rate following a cosine curve, which helps the model converge smoothly and avoid sharp drops in performance.\n",
    "\n",
    "- Mixed Precision Training (AMP):\n",
    "To speed up training and reduce GPU memory usage, we use torch.cuda.amp with a gradient scaler. This allows calculations in half precision without sacrificing accuracy.\n",
    "\n",
    "This setup ensures that our ViT model trains efficiently and generalizes better on the validation and test datasets."
   ]
  },
  {
   "cell_type": "code",
   "execution_count": 16,
   "id": "c897e3fc",
   "metadata": {},
   "outputs": [
    {
     "name": "stdout",
     "output_type": "stream",
     "text": [
      "Training for 20 epochs with lr: 0.0003\n"
     ]
    }
   ],
   "source": [
    "import torch.nn as nn\n",
    "import torch.optim as optim\n",
    "\n",
    "# Loss\n",
    "criterion = nn.CrossEntropyLoss()\n",
    "\n",
    "# Optimizer\n",
    "base_lr = 3e-4 * (batch_size / 32)\n",
    "optimizer = optim.AdamW(model.parameters(), lr=base_lr, weight_decay=0.05)\n",
    "\n",
    "# Scheduler\n",
    "epochs = 20\n",
    "scheduler = optim.lr_scheduler.CosineAnnealingLR(optimizer, T_max=epochs)\n",
    "\n",
    "print(\"Training for\", epochs, \"epochs with lr:\", base_lr)\n"
   ]
  },
  {
   "cell_type": "code",
   "execution_count": 17,
   "id": "609b25c4",
   "metadata": {},
   "outputs": [],
   "source": [
    "from torch.cuda.amp import autocast, GradScaler\n",
    "from torchmetrics.classification import MulticlassAUROC, MulticlassAccuracy\n",
    "from tqdm.auto import tqdm"
   ]
  },
  {
   "cell_type": "code",
   "execution_count": 18,
   "id": "65ea1266",
   "metadata": {},
   "outputs": [
    {
     "name": "stderr",
     "output_type": "stream",
     "text": [
      "C:\\Users\\Lenovo\\AppData\\Local\\Temp\\ipykernel_15148\\1646186778.py:1: FutureWarning: `torch.cuda.amp.GradScaler(args...)` is deprecated. Please use `torch.amp.GradScaler('cuda', args...)` instead.\n",
      "  scaler = GradScaler(enabled=torch.cuda.is_available())\n"
     ]
    }
   ],
   "source": [
    "scaler = GradScaler(enabled=torch.cuda.is_available())\n",
    "\n",
    "def run_epoch(loader, train=True):\n",
    "    model.train(train)\n",
    "    loss_sum = 0.0\n",
    "    logits_all, targets_all = [], []\n",
    "    \n",
    "    for x, y in tqdm(loader, leave=False):\n",
    "        x, y = x.to(device), y.to(device)\n",
    "        \n",
    "        if train:\n",
    "            optimizer.zero_grad(set_to_none=True)\n",
    "            with autocast(enabled=torch.cuda.is_available()):\n",
    "                logits = model(x)\n",
    "                loss = criterion(logits, y)\n",
    "            scaler.scale(loss).backward()\n",
    "            scaler.step(optimizer)\n",
    "            scaler.update()\n",
    "        else:\n",
    "            with torch.no_grad(), autocast(enabled=torch.cuda.is_available()):\n",
    "                logits = model(x)\n",
    "                loss = criterion(logits, y)\n",
    "\n",
    "        loss_sum += loss.item() * x.size(0)\n",
    "        logits_all.append(logits.detach().cpu())\n",
    "        targets_all.append(y.detach().cpu())\n",
    "\n",
    "    loss_epoch = loss_sum / len(loader.dataset)\n",
    "    logits_all = torch.cat(logits_all)\n",
    "    targets_all = torch.cat(targets_all)\n",
    "\n",
    "    auroc = MulticlassAUROC(num_classes=len(val_ds.classes), average=\"macro\")(logits_all.softmax(1), targets_all).item()\n",
    "    acc   = MulticlassAccuracy(num_classes=len(val_ds.classes), average=\"macro\")(logits_all.argmax(1), targets_all).item()\n",
    "\n",
    "    return loss_epoch, acc, auroc\n"
   ]
  },
  {
   "cell_type": "code",
   "execution_count": 19,
   "id": "eff62771",
   "metadata": {},
   "outputs": [],
   "source": [
    "from pathlib import Path\n",
    "import json"
   ]
  },
  {
   "cell_type": "code",
   "execution_count": 20,
   "id": "ea7a086a",
   "metadata": {},
   "outputs": [],
   "source": [
    "def fit(epochs=20, ckpt_name=\"cls_leukemia_vit_tiny.pt\"):\n",
    "    CKPT_DIR = REPO_ROOT / \"checkpoints\" / \"classification\"\n",
    "    MET_DIR  = REPO_ROOT / \"results\" / \"metrics\"\n",
    "    CKPT_DIR.mkdir(parents=True, exist_ok=True)\n",
    "    MET_DIR.mkdir(parents=True, exist_ok=True)\n",
    "\n",
    "    best = -1e9\n",
    "    hist = []\n",
    "    for ep in range(1, epochs+1):\n",
    "        tr_loss, tr_acc, tr_auc = run_epoch(train_loader, True)\n",
    "        va_loss, va_acc, va_auc = run_epoch(val_loader, False)\n",
    "        scheduler.step()\n",
    "\n",
    "        hist.append({\n",
    "            \"epoch\": ep,\n",
    "            \"train_loss\": tr_loss, \"train_acc\": tr_acc, \"train_auroc\": tr_auc,\n",
    "            \"val_loss\": va_loss, \"val_acc\": va_acc, \"val_auroc\": va_auc,\n",
    "            \"lr\": scheduler.get_last_lr()[0]\n",
    "        })\n",
    "\n",
    "        print(f\"[{ep:03d}] train: loss {tr_loss:.4f} acc {tr_acc:.3f} auc {tr_auc:.3f} | \"\n",
    "              f\"val: loss {va_loss:.4f} acc {va_acc:.3f} auc {va_auc:.3f}\")\n",
    "\n",
    "        if va_auc > best:\n",
    "            best = va_auc\n",
    "            torch.save({\n",
    "                \"state_dict\": model.state_dict(),\n",
    "                \"class_names\": val_ds.classes,\n",
    "                \"num_classes\": len(val_ds.classes),\n",
    "                \"model_name\": vit_name\n",
    "            }, CKPT_DIR / ckpt_name)\n",
    "\n",
    "    with open(MET_DIR / \"leukemia_vit_history.json\", \"w\") as f:\n",
    "        json.dump(hist, f, indent=2)\n",
    "\n",
    "    print(\"Best val AUROC:\", best)\n",
    "    return hist"
   ]
  },
  {
   "cell_type": "code",
   "execution_count": 21,
   "id": "ab41a4e8",
   "metadata": {},
   "outputs": [
    {
     "data": {
      "application/vnd.jupyter.widget-view+json": {
       "model_id": "54f1b8402bbe4adf90c4f6bb23c44981",
       "version_major": 2,
       "version_minor": 0
      },
      "text/plain": [
       "  0%|          | 0/278 [00:00<?, ?it/s]"
      ]
     },
     "metadata": {},
     "output_type": "display_data"
    },
    {
     "name": "stderr",
     "output_type": "stream",
     "text": [
      "C:\\Users\\Lenovo\\AppData\\Local\\Temp\\ipykernel_15148\\1646186778.py:13: FutureWarning: `torch.cuda.amp.autocast(args...)` is deprecated. Please use `torch.amp.autocast('cuda', args...)` instead.\n",
      "  with autocast(enabled=torch.cuda.is_available()):\n"
     ]
    },
    {
     "data": {
      "application/vnd.jupyter.widget-view+json": {
       "model_id": "4cda2ae47cef4a14a33f513e16c8cd42",
       "version_major": 2,
       "version_minor": 0
      },
      "text/plain": [
       "  0%|          | 0/56 [00:00<?, ?it/s]"
      ]
     },
     "metadata": {},
     "output_type": "display_data"
    },
    {
     "name": "stderr",
     "output_type": "stream",
     "text": [
      "C:\\Users\\Lenovo\\AppData\\Local\\Temp\\ipykernel_15148\\1646186778.py:20: FutureWarning: `torch.cuda.amp.autocast(args...)` is deprecated. Please use `torch.amp.autocast('cuda', args...)` instead.\n",
      "  with torch.no_grad(), autocast(enabled=torch.cuda.is_available()):\n"
     ]
    },
    {
     "name": "stdout",
     "output_type": "stream",
     "text": [
      "[001] train: loss 0.5342 acc 0.677 auc 0.766 | val: loss 0.6549 acc 0.542 auc 0.750\n"
     ]
    },
    {
     "data": {
      "application/vnd.jupyter.widget-view+json": {
       "model_id": "4b22a02ed467420ebd51c13dd3a3c75b",
       "version_major": 2,
       "version_minor": 0
      },
      "text/plain": [
       "  0%|          | 0/278 [00:00<?, ?it/s]"
      ]
     },
     "metadata": {},
     "output_type": "display_data"
    },
    {
     "data": {
      "application/vnd.jupyter.widget-view+json": {
       "model_id": "fd3573fee7b24c24887a70b360c6a859",
       "version_major": 2,
       "version_minor": 0
      },
      "text/plain": [
       "  0%|          | 0/56 [00:00<?, ?it/s]"
      ]
     },
     "metadata": {},
     "output_type": "display_data"
    },
    {
     "name": "stdout",
     "output_type": "stream",
     "text": [
      "[002] train: loss 0.4498 acc 0.744 auc 0.830 | val: loss 0.5029 acc 0.686 auc 0.784\n"
     ]
    },
    {
     "data": {
      "application/vnd.jupyter.widget-view+json": {
       "model_id": "e3b9d997ecf74b3a868a48c933266d8d",
       "version_major": 2,
       "version_minor": 0
      },
      "text/plain": [
       "  0%|          | 0/278 [00:00<?, ?it/s]"
      ]
     },
     "metadata": {},
     "output_type": "display_data"
    },
    {
     "data": {
      "application/vnd.jupyter.widget-view+json": {
       "model_id": "b5c1930e23c3458a892146e04294c3e3",
       "version_major": 2,
       "version_minor": 0
      },
      "text/plain": [
       "  0%|          | 0/56 [00:00<?, ?it/s]"
      ]
     },
     "metadata": {},
     "output_type": "display_data"
    },
    {
     "name": "stdout",
     "output_type": "stream",
     "text": [
      "[003] train: loss 0.3981 acc 0.785 auc 0.869 | val: loss 0.5168 acc 0.667 auc 0.789\n"
     ]
    },
    {
     "data": {
      "application/vnd.jupyter.widget-view+json": {
       "model_id": "54e7fb7900684757a99dcff7c023ec57",
       "version_major": 2,
       "version_minor": 0
      },
      "text/plain": [
       "  0%|          | 0/278 [00:00<?, ?it/s]"
      ]
     },
     "metadata": {},
     "output_type": "display_data"
    },
    {
     "data": {
      "application/vnd.jupyter.widget-view+json": {
       "model_id": "f5827602c9ed42be86147c2fadc07150",
       "version_major": 2,
       "version_minor": 0
      },
      "text/plain": [
       "  0%|          | 0/56 [00:00<?, ?it/s]"
      ]
     },
     "metadata": {},
     "output_type": "display_data"
    },
    {
     "name": "stdout",
     "output_type": "stream",
     "text": [
      "[004] train: loss 0.3721 acc 0.802 auc 0.884 | val: loss 0.4904 acc 0.663 auc 0.816\n"
     ]
    },
    {
     "data": {
      "application/vnd.jupyter.widget-view+json": {
       "model_id": "88be6535e2da4365add3af4209961a25",
       "version_major": 2,
       "version_minor": 0
      },
      "text/plain": [
       "  0%|          | 0/278 [00:00<?, ?it/s]"
      ]
     },
     "metadata": {},
     "output_type": "display_data"
    },
    {
     "data": {
      "application/vnd.jupyter.widget-view+json": {
       "model_id": "75aa1b7ab26649528383709293fe0060",
       "version_major": 2,
       "version_minor": 0
      },
      "text/plain": [
       "  0%|          | 0/56 [00:00<?, ?it/s]"
      ]
     },
     "metadata": {},
     "output_type": "display_data"
    },
    {
     "name": "stdout",
     "output_type": "stream",
     "text": [
      "[005] train: loss 0.3497 acc 0.816 auc 0.898 | val: loss 0.4404 acc 0.731 auc 0.820\n"
     ]
    },
    {
     "data": {
      "application/vnd.jupyter.widget-view+json": {
       "model_id": "848804fd8ab842a29af11b27dd70512f",
       "version_major": 2,
       "version_minor": 0
      },
      "text/plain": [
       "  0%|          | 0/278 [00:00<?, ?it/s]"
      ]
     },
     "metadata": {},
     "output_type": "display_data"
    },
    {
     "data": {
      "application/vnd.jupyter.widget-view+json": {
       "model_id": "d852a98ba8434c7da61e918c65be5bb0",
       "version_major": 2,
       "version_minor": 0
      },
      "text/plain": [
       "  0%|          | 0/56 [00:00<?, ?it/s]"
      ]
     },
     "metadata": {},
     "output_type": "display_data"
    },
    {
     "name": "stdout",
     "output_type": "stream",
     "text": [
      "[006] train: loss 0.3287 acc 0.832 auc 0.908 | val: loss 0.5300 acc 0.677 auc 0.833\n"
     ]
    },
    {
     "data": {
      "application/vnd.jupyter.widget-view+json": {
       "model_id": "f3214ec73a68498185eb70c0d2973986",
       "version_major": 2,
       "version_minor": 0
      },
      "text/plain": [
       "  0%|          | 0/278 [00:00<?, ?it/s]"
      ]
     },
     "metadata": {},
     "output_type": "display_data"
    },
    {
     "data": {
      "application/vnd.jupyter.widget-view+json": {
       "model_id": "536ff736f5d449eea9e8bddbbaf126c7",
       "version_major": 2,
       "version_minor": 0
      },
      "text/plain": [
       "  0%|          | 0/56 [00:00<?, ?it/s]"
      ]
     },
     "metadata": {},
     "output_type": "display_data"
    },
    {
     "name": "stdout",
     "output_type": "stream",
     "text": [
      "[007] train: loss 0.3184 acc 0.834 auc 0.914 | val: loss 0.4007 acc 0.767 auc 0.850\n"
     ]
    },
    {
     "data": {
      "application/vnd.jupyter.widget-view+json": {
       "model_id": "1c524adb62704240a4f884b39127952c",
       "version_major": 2,
       "version_minor": 0
      },
      "text/plain": [
       "  0%|          | 0/278 [00:00<?, ?it/s]"
      ]
     },
     "metadata": {},
     "output_type": "display_data"
    },
    {
     "data": {
      "application/vnd.jupyter.widget-view+json": {
       "model_id": "774270e997c3402a8b879eb2d890df8e",
       "version_major": 2,
       "version_minor": 0
      },
      "text/plain": [
       "  0%|          | 0/56 [00:00<?, ?it/s]"
      ]
     },
     "metadata": {},
     "output_type": "display_data"
    },
    {
     "name": "stdout",
     "output_type": "stream",
     "text": [
      "[008] train: loss 0.2876 acc 0.850 auc 0.930 | val: loss 0.4394 acc 0.762 auc 0.834\n"
     ]
    },
    {
     "data": {
      "application/vnd.jupyter.widget-view+json": {
       "model_id": "fbccee13e36d47ae8ca849c787356a2c",
       "version_major": 2,
       "version_minor": 0
      },
      "text/plain": [
       "  0%|          | 0/278 [00:00<?, ?it/s]"
      ]
     },
     "metadata": {},
     "output_type": "display_data"
    },
    {
     "data": {
      "application/vnd.jupyter.widget-view+json": {
       "model_id": "d87b2abfa77b483a9da9476739ee2114",
       "version_major": 2,
       "version_minor": 0
      },
      "text/plain": [
       "  0%|          | 0/56 [00:00<?, ?it/s]"
      ]
     },
     "metadata": {},
     "output_type": "display_data"
    },
    {
     "name": "stdout",
     "output_type": "stream",
     "text": [
      "[009] train: loss 0.2732 acc 0.860 auc 0.936 | val: loss 0.4194 acc 0.749 auc 0.857\n"
     ]
    },
    {
     "data": {
      "application/vnd.jupyter.widget-view+json": {
       "model_id": "032289e090fb464cbf8114ffc77c27b9",
       "version_major": 2,
       "version_minor": 0
      },
      "text/plain": [
       "  0%|          | 0/278 [00:00<?, ?it/s]"
      ]
     },
     "metadata": {},
     "output_type": "display_data"
    },
    {
     "data": {
      "application/vnd.jupyter.widget-view+json": {
       "model_id": "1f384a8e5b084eeeb038013d22e80c86",
       "version_major": 2,
       "version_minor": 0
      },
      "text/plain": [
       "  0%|          | 0/56 [00:00<?, ?it/s]"
      ]
     },
     "metadata": {},
     "output_type": "display_data"
    },
    {
     "name": "stdout",
     "output_type": "stream",
     "text": [
      "[010] train: loss 0.2517 acc 0.873 auc 0.945 | val: loss 0.4136 acc 0.719 auc 0.897\n"
     ]
    },
    {
     "data": {
      "application/vnd.jupyter.widget-view+json": {
       "model_id": "9a2a898a911b4c4ba60bbef08bdd9bcc",
       "version_major": 2,
       "version_minor": 0
      },
      "text/plain": [
       "  0%|          | 0/278 [00:00<?, ?it/s]"
      ]
     },
     "metadata": {},
     "output_type": "display_data"
    },
    {
     "data": {
      "application/vnd.jupyter.widget-view+json": {
       "model_id": "abc3ddc7328342198a89b97172355d82",
       "version_major": 2,
       "version_minor": 0
      },
      "text/plain": [
       "  0%|          | 0/56 [00:00<?, ?it/s]"
      ]
     },
     "metadata": {},
     "output_type": "display_data"
    },
    {
     "name": "stdout",
     "output_type": "stream",
     "text": [
      "[011] train: loss 0.2407 acc 0.880 auc 0.951 | val: loss 0.4660 acc 0.715 auc 0.902\n"
     ]
    },
    {
     "data": {
      "application/vnd.jupyter.widget-view+json": {
       "model_id": "a84d17b59af34fe592e00ffd6a756b43",
       "version_major": 2,
       "version_minor": 0
      },
      "text/plain": [
       "  0%|          | 0/278 [00:00<?, ?it/s]"
      ]
     },
     "metadata": {},
     "output_type": "display_data"
    },
    {
     "data": {
      "application/vnd.jupyter.widget-view+json": {
       "model_id": "5388b992f0224c50923972d2c9111a46",
       "version_major": 2,
       "version_minor": 0
      },
      "text/plain": [
       "  0%|          | 0/56 [00:00<?, ?it/s]"
      ]
     },
     "metadata": {},
     "output_type": "display_data"
    },
    {
     "name": "stdout",
     "output_type": "stream",
     "text": [
      "[012] train: loss 0.2245 acc 0.890 auc 0.956 | val: loss 0.3843 acc 0.751 auc 0.904\n"
     ]
    },
    {
     "data": {
      "application/vnd.jupyter.widget-view+json": {
       "model_id": "992e9ceb05854c318802e90a9d634e4a",
       "version_major": 2,
       "version_minor": 0
      },
      "text/plain": [
       "  0%|          | 0/278 [00:00<?, ?it/s]"
      ]
     },
     "metadata": {},
     "output_type": "display_data"
    },
    {
     "data": {
      "application/vnd.jupyter.widget-view+json": {
       "model_id": "34a412a2a167436f89ad838ec18551e4",
       "version_major": 2,
       "version_minor": 0
      },
      "text/plain": [
       "  0%|          | 0/56 [00:00<?, ?it/s]"
      ]
     },
     "metadata": {},
     "output_type": "display_data"
    },
    {
     "name": "stdout",
     "output_type": "stream",
     "text": [
      "[013] train: loss 0.2074 acc 0.895 auc 0.964 | val: loss 0.3692 acc 0.767 auc 0.930\n"
     ]
    },
    {
     "data": {
      "application/vnd.jupyter.widget-view+json": {
       "model_id": "355accc4e4f34d489a43569a785beb21",
       "version_major": 2,
       "version_minor": 0
      },
      "text/plain": [
       "  0%|          | 0/278 [00:00<?, ?it/s]"
      ]
     },
     "metadata": {},
     "output_type": "display_data"
    },
    {
     "data": {
      "application/vnd.jupyter.widget-view+json": {
       "model_id": "2fff61d3feb742309a09763c239774ba",
       "version_major": 2,
       "version_minor": 0
      },
      "text/plain": [
       "  0%|          | 0/56 [00:00<?, ?it/s]"
      ]
     },
     "metadata": {},
     "output_type": "display_data"
    },
    {
     "name": "stdout",
     "output_type": "stream",
     "text": [
      "[014] train: loss 0.1877 acc 0.909 auc 0.970 | val: loss 0.3355 acc 0.800 auc 0.920\n"
     ]
    },
    {
     "data": {
      "application/vnd.jupyter.widget-view+json": {
       "model_id": "bc091267fd0744718a9c79e2fce27cf8",
       "version_major": 2,
       "version_minor": 0
      },
      "text/plain": [
       "  0%|          | 0/278 [00:00<?, ?it/s]"
      ]
     },
     "metadata": {},
     "output_type": "display_data"
    },
    {
     "data": {
      "application/vnd.jupyter.widget-view+json": {
       "model_id": "694f6d0a85f64a49989ab21623a5d8cb",
       "version_major": 2,
       "version_minor": 0
      },
      "text/plain": [
       "  0%|          | 0/56 [00:00<?, ?it/s]"
      ]
     },
     "metadata": {},
     "output_type": "display_data"
    },
    {
     "name": "stdout",
     "output_type": "stream",
     "text": [
      "[015] train: loss 0.1719 acc 0.916 auc 0.974 | val: loss 0.3081 acc 0.827 auc 0.927\n"
     ]
    },
    {
     "data": {
      "application/vnd.jupyter.widget-view+json": {
       "model_id": "fedb5a7e66ad4e5d8c51e917dbc6e5fd",
       "version_major": 2,
       "version_minor": 0
      },
      "text/plain": [
       "  0%|          | 0/278 [00:00<?, ?it/s]"
      ]
     },
     "metadata": {},
     "output_type": "display_data"
    },
    {
     "data": {
      "application/vnd.jupyter.widget-view+json": {
       "model_id": "ba94995ef88c4f8f9d5ac68af2010765",
       "version_major": 2,
       "version_minor": 0
      },
      "text/plain": [
       "  0%|          | 0/56 [00:00<?, ?it/s]"
      ]
     },
     "metadata": {},
     "output_type": "display_data"
    },
    {
     "name": "stdout",
     "output_type": "stream",
     "text": [
      "[016] train: loss 0.1586 acc 0.921 auc 0.980 | val: loss 0.3771 acc 0.776 auc 0.935\n"
     ]
    },
    {
     "data": {
      "application/vnd.jupyter.widget-view+json": {
       "model_id": "70a34a8e932f4bca872063f66378eb97",
       "version_major": 2,
       "version_minor": 0
      },
      "text/plain": [
       "  0%|          | 0/278 [00:00<?, ?it/s]"
      ]
     },
     "metadata": {},
     "output_type": "display_data"
    },
    {
     "data": {
      "application/vnd.jupyter.widget-view+json": {
       "model_id": "ba1eae67bfc44a23bf81a5a048b7d415",
       "version_major": 2,
       "version_minor": 0
      },
      "text/plain": [
       "  0%|          | 0/56 [00:00<?, ?it/s]"
      ]
     },
     "metadata": {},
     "output_type": "display_data"
    },
    {
     "name": "stdout",
     "output_type": "stream",
     "text": [
      "[017] train: loss 0.1470 acc 0.927 auc 0.982 | val: loss 0.2668 acc 0.843 auc 0.951\n"
     ]
    },
    {
     "data": {
      "application/vnd.jupyter.widget-view+json": {
       "model_id": "35c28b2cab6d48bab5dafeefc42cca61",
       "version_major": 2,
       "version_minor": 0
      },
      "text/plain": [
       "  0%|          | 0/278 [00:00<?, ?it/s]"
      ]
     },
     "metadata": {},
     "output_type": "display_data"
    },
    {
     "data": {
      "application/vnd.jupyter.widget-view+json": {
       "model_id": "df642b9375214b8596b8c45ac4a71446",
       "version_major": 2,
       "version_minor": 0
      },
      "text/plain": [
       "  0%|          | 0/56 [00:00<?, ?it/s]"
      ]
     },
     "metadata": {},
     "output_type": "display_data"
    },
    {
     "name": "stdout",
     "output_type": "stream",
     "text": [
      "[018] train: loss 0.1309 acc 0.938 auc 0.986 | val: loss 0.2769 acc 0.850 auc 0.943\n"
     ]
    },
    {
     "data": {
      "application/vnd.jupyter.widget-view+json": {
       "model_id": "29dfd77b75c34cb9a3d5d08877b51443",
       "version_major": 2,
       "version_minor": 0
      },
      "text/plain": [
       "  0%|          | 0/278 [00:00<?, ?it/s]"
      ]
     },
     "metadata": {},
     "output_type": "display_data"
    },
    {
     "data": {
      "application/vnd.jupyter.widget-view+json": {
       "model_id": "10ccceea391b4340abdb8ffa548cb53d",
       "version_major": 2,
       "version_minor": 0
      },
      "text/plain": [
       "  0%|          | 0/56 [00:00<?, ?it/s]"
      ]
     },
     "metadata": {},
     "output_type": "display_data"
    },
    {
     "name": "stdout",
     "output_type": "stream",
     "text": [
      "[019] train: loss 0.1270 acc 0.936 auc 0.987 | val: loss 0.2854 acc 0.842 auc 0.950\n"
     ]
    },
    {
     "data": {
      "application/vnd.jupyter.widget-view+json": {
       "model_id": "5d1bcd4a24f5495393f30c8b19ea0f90",
       "version_major": 2,
       "version_minor": 0
      },
      "text/plain": [
       "  0%|          | 0/278 [00:00<?, ?it/s]"
      ]
     },
     "metadata": {},
     "output_type": "display_data"
    },
    {
     "data": {
      "application/vnd.jupyter.widget-view+json": {
       "model_id": "ef955fca0cad493f88039b0243c138e3",
       "version_major": 2,
       "version_minor": 0
      },
      "text/plain": [
       "  0%|          | 0/56 [00:00<?, ?it/s]"
      ]
     },
     "metadata": {},
     "output_type": "display_data"
    },
    {
     "name": "stdout",
     "output_type": "stream",
     "text": [
      "[020] train: loss 0.1218 acc 0.940 auc 0.988 | val: loss 0.2797 acc 0.849 auc 0.950\n",
      "Best val AUROC: 0.9507986307144165\n"
     ]
    }
   ],
   "source": [
    "history = fit(epochs=epochs, ckpt_name=f\"cls_leukemia_{vit_name}.pt\")\n"
   ]
  },
  {
   "cell_type": "code",
   "execution_count": 22,
   "id": "9d216660",
   "metadata": {},
   "outputs": [],
   "source": [
    "import torch\n",
    "import numpy as np\n",
    "import pandas as pd\n",
    "from torch.utils.data import DataLoader\n",
    "from torchmetrics.classification import MulticlassAUROC, MulticlassAccuracy\n",
    "from sklearn.metrics import classification_report, confusion_matrix, precision_recall_fscore_support\n",
    "import matplotlib.pyplot as plt, matplotlib.patheffects as pe\n",
    "import mplcyberpunk\n",
    "plt.style.use(\"cyberpunk\")"
   ]
  },
  {
   "cell_type": "code",
   "execution_count": 23,
   "id": "ef96f430",
   "metadata": {},
   "outputs": [],
   "source": [
    "model.eval()\n",
    "logits_list, targets_list = [], []\n",
    "with torch.no_grad():\n",
    "    for x, y in test_loader:\n",
    "        x = x.to(device, non_blocking=True)\n",
    "        logits_list.append(model(x).cpu())\n",
    "        targets_list.append(torch.as_tensor(y))\n",
    "\n",
    "logits   = torch.cat(logits_list)           \n",
    "probs_t  = torch.softmax(logits, dim=1)     \n",
    "targets  = torch.cat(targets_list).long()   \n",
    "preds_t  = probs_t.argmax(dim=1)  "
   ]
  },
  {
   "cell_type": "code",
   "execution_count": 24,
   "id": "2947e1af",
   "metadata": {},
   "outputs": [
    {
     "name": "stdout",
     "output_type": "stream",
     "text": [
      "Test Accuracy (macro): 0.6270\n",
      "Test Macro AUROC    : 0.7869\n"
     ]
    }
   ],
   "source": [
    "auroc = MulticlassAUROC(num_classes=len(val_ds.classes), average=\"macro\")(probs_t, targets).item()\n",
    "acc   = MulticlassAccuracy(num_classes=len(val_ds.classes), average=\"macro\")(preds_t, targets).item()\n",
    "preds = preds_t.numpy()\n",
    "targets_np = targets.numpy()\n",
    "\n",
    "prec, rec, f1, sup = precision_recall_fscore_support(\n",
    "    targets_np, preds, labels=range(len(val_ds.classes)), zero_division=0\n",
    ")\n",
    "\n",
    "print(f\"Test Accuracy (macro): {acc:.4f}\")\n",
    "print(f\"Test Macro AUROC    : {auroc:.4f}\")"
   ]
  },
  {
   "cell_type": "code",
   "execution_count": 25,
   "id": "0181330d",
   "metadata": {},
   "outputs": [
    {
     "data": {
      "text/html": [
       "<div>\n",
       "<style scoped>\n",
       "    .dataframe tbody tr th:only-of-type {\n",
       "        vertical-align: middle;\n",
       "    }\n",
       "\n",
       "    .dataframe tbody tr th {\n",
       "        vertical-align: top;\n",
       "    }\n",
       "\n",
       "    .dataframe thead th {\n",
       "        text-align: right;\n",
       "    }\n",
       "</style>\n",
       "<table border=\"1\" class=\"dataframe\">\n",
       "  <thead>\n",
       "    <tr style=\"text-align: right;\">\n",
       "      <th></th>\n",
       "      <th>precision</th>\n",
       "      <th>recall</th>\n",
       "      <th>f1</th>\n",
       "      <th>support</th>\n",
       "    </tr>\n",
       "  </thead>\n",
       "  <tbody>\n",
       "    <tr>\n",
       "      <th>all</th>\n",
       "      <td>0.719603</td>\n",
       "      <td>0.951600</td>\n",
       "      <td>0.819498</td>\n",
       "      <td>1219</td>\n",
       "    </tr>\n",
       "    <tr>\n",
       "      <th>hem</th>\n",
       "      <td>0.768627</td>\n",
       "      <td>0.302469</td>\n",
       "      <td>0.434109</td>\n",
       "      <td>648</td>\n",
       "    </tr>\n",
       "  </tbody>\n",
       "</table>\n",
       "</div>"
      ],
      "text/plain": [
       "     precision    recall        f1  support\n",
       "all   0.719603  0.951600  0.819498     1219\n",
       "hem   0.768627  0.302469  0.434109      648"
      ]
     },
     "metadata": {},
     "output_type": "display_data"
    }
   ],
   "source": [
    "per_class_df = pd.DataFrame(\n",
    "    {\"precision\": prec, \"recall\": rec, \"f1\": f1, \"support\": sup},\n",
    "    index=val_ds.classes\n",
    ")\n",
    "display(per_class_df)"
   ]
  },
  {
   "cell_type": "code",
   "execution_count": 26,
   "id": "439d0178",
   "metadata": {},
   "outputs": [],
   "source": [
    "cm = confusion_matrix(targets_np, preds)\n",
    "\n",
    "def plot_confusion_matrix_cyberpunk(cm, class_names, title, save_path=None, normalize=False):\n",
    "    cm_disp = cm.astype(float)\n",
    "    if normalize:\n",
    "        row_sums = cm_disp.sum(axis=1, keepdims=True).clip(min=1)\n",
    "        cm_disp = cm_disp / row_sums\n",
    "\n",
    "    fig, ax = plt.subplots(figsize=(7,5))\n",
    "    im = ax.imshow(cm_disp, cmap=\"magma\")\n",
    "    fig.colorbar(im, ax=ax, fraction=0.046, pad=0.04)\n",
    "\n",
    "    ax.set_xticks(np.arange(len(class_names)), labels=class_names, rotation=30, ha=\"right\")\n",
    "    ax.set_yticks(np.arange(len(class_names)), labels=class_names)\n",
    "    ax.set_xlabel(\"Predicted\"); ax.set_ylabel(\"True\"); ax.set_title(title)\n",
    "\n",
    "    for i in range(cm.shape[0]):\n",
    "        for j in range(cm.shape[1]):\n",
    "            txt = f\"{cm_disp[i, j]:.2f}\" if normalize else f\"{cm[i, j]}\"\n",
    "            ax.text(j, i, txt, ha=\"center\", va=\"center\", color=\"white\", fontsize=10,\n",
    "                    path_effects=[pe.withStroke(linewidth=2, foreground=\"black\")])\n",
    "\n",
    "    mplcyberpunk.make_lines_glow(ax=ax)\n",
    "    plt.tight_layout()\n",
    "    if save_path is not None:\n",
    "        plt.savefig(save_path, dpi=150)\n",
    "        print(\"Saved →\", save_path)\n",
    "    plt.show()\n",
    "\n",
    "FIG_DIR = REPO_ROOT / \"results\" / \"figures\"; FIG_DIR.mkdir(parents=True, exist_ok=True)"
   ]
  },
  {
   "cell_type": "code",
   "execution_count": 27,
   "id": "7e8f79ae",
   "metadata": {},
   "outputs": [
    {
     "name": "stdout",
     "output_type": "stream",
     "text": [
      "Saved → C:\\Users\\Lenovo\\Desktop\\Exploration-of-ViT-and-CNN-for-Medical-Image-Processing\\results\\figures\\vit_confusion_matrix_counts.png\n"
     ]
    },
    {
     "data": {
      "image/png": "[encoded data removed]",
      "text/plain": [
       "<Figure size 700x500 with 2 Axes>"
      ]
     },
     "metadata": {},
     "output_type": "display_data"
    }
   ],
   "source": [
    "plot_confusion_matrix_cyberpunk(\n",
    "    cm, val_ds.classes,\n",
    "    title=\"Confusion Matrix (counts)\",\n",
    "    save_path=FIG_DIR / \"vit_confusion_matrix_counts.png\",\n",
    "    normalize=False\n",
    ")"
   ]
  },
  {
   "cell_type": "code",
   "execution_count": 28,
   "id": "62b1fc6e",
   "metadata": {},
   "outputs": [
    {
     "name": "stdout",
     "output_type": "stream",
     "text": [
      "Saved → C:\\Users\\Lenovo\\Desktop\\Exploration-of-ViT-and-CNN-for-Medical-Image-Processing\\results\\figures\\vit_confusion_matrix_norm.png\n"
     ]
    },
    {
     "data": {
      "image/png": "[encoded data removed]",
      "text/plain": [
       "<Figure size 700x500 with 2 Axes>"
      ]
     },
     "metadata": {},
     "output_type": "display_data"
    }
   ],
   "source": [
    "plot_confusion_matrix_cyberpunk(\n",
    "    cm, val_ds.classes,\n",
    "    title=\"Confusion Matrix (normalized)\",\n",
    "    save_path=FIG_DIR / \"vit_confusion_matrix_norm.png\",\n",
    "    normalize=True\n",
    ")"
   ]
  },
  {
   "cell_type": "code",
   "execution_count": 29,
   "id": "88cd6bf5",
   "metadata": {},
   "outputs": [
    {
     "data": {
      "image/png": "[encoded data removed]",
      "text/plain": [
       "<Figure size 1000x400 with 2 Axes>"
      ]
     },
     "metadata": {},
     "output_type": "display_data"
    }
   ],
   "source": [
    "import json\n",
    "import matplotlib.pyplot as plt\n",
    "from pathlib import Path\n",
    "\n",
    "hist_path = REPO_ROOT / \"results\" / \"metrics\" / \"leukemia_vit_history.json\"\n",
    "hist = json.loads(Path(hist_path).read_text())\n",
    "\n",
    "# Extract values\n",
    "epochs  = [h[\"epoch\"] for h in hist]\n",
    "tr_loss = [h[\"train_loss\"] for h in hist]; va_loss = [h[\"val_loss\"] for h in hist]\n",
    "tr_auc  = [h[\"train_auroc\"] for h in hist]; va_auc  = [h[\"val_auroc\"] for h in hist]\n",
    "\n",
    "# Plot Loss\n",
    "plt.figure(figsize=(10,4))\n",
    "plt.subplot(1,2,1)\n",
    "plt.plot(epochs, tr_loss, label=\"train\"); plt.plot(epochs, va_loss, label=\"val\")\n",
    "plt.title(\"Loss\"); plt.xlabel(\"epoch\"); plt.legend()\n",
    "\n",
    "# Plot AUROC\n",
    "plt.subplot(1,2,2)\n",
    "plt.plot(epochs, tr_auc, label=\"train\"); plt.plot(epochs, va_auc, label=\"val\")\n",
    "plt.title(\"Macro AUROC\"); plt.xlabel(\"epoch\"); plt.legend()\n",
    "\n",
    "plt.tight_layout(); plt.show()\n"
   ]
  },
  {
   "cell_type": "code",
   "execution_count": 31,
   "id": "a73b6990",
   "metadata": {},
   "outputs": [
    {
     "name": "stderr",
     "output_type": "stream",
     "text": [
      "c:\\Users\\Lenovo\\Desktop\\Exploration-of-ViT-and-CNN-for-Medical-Image-Processing\\.venv\\Lib\\site-packages\\torch\\__init__.py:2040: TracerWarning: Converting a tensor to a Python boolean might cause the trace to be incorrect. We can't record the data flow of Python values, so this value will be treated as a constant in the future. This means that the trace might not generalize to other inputs!\n",
      "  assert condition, message\n"
     ]
    },
    {
     "name": "stdout",
     "output_type": "stream",
     "text": [
      "ONNX saved → C:\\Users\\Lenovo\\Desktop\\Exploration-of-ViT-and-CNN-for-Medical-Image-Processing\\exports\\onnx\\leukemia_vit_tiny.onnx\n",
      "TorchScript saved → C:\\Users\\Lenovo\\Desktop\\Exploration-of-ViT-and-CNN-for-Medical-Image-Processing\\exports\\torchscript\\leukemia_vit_tiny.pt\n"
     ]
    }
   ],
   "source": [
    "# === Export ViT model to ONNX & TorchScript ===\n",
    "from pathlib import Path\n",
    "import torch\n",
    "\n",
    "onnx_out = Path(r\"C:\\Users\\Lenovo\\Desktop\\Exploration-of-ViT-and-CNN-for-Medical-Image-Processing\\exports\\onnx\\leukemia_vit_tiny.onnx\")\n",
    "ts_out   = Path(r\"C:\\Users\\Lenovo\\Desktop\\Exploration-of-ViT-and-CNN-for-Medical-Image-Processing\\exports\\torchscript\\leukemia_vit_tiny.pt\")\n",
    "\n",
    "onnx_out.parent.mkdir(parents=True, exist_ok=True)\n",
    "ts_out.parent.mkdir(parents=True, exist_ok=True)\n",
    "\n",
    "dummy = torch.randn(1, 3, 224, 224, device=device)\n",
    "model.eval()\n",
    "\n",
    "# Export to ONNX\n",
    "torch.onnx.export(\n",
    "    model, dummy, onnx_out.as_posix(),\n",
    "    input_names=[\"input\"], output_names=[\"logits\"],\n",
    "    opset_version=17, do_constant_folding=True,\n",
    "    dynamic_axes={\"input\": {0: \"batch\"}, \"logits\": {0: \"batch\"}}\n",
    ")\n",
    "print(\"ONNX saved →\", onnx_out)\n",
    "\n",
    "# Export to TorchScript\n",
    "traced = torch.jit.trace(model, dummy)\n",
    "traced.save(ts_out.as_posix())\n",
    "print(\"TorchScript saved →\", ts_out)\n"
   ]
  },
  {
   "cell_type": "code",
   "execution_count": null,
   "id": "ae22cc65",
   "metadata": {},
   "outputs": [],
   "source": []
  }
 ],
 "metadata": {
  "kernelspec": {
   "display_name": ".venv",
   "language": "python",
   "name": "python3"
  },
  "language_info": {
   "codemirror_mode": {
    "name": "ipython",
    "version": 3
   },
   "file_extension": ".py",
   "mimetype": "text/x-python",
   "name": "python",
   "nbconvert_exporter": "python",
   "pygments_lexer": "ipython3",
   "version": "3.11.9"
  }
 },
 "nbformat": 4,
 "nbformat_minor": 5
}
