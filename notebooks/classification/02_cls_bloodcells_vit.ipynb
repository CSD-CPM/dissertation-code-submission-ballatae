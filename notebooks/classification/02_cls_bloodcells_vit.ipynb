{
 "cells": [
  {
   "cell_type": "code",
   "execution_count": 1,
   "id": "ada263c1",
   "metadata": {},
   "outputs": [
    {
     "name": "stdout",
     "output_type": "stream",
     "text": [
      "Requirement already satisfied: timm in c:\\users\\lenovo\\desktop\\exploration-of-vit-and-cnn-for-medical-image-processing\\.venv\\lib\\site-packages (1.0.19)\n",
      "Requirement already satisfied: torch in c:\\users\\lenovo\\desktop\\exploration-of-vit-and-cnn-for-medical-image-processing\\.venv\\lib\\site-packages (from timm) (2.5.1+cu121)\n",
      "Requirement already satisfied: torchvision in c:\\users\\lenovo\\desktop\\exploration-of-vit-and-cnn-for-medical-image-processing\\.venv\\lib\\site-packages (from timm) (0.20.1+cu121)\n",
      "Requirement already satisfied: pyyaml in c:\\users\\lenovo\\desktop\\exploration-of-vit-and-cnn-for-medical-image-processing\\.venv\\lib\\site-packages (from timm) (6.0.2)\n",
      "Requirement already satisfied: huggingface_hub in c:\\users\\lenovo\\desktop\\exploration-of-vit-and-cnn-for-medical-image-processing\\.venv\\lib\\site-packages (from timm) (0.34.4)\n",
      "Requirement already satisfied: safetensors in c:\\users\\lenovo\\desktop\\exploration-of-vit-and-cnn-for-medical-image-processing\\.venv\\lib\\site-packages (from timm) (0.6.2)\n",
      "Requirement already satisfied: filelock in c:\\users\\lenovo\\desktop\\exploration-of-vit-and-cnn-for-medical-image-processing\\.venv\\lib\\site-packages (from huggingface_hub->timm) (3.13.1)\n",
      "Requirement already satisfied: fsspec>=2023.5.0 in c:\\users\\lenovo\\desktop\\exploration-of-vit-and-cnn-for-medical-image-processing\\.venv\\lib\\site-packages (from huggingface_hub->timm) (2024.6.1)\n",
      "Requirement already satisfied: packaging>=20.9 in c:\\users\\lenovo\\desktop\\exploration-of-vit-and-cnn-for-medical-image-processing\\.venv\\lib\\site-packages (from huggingface_hub->timm) (25.0)\n",
      "Requirement already satisfied: requests in c:\\users\\lenovo\\desktop\\exploration-of-vit-and-cnn-for-medical-image-processing\\.venv\\lib\\site-packages (from huggingface_hub->timm) (2.32.5)\n",
      "Requirement already satisfied: tqdm>=4.42.1 in c:\\users\\lenovo\\desktop\\exploration-of-vit-and-cnn-for-medical-image-processing\\.venv\\lib\\site-packages (from huggingface_hub->timm) (4.67.1)\n",
      "Requirement already satisfied: typing-extensions>=3.7.4.3 in c:\\users\\lenovo\\desktop\\exploration-of-vit-and-cnn-for-medical-image-processing\\.venv\\lib\\site-packages (from huggingface_hub->timm) (4.12.2)\n",
      "Requirement already satisfied: colorama in c:\\users\\lenovo\\desktop\\exploration-of-vit-and-cnn-for-medical-image-processing\\.venv\\lib\\site-packages (from tqdm>=4.42.1->huggingface_hub->timm) (0.4.6)\n",
      "Requirement already satisfied: charset_normalizer<4,>=2 in c:\\users\\lenovo\\desktop\\exploration-of-vit-and-cnn-for-medical-image-processing\\.venv\\lib\\site-packages (from requests->huggingface_hub->timm) (3.4.3)\n",
      "Requirement already satisfied: idna<4,>=2.5 in c:\\users\\lenovo\\desktop\\exploration-of-vit-and-cnn-for-medical-image-processing\\.venv\\lib\\site-packages (from requests->huggingface_hub->timm) (3.10)\n",
      "Requirement already satisfied: urllib3<3,>=1.21.1 in c:\\users\\lenovo\\desktop\\exploration-of-vit-and-cnn-for-medical-image-processing\\.venv\\lib\\site-packages (from requests->huggingface_hub->timm) (2.5.0)\n",
      "Requirement already satisfied: certifi>=2017.4.17 in c:\\users\\lenovo\\desktop\\exploration-of-vit-and-cnn-for-medical-image-processing\\.venv\\lib\\site-packages (from requests->huggingface_hub->timm) (2025.8.3)\n",
      "Requirement already satisfied: networkx in c:\\users\\lenovo\\desktop\\exploration-of-vit-and-cnn-for-medical-image-processing\\.venv\\lib\\site-packages (from torch->timm) (3.3)\n",
      "Requirement already satisfied: jinja2 in c:\\users\\lenovo\\desktop\\exploration-of-vit-and-cnn-for-medical-image-processing\\.venv\\lib\\site-packages (from torch->timm) (3.1.4)\n",
      "Requirement already satisfied: setuptools in c:\\users\\lenovo\\desktop\\exploration-of-vit-and-cnn-for-medical-image-processing\\.venv\\lib\\site-packages (from torch->timm) (70.2.0)\n",
      "Requirement already satisfied: sympy==1.13.1 in c:\\users\\lenovo\\desktop\\exploration-of-vit-and-cnn-for-medical-image-processing\\.venv\\lib\\site-packages (from torch->timm) (1.13.1)\n",
      "Requirement already satisfied: mpmath<1.4,>=1.1.0 in c:\\users\\lenovo\\desktop\\exploration-of-vit-and-cnn-for-medical-image-processing\\.venv\\lib\\site-packages (from sympy==1.13.1->torch->timm) (1.3.0)\n",
      "Requirement already satisfied: MarkupSafe>=2.0 in c:\\users\\lenovo\\desktop\\exploration-of-vit-and-cnn-for-medical-image-processing\\.venv\\lib\\site-packages (from jinja2->torch->timm) (2.1.5)\n",
      "Requirement already satisfied: numpy in c:\\users\\lenovo\\desktop\\exploration-of-vit-and-cnn-for-medical-image-processing\\.venv\\lib\\site-packages (from torchvision->timm) (2.1.2)\n",
      "Requirement already satisfied: pillow!=8.3.*,>=5.3.0 in c:\\users\\lenovo\\desktop\\exploration-of-vit-and-cnn-for-medical-image-processing\\.venv\\lib\\site-packages (from torchvision->timm) (11.0.0)\n",
      "Note: you may need to restart the kernel to use updated packages.\n",
      "Requirement already satisfied: timm in c:\\users\\lenovo\\desktop\\exploration-of-vit-and-cnn-for-medical-image-processing\\.venv\\lib\\site-packages (1.0.19)\n",
      "Requirement already satisfied: mplcyberpunk in c:\\users\\lenovo\\desktop\\exploration-of-vit-and-cnn-for-medical-image-processing\\.venv\\lib\\site-packages (0.7.6)\n",
      "Requirement already satisfied: torch in c:\\users\\lenovo\\desktop\\exploration-of-vit-and-cnn-for-medical-image-processing\\.venv\\lib\\site-packages (from timm) (2.5.1+cu121)\n",
      "Requirement already satisfied: torchvision in c:\\users\\lenovo\\desktop\\exploration-of-vit-and-cnn-for-medical-image-processing\\.venv\\lib\\site-packages (from timm) (0.20.1+cu121)\n",
      "Requirement already satisfied: pyyaml in c:\\users\\lenovo\\desktop\\exploration-of-vit-and-cnn-for-medical-image-processing\\.venv\\lib\\site-packages (from timm) (6.0.2)\n",
      "Requirement already satisfied: huggingface_hub in c:\\users\\lenovo\\desktop\\exploration-of-vit-and-cnn-for-medical-image-processing\\.venv\\lib\\site-packages (from timm) (0.34.4)\n",
      "Requirement already satisfied: safetensors in c:\\users\\lenovo\\desktop\\exploration-of-vit-and-cnn-for-medical-image-processing\\.venv\\lib\\site-packages (from timm) (0.6.2)\n",
      "Requirement already satisfied: matplotlib in c:\\users\\lenovo\\desktop\\exploration-of-vit-and-cnn-for-medical-image-processing\\.venv\\lib\\site-packages (from mplcyberpunk) (3.10.5)\n",
      "Requirement already satisfied: numpy>1.24.4 in c:\\users\\lenovo\\desktop\\exploration-of-vit-and-cnn-for-medical-image-processing\\.venv\\lib\\site-packages (from mplcyberpunk) (2.1.2)\n",
      "Requirement already satisfied: filelock in c:\\users\\lenovo\\desktop\\exploration-of-vit-and-cnn-for-medical-image-processing\\.venv\\lib\\site-packages (from huggingface_hub->timm) (3.13.1)\n",
      "Requirement already satisfied: fsspec>=2023.5.0 in c:\\users\\lenovo\\desktop\\exploration-of-vit-and-cnn-for-medical-image-processing\\.venv\\lib\\site-packages (from huggingface_hub->timm) (2024.6.1)\n",
      "Requirement already satisfied: packaging>=20.9 in c:\\users\\lenovo\\desktop\\exploration-of-vit-and-cnn-for-medical-image-processing\\.venv\\lib\\site-packages (from huggingface_hub->timm) (25.0)\n",
      "Requirement already satisfied: requests in c:\\users\\lenovo\\desktop\\exploration-of-vit-and-cnn-for-medical-image-processing\\.venv\\lib\\site-packages (from huggingface_hub->timm) (2.32.5)\n",
      "Requirement already satisfied: tqdm>=4.42.1 in c:\\users\\lenovo\\desktop\\exploration-of-vit-and-cnn-for-medical-image-processing\\.venv\\lib\\site-packages (from huggingface_hub->timm) (4.67.1)\n",
      "Requirement already satisfied: typing-extensions>=3.7.4.3 in c:\\users\\lenovo\\desktop\\exploration-of-vit-and-cnn-for-medical-image-processing\\.venv\\lib\\site-packages (from huggingface_hub->timm) (4.12.2)\n",
      "Requirement already satisfied: colorama in c:\\users\\lenovo\\desktop\\exploration-of-vit-and-cnn-for-medical-image-processing\\.venv\\lib\\site-packages (from tqdm>=4.42.1->huggingface_hub->timm) (0.4.6)\n",
      "Requirement already satisfied: contourpy>=1.0.1 in c:\\users\\lenovo\\desktop\\exploration-of-vit-and-cnn-for-medical-image-processing\\.venv\\lib\\site-packages (from matplotlib->mplcyberpunk) (1.3.3)\n",
      "Requirement already satisfied: cycler>=0.10 in c:\\users\\lenovo\\desktop\\exploration-of-vit-and-cnn-for-medical-image-processing\\.venv\\lib\\site-packages (from matplotlib->mplcyberpunk) (0.12.1)\n",
      "Requirement already satisfied: fonttools>=4.22.0 in c:\\users\\lenovo\\desktop\\exploration-of-vit-and-cnn-for-medical-image-processing\\.venv\\lib\\site-packages (from matplotlib->mplcyberpunk) (4.59.2)\n",
      "Requirement already satisfied: kiwisolver>=1.3.1 in c:\\users\\lenovo\\desktop\\exploration-of-vit-and-cnn-for-medical-image-processing\\.venv\\lib\\site-packages (from matplotlib->mplcyberpunk) (1.4.9)\n",
      "Requirement already satisfied: pillow>=8 in c:\\users\\lenovo\\desktop\\exploration-of-vit-and-cnn-for-medical-image-processing\\.venv\\lib\\site-packages (from matplotlib->mplcyberpunk) (11.0.0)\n",
      "Requirement already satisfied: pyparsing>=2.3.1 in c:\\users\\lenovo\\desktop\\exploration-of-vit-and-cnn-for-medical-image-processing\\.venv\\lib\\site-packages (from matplotlib->mplcyberpunk) (3.2.3)\n",
      "Requirement already satisfied: python-dateutil>=2.7 in c:\\users\\lenovo\\desktop\\exploration-of-vit-and-cnn-for-medical-image-processing\\.venv\\lib\\site-packages (from matplotlib->mplcyberpunk) (2.9.0.post0)\n",
      "Requirement already satisfied: six>=1.5 in c:\\users\\lenovo\\desktop\\exploration-of-vit-and-cnn-for-medical-image-processing\\.venv\\lib\\site-packages (from python-dateutil>=2.7->matplotlib->mplcyberpunk) (1.17.0)\n",
      "Requirement already satisfied: charset_normalizer<4,>=2 in c:\\users\\lenovo\\desktop\\exploration-of-vit-and-cnn-for-medical-image-processing\\.venv\\lib\\site-packages (from requests->huggingface_hub->timm) (3.4.3)\n",
      "Requirement already satisfied: idna<4,>=2.5 in c:\\users\\lenovo\\desktop\\exploration-of-vit-and-cnn-for-medical-image-processing\\.venv\\lib\\site-packages (from requests->huggingface_hub->timm) (3.10)\n",
      "Requirement already satisfied: urllib3<3,>=1.21.1 in c:\\users\\lenovo\\desktop\\exploration-of-vit-and-cnn-for-medical-image-processing\\.venv\\lib\\site-packages (from requests->huggingface_hub->timm) (2.5.0)\n",
      "Requirement already satisfied: certifi>=2017.4.17 in c:\\users\\lenovo\\desktop\\exploration-of-vit-and-cnn-for-medical-image-processing\\.venv\\lib\\site-packages (from requests->huggingface_hub->timm) (2025.8.3)\n",
      "Requirement already satisfied: networkx in c:\\users\\lenovo\\desktop\\exploration-of-vit-and-cnn-for-medical-image-processing\\.venv\\lib\\site-packages (from torch->timm) (3.3)\n",
      "Requirement already satisfied: jinja2 in c:\\users\\lenovo\\desktop\\exploration-of-vit-and-cnn-for-medical-image-processing\\.venv\\lib\\site-packages (from torch->timm) (3.1.4)\n",
      "Requirement already satisfied: setuptools in c:\\users\\lenovo\\desktop\\exploration-of-vit-and-cnn-for-medical-image-processing\\.venv\\lib\\site-packages (from torch->timm) (70.2.0)\n",
      "Requirement already satisfied: sympy==1.13.1 in c:\\users\\lenovo\\desktop\\exploration-of-vit-and-cnn-for-medical-image-processing\\.venv\\lib\\site-packages (from torch->timm) (1.13.1)\n",
      "Requirement already satisfied: mpmath<1.4,>=1.1.0 in c:\\users\\lenovo\\desktop\\exploration-of-vit-and-cnn-for-medical-image-processing\\.venv\\lib\\site-packages (from sympy==1.13.1->torch->timm) (1.3.0)\n",
      "Requirement already satisfied: MarkupSafe>=2.0 in c:\\users\\lenovo\\desktop\\exploration-of-vit-and-cnn-for-medical-image-processing\\.venv\\lib\\site-packages (from jinja2->torch->timm) (2.1.5)\n",
      "Note: you may need to restart the kernel to use updated packages.\n",
      "Collecting ipywidgets\n",
      "  Downloading ipywidgets-8.1.7-py3-none-any.whl.metadata (2.4 kB)\n",
      "Requirement already satisfied: comm>=0.1.3 in c:\\users\\lenovo\\desktop\\exploration-of-vit-and-cnn-for-medical-image-processing\\.venv\\lib\\site-packages (from ipywidgets) (0.2.3)\n",
      "Requirement already satisfied: ipython>=6.1.0 in c:\\users\\lenovo\\desktop\\exploration-of-vit-and-cnn-for-medical-image-processing\\.venv\\lib\\site-packages (from ipywidgets) (9.4.0)\n",
      "Requirement already satisfied: traitlets>=4.3.1 in c:\\users\\lenovo\\desktop\\exploration-of-vit-and-cnn-for-medical-image-processing\\.venv\\lib\\site-packages (from ipywidgets) (5.14.3)\n",
      "Collecting widgetsnbextension~=4.0.14 (from ipywidgets)\n",
      "  Downloading widgetsnbextension-4.0.14-py3-none-any.whl.metadata (1.6 kB)\n",
      "Collecting jupyterlab_widgets~=3.0.15 (from ipywidgets)\n",
      "  Downloading jupyterlab_widgets-3.0.15-py3-none-any.whl.metadata (20 kB)\n",
      "Requirement already satisfied: colorama in c:\\users\\lenovo\\desktop\\exploration-of-vit-and-cnn-for-medical-image-processing\\.venv\\lib\\site-packages (from ipython>=6.1.0->ipywidgets) (0.4.6)\n",
      "Requirement already satisfied: decorator in c:\\users\\lenovo\\desktop\\exploration-of-vit-and-cnn-for-medical-image-processing\\.venv\\lib\\site-packages (from ipython>=6.1.0->ipywidgets) (5.2.1)\n",
      "Requirement already satisfied: ipython-pygments-lexers in c:\\users\\lenovo\\desktop\\exploration-of-vit-and-cnn-for-medical-image-processing\\.venv\\lib\\site-packages (from ipython>=6.1.0->ipywidgets) (1.1.1)\n",
      "Requirement already satisfied: jedi>=0.16 in c:\\users\\lenovo\\desktop\\exploration-of-vit-and-cnn-for-medical-image-processing\\.venv\\lib\\site-packages (from ipython>=6.1.0->ipywidgets) (0.19.2)\n",
      "Requirement already satisfied: matplotlib-inline in c:\\users\\lenovo\\desktop\\exploration-of-vit-and-cnn-for-medical-image-processing\\.venv\\lib\\site-packages (from ipython>=6.1.0->ipywidgets) (0.1.7)\n",
      "Requirement already satisfied: prompt_toolkit<3.1.0,>=3.0.41 in c:\\users\\lenovo\\desktop\\exploration-of-vit-and-cnn-for-medical-image-processing\\.venv\\lib\\site-packages (from ipython>=6.1.0->ipywidgets) (3.0.52)\n",
      "Requirement already satisfied: pygments>=2.4.0 in c:\\users\\lenovo\\desktop\\exploration-of-vit-and-cnn-for-medical-image-processing\\.venv\\lib\\site-packages (from ipython>=6.1.0->ipywidgets) (2.19.2)\n",
      "Requirement already satisfied: stack_data in c:\\users\\lenovo\\desktop\\exploration-of-vit-and-cnn-for-medical-image-processing\\.venv\\lib\\site-packages (from ipython>=6.1.0->ipywidgets) (0.6.3)\n",
      "Requirement already satisfied: wcwidth in c:\\users\\lenovo\\desktop\\exploration-of-vit-and-cnn-for-medical-image-processing\\.venv\\lib\\site-packages (from prompt_toolkit<3.1.0,>=3.0.41->ipython>=6.1.0->ipywidgets) (0.2.13)\n",
      "Requirement already satisfied: parso<0.9.0,>=0.8.4 in c:\\users\\lenovo\\desktop\\exploration-of-vit-and-cnn-for-medical-image-processing\\.venv\\lib\\site-packages (from jedi>=0.16->ipython>=6.1.0->ipywidgets) (0.8.5)\n",
      "Requirement already satisfied: executing>=1.2.0 in c:\\users\\lenovo\\desktop\\exploration-of-vit-and-cnn-for-medical-image-processing\\.venv\\lib\\site-packages (from stack_data->ipython>=6.1.0->ipywidgets) (2.2.0)\n",
      "Requirement already satisfied: asttokens>=2.1.0 in c:\\users\\lenovo\\desktop\\exploration-of-vit-and-cnn-for-medical-image-processing\\.venv\\lib\\site-packages (from stack_data->ipython>=6.1.0->ipywidgets) (3.0.0)\n",
      "Requirement already satisfied: pure-eval in c:\\users\\lenovo\\desktop\\exploration-of-vit-and-cnn-for-medical-image-processing\\.venv\\lib\\site-packages (from stack_data->ipython>=6.1.0->ipywidgets) (0.2.3)\n",
      "Downloading ipywidgets-8.1.7-py3-none-any.whl (139 kB)\n",
      "Downloading jupyterlab_widgets-3.0.15-py3-none-any.whl (216 kB)\n",
      "Downloading widgetsnbextension-4.0.14-py3-none-any.whl (2.2 MB)\n",
      "   ---------------------------------------- 0.0/2.2 MB ? eta -:--:--\n",
      "   ---------------------------------------- 2.2/2.2 MB 17.7 MB/s  0:00:00\n",
      "Installing collected packages: widgetsnbextension, jupyterlab_widgets, ipywidgets\n",
      "\n",
      "   -------------------------- ------------- 2/3 [ipywidgets]\n",
      "   -------------------------- ------------- 2/3 [ipywidgets]\n",
      "   -------------------------- ------------- 2/3 [ipywidgets]\n",
      "   -------------------------- ------------- 2/3 [ipywidgets]\n",
      "   -------------------------- ------------- 2/3 [ipywidgets]\n",
      "   ---------------------------------------- 3/3 [ipywidgets]\n",
      "\n",
      "Successfully installed ipywidgets-8.1.7 jupyterlab_widgets-3.0.15 widgetsnbextension-4.0.14\n",
      "Note: you may need to restart the kernel to use updated packages.\n"
     ]
    }
   ],
   "source": [
    "%pip install timm\n",
    "%pip install timm mplcyberpunk\n",
    "%pip install ipywidgets"
   ]
  },
  {
   "cell_type": "code",
   "execution_count": 2,
   "id": "d9de4893",
   "metadata": {},
   "outputs": [],
   "source": [
    "from pathlib import Path\n",
    "import os, json, random, math\n",
    "import numpy as np\n",
    "import pandas as pd\n",
    "import matplotlib.pyplot as plt\n",
    "\n",
    "import torch\n",
    "import torch.nn as nn\n",
    "import torch.optim as optim\n",
    "from torch.utils.data import Dataset, DataLoader\n",
    "\n",
    "from sklearn.metrics import classification_report, confusion_matrix\n",
    "from torchmetrics.classification import MulticlassAUROC, MulticlassAccuracy\n",
    "\n",
    "try:\n",
    "    from tqdm.auto import tqdm\n",
    "except Exception:\n",
    "    from tqdm import tqdm  \n",
    "\n",
    "import timm\n",
    "from PIL import Image\n",
    "import mplcyberpunk\n",
    "plt.style.use(\"cyberpunk\")"
   ]
  },
  {
   "cell_type": "code",
   "execution_count": 3,
   "id": "84164379",
   "metadata": {},
   "outputs": [
    {
     "name": "stdout",
     "output_type": "stream",
     "text": [
      "torch: 2.5.1+cu121\n",
      "timm : 1.0.19\n",
      "device: cuda\n",
      "GPU: NVIDIA GeForce GTX 1650 Ti\n"
     ]
    }
   ],
   "source": [
    "print(\"torch:\", torch.__version__)\n",
    "print(\"timm :\", timm.__version__)\n",
    "\n",
    "device = torch.device(\"cuda\" if torch.cuda.is_available() else \"cpu\")\n",
    "print(\"device:\", device)\n",
    "if torch.cuda.is_available():\n",
    "    print(\"GPU:\", torch.cuda.get_device_name(0))\n",
    "\n",
    "def set_seed(seed=42):\n",
    "    os.environ[\"PYTHONHASHSEED\"] = str(seed)\n",
    "    random.seed(seed); np.random.seed(seed)\n",
    "    torch.manual_seed(seed); torch.cuda.manual_seed_all(seed)\n",
    "    torch.backends.cudnn.deterministic = False\n",
    "    torch.backends.cudnn.benchmark = True\n",
    "\n",
    "set_seed(42)"
   ]
  },
  {
   "cell_type": "code",
   "execution_count": 4,
   "id": "eca5d9cb",
   "metadata": {},
   "outputs": [
    {
     "name": "stdout",
     "output_type": "stream",
     "text": [
      "classes: ['basophil', 'erythroblast', 'monocyte', 'myeloblast', 'seg_neutrophil']\n"
     ]
    }
   ],
   "source": [
    "REPO_ROOT = Path.cwd().parents[1] if (Path.cwd().name == \"classification\" and Path.cwd().parent.name == \"notebooks\") else Path.cwd()\n",
    "SPLIT_DIR = REPO_ROOT / \"data\" / \"processed\" / \"classification\" / \"blood_cell_images_for_cancer_detection_processed\" / \"splits\" / \"fold0\"\n",
    "assert SPLIT_DIR.exists(), f\"Missing splits at: {SPLIT_DIR}\"\n",
    "\n",
    "with open(SPLIT_DIR / \"label_map.json\") as f:\n",
    "    label_map = {int(k): v for k, v in json.load(f).items()}\n",
    "class_names = [label_map[i] for i in sorted(label_map)]\n",
    "num_classes = len(class_names)\n",
    "print(\"classes:\", class_names)\n",
    "\n",
    "class CSVDataset(Dataset):\n",
    "    def __init__(self, csv_path, transform=None, repo_root=REPO_ROOT):\n",
    "        df = pd.read_csv(csv_path)\n",
    "        self.paths = [repo_root / p for p in df[\"path\"].tolist()]\n",
    "        self.labels = df[\"label\"].astype(int).tolist()\n",
    "        self.transform = transform\n",
    "    def __len__(self): return len(self.paths)\n",
    "    def __getitem__(self, idx):\n",
    "        img = Image.open(self.paths[idx]).convert(\"RGB\")\n",
    "        if self.transform: img = self.transform(img)\n",
    "        return img, self.labels[idx]\n"
   ]
  },
  {
   "cell_type": "code",
   "execution_count": 6,
   "id": "11901310",
   "metadata": {},
   "outputs": [
    {
     "data": {
      "text/plain": [
       "(3500, 750, 750)"
      ]
     },
     "execution_count": 6,
     "metadata": {},
     "output_type": "execute_result"
    }
   ],
   "source": [
    "train_ds = CSVDataset(SPLIT_DIR / \"train.csv\", transform=train_tfms)\n",
    "val_ds   = CSVDataset(SPLIT_DIR / \"val.csv\",   transform=val_tfms)\n",
    "test_ds  = CSVDataset(SPLIT_DIR / \"test.csv\",  transform=val_tfms)\n",
    "\n",
    "batch_size   = 32        \n",
    "num_workers  = 0         # safe on Windows\n",
    "pin          = torch.cuda.is_available()\n",
    "\n",
    "train_loader = DataLoader(train_ds, batch_size=batch_size, shuffle=True,\n",
    "                          num_workers=num_workers, pin_memory=pin)\n",
    "val_loader   = DataLoader(val_ds,   batch_size=batch_size, shuffle=False,\n",
    "                          num_workers=num_workers, pin_memory=pin)\n",
    "test_loader  = DataLoader(test_ds,  batch_size=batch_size, shuffle=False,\n",
    "                          num_workers=num_workers, pin_memory=pin)\n",
    "\n",
    "len(train_ds), len(val_ds), len(test_ds)\n"
   ]
  },
  {
   "cell_type": "code",
   "execution_count": null,
   "id": "1292fcfd",
   "metadata": {},
   "outputs": [
    {
     "name": "stdout",
     "output_type": "stream",
     "text": [
      "Model: vit_tiny_patch16_224\n"
     ]
    }
   ],
   "source": [
    "vit_name = \"vit_tiny_patch16_224\"   \n",
    "model = timm.create_model(vit_name, pretrained=True, num_classes=num_classes)\n",
    "model.to(device)\n",
    "print(\"Model:\", vit_name)\n"
   ]
  },
  {
   "cell_type": "code",
   "execution_count": 8,
   "id": "eaa4eaa0",
   "metadata": {},
   "outputs": [],
   "source": [
    "criterion = nn.CrossEntropyLoss()                 \n",
    "base_lr   = 3e-4 * (batch_size / 32)         \n",
    "optimizer = optim.AdamW(model.parameters(), lr=base_lr, weight_decay=0.05)\n",
    "\n",
    "epochs        = 20\n",
    "scheduler     = optim.lr_scheduler.CosineAnnealingLR(optimizer, T_max=epochs)\n"
   ]
  },
  {
   "cell_type": "code",
   "execution_count": 9,
   "id": "d19415d3",
   "metadata": {},
   "outputs": [
    {
     "name": "stderr",
     "output_type": "stream",
     "text": [
      "C:\\Users\\Lenovo\\AppData\\Local\\Temp\\ipykernel_29448\\3653217812.py:2: FutureWarning: `torch.cuda.amp.GradScaler(args...)` is deprecated. Please use `torch.amp.GradScaler('cuda', args...)` instead.\n",
      "  scaler = GradScaler(enabled=torch.cuda.is_available())\n"
     ]
    }
   ],
   "source": [
    "from torch.cuda.amp import autocast, GradScaler\n",
    "scaler = GradScaler(enabled=torch.cuda.is_available())\n",
    "\n",
    "def run_epoch(loader, train=True):\n",
    "    model.train(train)\n",
    "    loss_sum = 0.0\n",
    "    logits_all, targets_all = [], []\n",
    "    for x, y in tqdm(loader, leave=False):\n",
    "        x, y = x.to(device, non_blocking=True), y.to(device, non_blocking=True)\n",
    "        if train:\n",
    "            optimizer.zero_grad(set_to_none=True)\n",
    "            with autocast(enabled=torch.cuda.is_available()):\n",
    "                logits = model(x)\n",
    "                loss   = criterion(logits, y)\n",
    "            scaler.scale(loss).backward()\n",
    "            scaler.step(optimizer); scaler.update()\n",
    "        else:\n",
    "            with torch.no_grad(), autocast(enabled=torch.cuda.is_available()):\n",
    "                logits = model(x); loss = criterion(logits, y)\n",
    "\n",
    "        loss_sum += loss.item() * x.size(0)\n",
    "        logits_all.append(logits.detach().float().cpu())\n",
    "        targets_all.append(y.detach().long().cpu())\n",
    "\n",
    "    loss_epoch = loss_sum / len(loader.dataset)\n",
    "    logits_all = torch.cat(logits_all); targets_all = torch.cat(targets_all)\n",
    "    auroc = MulticlassAUROC(num_classes=num_classes, average=\"macro\")(logits_all.softmax(1), targets_all).item()\n",
    "    acc   = MulticlassAccuracy(num_classes=num_classes, average=\"macro\")(logits_all.argmax(1), targets_all).item()\n",
    "    return loss_epoch, acc, auroc\n"
   ]
  },
  {
   "cell_type": "code",
   "execution_count": 10,
   "id": "77d85d7f",
   "metadata": {},
   "outputs": [],
   "source": [
    "def fit(epochs=20, ckpt_name=\"cls_bloodcells_vit_tiny.pt\"):\n",
    "    CKPT_DIR = REPO_ROOT / \"checkpoints\" / \"classification\"\n",
    "    MET_DIR  = REPO_ROOT / \"results\" / \"metrics\"\n",
    "    CKPT_DIR.mkdir(parents=True, exist_ok=True); MET_DIR.mkdir(parents=True, exist_ok=True)\n",
    "\n",
    "    best = -1e9; hist = []\n",
    "    for ep in range(1, epochs+1):\n",
    "        tr_loss, tr_acc, tr_auc = run_epoch(train_loader, True)\n",
    "        va_loss, va_acc, va_auc = run_epoch(val_loader,   False)\n",
    "        scheduler.step()\n",
    "        hist.append({\"epoch\":ep,\"train_loss\":tr_loss,\"train_acc\":tr_acc,\"train_auroc\":tr_auc,\n",
    "                     \"val_loss\":va_loss,\"val_acc\":va_acc,\"val_auroc\":va_auc,\"lr\":scheduler.get_last_lr()[0]})\n",
    "        print(f\"[{ep:03d}] train: loss {tr_loss:.4f} acc {tr_acc:.3f} auroc {tr_auc:.3f} | \"\n",
    "              f\"val: loss {va_loss:.4f} acc {va_acc:.3f} auroc {va_auc:.3f}\")\n",
    "\n",
    "        if va_auc > best:\n",
    "            best = va_auc\n",
    "            torch.save({\"state_dict\": model.state_dict(),\n",
    "                        \"class_names\": class_names,\n",
    "                        \"num_classes\": num_classes,\n",
    "                        \"model_name\": vit_name},\n",
    "                       CKPT_DIR / ckpt_name)\n",
    "\n",
    "    with open(MET_DIR / \"bloodcells_vit_tiny_history.json\", \"w\") as f:\n",
    "        json.dump(hist, f, indent=2)\n",
    "    print(\"Best val AUROC:\", best)\n",
    "    return hist"
   ]
  },
  {
   "cell_type": "code",
   "execution_count": 11,
   "id": "aa1c5f16",
   "metadata": {},
   "outputs": [
    {
     "data": {
      "application/vnd.jupyter.widget-view+json": {
       "model_id": "b06fb6dc8e9f490e9c991a68cd48b905",
       "version_major": 2,
       "version_minor": 0
      },
      "text/plain": [
       "  0%|          | 0/110 [00:00<?, ?it/s]"
      ]
     },
     "metadata": {},
     "output_type": "display_data"
    },
    {
     "name": "stderr",
     "output_type": "stream",
     "text": [
      "C:\\Users\\Lenovo\\AppData\\Local\\Temp\\ipykernel_29448\\3653217812.py:12: FutureWarning: `torch.cuda.amp.autocast(args...)` is deprecated. Please use `torch.amp.autocast('cuda', args...)` instead.\n",
      "  with autocast(enabled=torch.cuda.is_available()):\n"
     ]
    },
    {
     "data": {
      "application/vnd.jupyter.widget-view+json": {
       "model_id": "2a7dcdd3a414421881d3e7dbbaeecde1",
       "version_major": 2,
       "version_minor": 0
      },
      "text/plain": [
       "  0%|          | 0/24 [00:00<?, ?it/s]"
      ]
     },
     "metadata": {},
     "output_type": "display_data"
    },
    {
     "name": "stderr",
     "output_type": "stream",
     "text": [
      "C:\\Users\\Lenovo\\AppData\\Local\\Temp\\ipykernel_29448\\3653217812.py:18: FutureWarning: `torch.cuda.amp.autocast(args...)` is deprecated. Please use `torch.amp.autocast('cuda', args...)` instead.\n",
      "  with torch.no_grad(), autocast(enabled=torch.cuda.is_available()):\n"
     ]
    },
    {
     "name": "stdout",
     "output_type": "stream",
     "text": [
      "[001] train: loss 0.4086 acc 0.851 auroc 0.978 | val: loss 0.0453 acc 0.987 auroc 1.000\n"
     ]
    },
    {
     "data": {
      "application/vnd.jupyter.widget-view+json": {
       "model_id": "3a685e987767485bbd64bffc81856fac",
       "version_major": 2,
       "version_minor": 0
      },
      "text/plain": [
       "  0%|          | 0/110 [00:00<?, ?it/s]"
      ]
     },
     "metadata": {},
     "output_type": "display_data"
    },
    {
     "data": {
      "application/vnd.jupyter.widget-view+json": {
       "model_id": "664ac3a06afa45f3934d04f448505561",
       "version_major": 2,
       "version_minor": 0
      },
      "text/plain": [
       "  0%|          | 0/24 [00:00<?, ?it/s]"
      ]
     },
     "metadata": {},
     "output_type": "display_data"
    },
    {
     "name": "stdout",
     "output_type": "stream",
     "text": [
      "[002] train: loss 0.0645 acc 0.979 auroc 0.999 | val: loss 0.0422 acc 0.988 auroc 1.000\n"
     ]
    },
    {
     "data": {
      "application/vnd.jupyter.widget-view+json": {
       "model_id": "1cb8e34ee5fe47abbde72f0e6837e720",
       "version_major": 2,
       "version_minor": 0
      },
      "text/plain": [
       "  0%|          | 0/110 [00:00<?, ?it/s]"
      ]
     },
     "metadata": {},
     "output_type": "display_data"
    },
    {
     "data": {
      "application/vnd.jupyter.widget-view+json": {
       "model_id": "a28f08e99af34d14bfb07e6977d8f4b5",
       "version_major": 2,
       "version_minor": 0
      },
      "text/plain": [
       "  0%|          | 0/24 [00:00<?, ?it/s]"
      ]
     },
     "metadata": {},
     "output_type": "display_data"
    },
    {
     "name": "stdout",
     "output_type": "stream",
     "text": [
      "[003] train: loss 0.0695 acc 0.976 auroc 0.999 | val: loss 0.0383 acc 0.988 auroc 1.000\n"
     ]
    },
    {
     "data": {
      "application/vnd.jupyter.widget-view+json": {
       "model_id": "95d8872fbb7d42be81f615dc11360061",
       "version_major": 2,
       "version_minor": 0
      },
      "text/plain": [
       "  0%|          | 0/110 [00:00<?, ?it/s]"
      ]
     },
     "metadata": {},
     "output_type": "display_data"
    },
    {
     "data": {
      "application/vnd.jupyter.widget-view+json": {
       "model_id": "00376c6e399f44dab5061fa02c05619a",
       "version_major": 2,
       "version_minor": 0
      },
      "text/plain": [
       "  0%|          | 0/24 [00:00<?, ?it/s]"
      ]
     },
     "metadata": {},
     "output_type": "display_data"
    },
    {
     "name": "stdout",
     "output_type": "stream",
     "text": [
      "[004] train: loss 0.0459 acc 0.985 auroc 0.999 | val: loss 0.0211 acc 0.995 auroc 1.000\n"
     ]
    },
    {
     "data": {
      "application/vnd.jupyter.widget-view+json": {
       "model_id": "8f730ecb59384a10be5af04aace2f8c9",
       "version_major": 2,
       "version_minor": 0
      },
      "text/plain": [
       "  0%|          | 0/110 [00:00<?, ?it/s]"
      ]
     },
     "metadata": {},
     "output_type": "display_data"
    },
    {
     "data": {
      "application/vnd.jupyter.widget-view+json": {
       "model_id": "46b7f0bca3f94a13b76feedd23c938ee",
       "version_major": 2,
       "version_minor": 0
      },
      "text/plain": [
       "  0%|          | 0/24 [00:00<?, ?it/s]"
      ]
     },
     "metadata": {},
     "output_type": "display_data"
    },
    {
     "name": "stdout",
     "output_type": "stream",
     "text": [
      "[005] train: loss 0.0449 acc 0.984 auroc 1.000 | val: loss 0.0765 acc 0.976 auroc 1.000\n"
     ]
    },
    {
     "data": {
      "application/vnd.jupyter.widget-view+json": {
       "model_id": "cffae8b9abae475c84d17e23df8b4fb3",
       "version_major": 2,
       "version_minor": 0
      },
      "text/plain": [
       "  0%|          | 0/110 [00:00<?, ?it/s]"
      ]
     },
     "metadata": {},
     "output_type": "display_data"
    },
    {
     "data": {
      "application/vnd.jupyter.widget-view+json": {
       "model_id": "36c38aeef46543dfbca99de0fd73a20d",
       "version_major": 2,
       "version_minor": 0
      },
      "text/plain": [
       "  0%|          | 0/24 [00:00<?, ?it/s]"
      ]
     },
     "metadata": {},
     "output_type": "display_data"
    },
    {
     "name": "stdout",
     "output_type": "stream",
     "text": [
      "[006] train: loss 0.0346 acc 0.990 auroc 1.000 | val: loss 0.0138 acc 0.996 auroc 1.000\n"
     ]
    },
    {
     "data": {
      "application/vnd.jupyter.widget-view+json": {
       "model_id": "0a524fa1dcf548d5a6371b1a216405ff",
       "version_major": 2,
       "version_minor": 0
      },
      "text/plain": [
       "  0%|          | 0/110 [00:00<?, ?it/s]"
      ]
     },
     "metadata": {},
     "output_type": "display_data"
    },
    {
     "data": {
      "application/vnd.jupyter.widget-view+json": {
       "model_id": "b87ddde2fbe744c6bbfc67d69a38887f",
       "version_major": 2,
       "version_minor": 0
      },
      "text/plain": [
       "  0%|          | 0/24 [00:00<?, ?it/s]"
      ]
     },
     "metadata": {},
     "output_type": "display_data"
    },
    {
     "name": "stdout",
     "output_type": "stream",
     "text": [
      "[007] train: loss 0.0151 acc 0.996 auroc 1.000 | val: loss 0.0219 acc 0.995 auroc 1.000\n"
     ]
    },
    {
     "data": {
      "application/vnd.jupyter.widget-view+json": {
       "model_id": "579ed861170444cf81d397583f22d887",
       "version_major": 2,
       "version_minor": 0
      },
      "text/plain": [
       "  0%|          | 0/110 [00:00<?, ?it/s]"
      ]
     },
     "metadata": {},
     "output_type": "display_data"
    },
    {
     "data": {
      "application/vnd.jupyter.widget-view+json": {
       "model_id": "274f815d0a1f4510ba0ec84ed465e6c7",
       "version_major": 2,
       "version_minor": 0
      },
      "text/plain": [
       "  0%|          | 0/24 [00:00<?, ?it/s]"
      ]
     },
     "metadata": {},
     "output_type": "display_data"
    },
    {
     "name": "stdout",
     "output_type": "stream",
     "text": [
      "[008] train: loss 0.0193 acc 0.994 auroc 1.000 | val: loss 0.0128 acc 0.993 auroc 1.000\n"
     ]
    },
    {
     "data": {
      "application/vnd.jupyter.widget-view+json": {
       "model_id": "1406eb9ab93c401c84f065df347368d1",
       "version_major": 2,
       "version_minor": 0
      },
      "text/plain": [
       "  0%|          | 0/110 [00:00<?, ?it/s]"
      ]
     },
     "metadata": {},
     "output_type": "display_data"
    },
    {
     "data": {
      "application/vnd.jupyter.widget-view+json": {
       "model_id": "8698cf3af0b546a6aaadeba368393536",
       "version_major": 2,
       "version_minor": 0
      },
      "text/plain": [
       "  0%|          | 0/24 [00:00<?, ?it/s]"
      ]
     },
     "metadata": {},
     "output_type": "display_data"
    },
    {
     "name": "stdout",
     "output_type": "stream",
     "text": [
      "[009] train: loss 0.0154 acc 0.995 auroc 1.000 | val: loss 0.0168 acc 0.995 auroc 1.000\n"
     ]
    },
    {
     "data": {
      "application/vnd.jupyter.widget-view+json": {
       "model_id": "26a5085c2ead4cf3adaff0e9eb0d4bd5",
       "version_major": 2,
       "version_minor": 0
      },
      "text/plain": [
       "  0%|          | 0/110 [00:00<?, ?it/s]"
      ]
     },
     "metadata": {},
     "output_type": "display_data"
    },
    {
     "data": {
      "application/vnd.jupyter.widget-view+json": {
       "model_id": "52402075e5f14cadb9c2e6a170044fd9",
       "version_major": 2,
       "version_minor": 0
      },
      "text/plain": [
       "  0%|          | 0/24 [00:00<?, ?it/s]"
      ]
     },
     "metadata": {},
     "output_type": "display_data"
    },
    {
     "name": "stdout",
     "output_type": "stream",
     "text": [
      "[010] train: loss 0.0034 acc 0.999 auroc 1.000 | val: loss 0.0054 acc 0.997 auroc 1.000\n"
     ]
    },
    {
     "data": {
      "application/vnd.jupyter.widget-view+json": {
       "model_id": "7b0af21eece74e0e89cabc5de1f167ba",
       "version_major": 2,
       "version_minor": 0
      },
      "text/plain": [
       "  0%|          | 0/110 [00:00<?, ?it/s]"
      ]
     },
     "metadata": {},
     "output_type": "display_data"
    },
    {
     "data": {
      "application/vnd.jupyter.widget-view+json": {
       "model_id": "45d9f389d6e44d8a99583a20d85ebaf4",
       "version_major": 2,
       "version_minor": 0
      },
      "text/plain": [
       "  0%|          | 0/24 [00:00<?, ?it/s]"
      ]
     },
     "metadata": {},
     "output_type": "display_data"
    },
    {
     "name": "stdout",
     "output_type": "stream",
     "text": [
      "[011] train: loss 0.0066 acc 0.997 auroc 1.000 | val: loss 0.0038 acc 1.000 auroc 1.000\n"
     ]
    },
    {
     "data": {
      "application/vnd.jupyter.widget-view+json": {
       "model_id": "cf7f556a51784a84889d016b1966c3f1",
       "version_major": 2,
       "version_minor": 0
      },
      "text/plain": [
       "  0%|          | 0/110 [00:00<?, ?it/s]"
      ]
     },
     "metadata": {},
     "output_type": "display_data"
    },
    {
     "data": {
      "application/vnd.jupyter.widget-view+json": {
       "model_id": "a5c292eecd51440ea0ee1ba3bbd8ba30",
       "version_major": 2,
       "version_minor": 0
      },
      "text/plain": [
       "  0%|          | 0/24 [00:00<?, ?it/s]"
      ]
     },
     "metadata": {},
     "output_type": "display_data"
    },
    {
     "name": "stdout",
     "output_type": "stream",
     "text": [
      "[012] train: loss 0.0052 acc 0.998 auroc 1.000 | val: loss 0.0444 acc 0.988 auroc 1.000\n"
     ]
    },
    {
     "data": {
      "application/vnd.jupyter.widget-view+json": {
       "model_id": "8915136ff4c248e7af6b5e842314b981",
       "version_major": 2,
       "version_minor": 0
      },
      "text/plain": [
       "  0%|          | 0/110 [00:00<?, ?it/s]"
      ]
     },
     "metadata": {},
     "output_type": "display_data"
    },
    {
     "data": {
      "application/vnd.jupyter.widget-view+json": {
       "model_id": "e7303986accd4ea28d69f2232c5adeca",
       "version_major": 2,
       "version_minor": 0
      },
      "text/plain": [
       "  0%|          | 0/24 [00:00<?, ?it/s]"
      ]
     },
     "metadata": {},
     "output_type": "display_data"
    },
    {
     "name": "stdout",
     "output_type": "stream",
     "text": [
      "[013] train: loss 0.0111 acc 0.997 auroc 1.000 | val: loss 0.0134 acc 0.992 auroc 1.000\n"
     ]
    },
    {
     "data": {
      "application/vnd.jupyter.widget-view+json": {
       "model_id": "54d36204efce430da77b191161c1c3aa",
       "version_major": 2,
       "version_minor": 0
      },
      "text/plain": [
       "  0%|          | 0/110 [00:00<?, ?it/s]"
      ]
     },
     "metadata": {},
     "output_type": "display_data"
    },
    {
     "data": {
      "application/vnd.jupyter.widget-view+json": {
       "model_id": "9461232c735b468680e56c02488efd0a",
       "version_major": 2,
       "version_minor": 0
      },
      "text/plain": [
       "  0%|          | 0/24 [00:00<?, ?it/s]"
      ]
     },
     "metadata": {},
     "output_type": "display_data"
    },
    {
     "name": "stdout",
     "output_type": "stream",
     "text": [
      "[014] train: loss 0.0037 acc 0.999 auroc 1.000 | val: loss 0.0165 acc 0.995 auroc 1.000\n"
     ]
    },
    {
     "data": {
      "application/vnd.jupyter.widget-view+json": {
       "model_id": "bca17dfb65314fa3a5aa775886f30603",
       "version_major": 2,
       "version_minor": 0
      },
      "text/plain": [
       "  0%|          | 0/110 [00:00<?, ?it/s]"
      ]
     },
     "metadata": {},
     "output_type": "display_data"
    },
    {
     "data": {
      "application/vnd.jupyter.widget-view+json": {
       "model_id": "688cfffe035542668c73584ce38946df",
       "version_major": 2,
       "version_minor": 0
      },
      "text/plain": [
       "  0%|          | 0/24 [00:00<?, ?it/s]"
      ]
     },
     "metadata": {},
     "output_type": "display_data"
    },
    {
     "name": "stdout",
     "output_type": "stream",
     "text": [
      "[015] train: loss 0.0079 acc 0.998 auroc 1.000 | val: loss 0.0083 acc 0.996 auroc 1.000\n"
     ]
    },
    {
     "data": {
      "application/vnd.jupyter.widget-view+json": {
       "model_id": "49e45c1b8eef42ae8c5ce0bb99c88349",
       "version_major": 2,
       "version_minor": 0
      },
      "text/plain": [
       "  0%|          | 0/110 [00:00<?, ?it/s]"
      ]
     },
     "metadata": {},
     "output_type": "display_data"
    },
    {
     "data": {
      "application/vnd.jupyter.widget-view+json": {
       "model_id": "69f75b76496f4ee2ae2fb8bb1a220411",
       "version_major": 2,
       "version_minor": 0
      },
      "text/plain": [
       "  0%|          | 0/24 [00:00<?, ?it/s]"
      ]
     },
     "metadata": {},
     "output_type": "display_data"
    },
    {
     "name": "stdout",
     "output_type": "stream",
     "text": [
      "[016] train: loss 0.0012 acc 1.000 auroc 1.000 | val: loss 0.0073 acc 0.996 auroc 1.000\n"
     ]
    },
    {
     "data": {
      "application/vnd.jupyter.widget-view+json": {
       "model_id": "552dedb099ab46aa8ef3551ace0eccd4",
       "version_major": 2,
       "version_minor": 0
      },
      "text/plain": [
       "  0%|          | 0/110 [00:00<?, ?it/s]"
      ]
     },
     "metadata": {},
     "output_type": "display_data"
    },
    {
     "data": {
      "application/vnd.jupyter.widget-view+json": {
       "model_id": "53c4b275eebf47fc9e17b686bcece85d",
       "version_major": 2,
       "version_minor": 0
      },
      "text/plain": [
       "  0%|          | 0/24 [00:00<?, ?it/s]"
      ]
     },
     "metadata": {},
     "output_type": "display_data"
    },
    {
     "name": "stdout",
     "output_type": "stream",
     "text": [
      "[017] train: loss 0.0006 acc 1.000 auroc 1.000 | val: loss 0.0075 acc 0.997 auroc 1.000\n"
     ]
    },
    {
     "data": {
      "application/vnd.jupyter.widget-view+json": {
       "model_id": "001ee15f191842ae8503d669f1d00583",
       "version_major": 2,
       "version_minor": 0
      },
      "text/plain": [
       "  0%|          | 0/110 [00:00<?, ?it/s]"
      ]
     },
     "metadata": {},
     "output_type": "display_data"
    },
    {
     "data": {
      "application/vnd.jupyter.widget-view+json": {
       "model_id": "b4e879646cb84947a934c83d39e93a6f",
       "version_major": 2,
       "version_minor": 0
      },
      "text/plain": [
       "  0%|          | 0/24 [00:00<?, ?it/s]"
      ]
     },
     "metadata": {},
     "output_type": "display_data"
    },
    {
     "name": "stdout",
     "output_type": "stream",
     "text": [
      "[018] train: loss 0.0004 acc 1.000 auroc 1.000 | val: loss 0.0072 acc 0.997 auroc 1.000\n"
     ]
    },
    {
     "data": {
      "application/vnd.jupyter.widget-view+json": {
       "model_id": "0111c508011441788c1cc6ab60910337",
       "version_major": 2,
       "version_minor": 0
      },
      "text/plain": [
       "  0%|          | 0/110 [00:00<?, ?it/s]"
      ]
     },
     "metadata": {},
     "output_type": "display_data"
    },
    {
     "data": {
      "application/vnd.jupyter.widget-view+json": {
       "model_id": "a90231ad652749948a57d8d7a5a51b16",
       "version_major": 2,
       "version_minor": 0
      },
      "text/plain": [
       "  0%|          | 0/24 [00:00<?, ?it/s]"
      ]
     },
     "metadata": {},
     "output_type": "display_data"
    },
    {
     "name": "stdout",
     "output_type": "stream",
     "text": [
      "[019] train: loss 0.0005 acc 1.000 auroc 1.000 | val: loss 0.0074 acc 0.997 auroc 1.000\n"
     ]
    },
    {
     "data": {
      "application/vnd.jupyter.widget-view+json": {
       "model_id": "941451c058774264bd54deed86aa3ba5",
       "version_major": 2,
       "version_minor": 0
      },
      "text/plain": [
       "  0%|          | 0/110 [00:00<?, ?it/s]"
      ]
     },
     "metadata": {},
     "output_type": "display_data"
    },
    {
     "data": {
      "application/vnd.jupyter.widget-view+json": {
       "model_id": "25c893c1448a4472aae8183d9181758e",
       "version_major": 2,
       "version_minor": 0
      },
      "text/plain": [
       "  0%|          | 0/24 [00:00<?, ?it/s]"
      ]
     },
     "metadata": {},
     "output_type": "display_data"
    },
    {
     "name": "stdout",
     "output_type": "stream",
     "text": [
      "[020] train: loss 0.0004 acc 1.000 auroc 1.000 | val: loss 0.0073 acc 0.997 auroc 1.000\n",
      "Best val AUROC: 1.0\n"
     ]
    }
   ],
   "source": [
    "history = fit(epochs=epochs, ckpt_name=f\"cls_bloodcells_{vit_name}.pt\")"
   ]
  },
  {
   "cell_type": "code",
   "execution_count": 12,
   "id": "4b1b173a",
   "metadata": {},
   "outputs": [],
   "source": [
    "def plot_confusion_matrix_cyberpunk(cm, class_names, title, save_path):\n",
    "    fig, ax = plt.subplots(figsize=(6,5))\n",
    "    im = ax.imshow(cm, cmap=\"magma\")\n",
    "    fig.colorbar(im, ax=ax)\n",
    "    ax.set_xticks(np.arange(len(class_names)), labels=class_names, rotation=30, ha=\"right\")\n",
    "    ax.set_yticks(np.arange(len(class_names)), labels=class_names)\n",
    "    ax.set_xlabel(\"Predicted\"); ax.set_ylabel(\"True\"); ax.set_title(title)\n",
    "    # annotate\n",
    "    thresh = cm.max() / 2.0\n",
    "    for i in range(cm.shape[0]):\n",
    "        for j in range(cm.shape[1]):\n",
    "            ax.text(j, i, int(cm[i, j]), ha=\"center\", va=\"center\",\n",
    "                    color=\"white\" if cm[i, j] > thresh else \"black\")\n",
    "    mplcyberpunk.make_lines_glow(ax=ax)\n",
    "    plt.tight_layout()\n",
    "    fig.savefig(save_path, dpi=150)\n",
    "    plt.show()\n",
    "    print(\"Saved →\", save_path)"
   ]
  },
  {
   "cell_type": "code",
   "execution_count": 13,
   "id": "9ce1f288",
   "metadata": {},
   "outputs": [
    {
     "name": "stderr",
     "output_type": "stream",
     "text": [
      "C:\\Users\\Lenovo\\AppData\\Local\\Temp\\ipykernel_29448\\1500760688.py:2: FutureWarning: You are using `torch.load` with `weights_only=False` (the current default value), which uses the default pickle module implicitly. It is possible to construct malicious pickle data which will execute arbitrary code during unpickling (See https://github.com/pytorch/pytorch/blob/main/SECURITY.md#untrusted-models for more details). In a future release, the default value for `weights_only` will be flipped to `True`. This limits the functions that could be executed during unpickling. Arbitrary objects will no longer be allowed to be loaded via this mode unless they are explicitly allowlisted by the user via `torch.serialization.add_safe_globals`. We recommend you start setting `weights_only=True` for any use case where you don't have full control of the loaded file. Please open an issue on GitHub for any issues related to this experimental feature.\n",
      "  state = torch.load(CKPT, map_location=device)\n"
     ]
    },
    {
     "data": {
      "text/plain": [
       "VisionTransformer(\n",
       "  (patch_embed): PatchEmbed(\n",
       "    (proj): Conv2d(3, 192, kernel_size=(16, 16), stride=(16, 16))\n",
       "    (norm): Identity()\n",
       "  )\n",
       "  (pos_drop): Dropout(p=0.0, inplace=False)\n",
       "  (patch_drop): Identity()\n",
       "  (norm_pre): Identity()\n",
       "  (blocks): Sequential(\n",
       "    (0): Block(\n",
       "      (norm1): LayerNorm((192,), eps=1e-06, elementwise_affine=True)\n",
       "      (attn): Attention(\n",
       "        (qkv): Linear(in_features=192, out_features=576, bias=True)\n",
       "        (q_norm): Identity()\n",
       "        (k_norm): Identity()\n",
       "        (attn_drop): Dropout(p=0.0, inplace=False)\n",
       "        (norm): Identity()\n",
       "        (proj): Linear(in_features=192, out_features=192, bias=True)\n",
       "        (proj_drop): Dropout(p=0.0, inplace=False)\n",
       "      )\n",
       "      (ls1): Identity()\n",
       "      (drop_path1): Identity()\n",
       "      (norm2): LayerNorm((192,), eps=1e-06, elementwise_affine=True)\n",
       "      (mlp): Mlp(\n",
       "        (fc1): Linear(in_features=192, out_features=768, bias=True)\n",
       "        (act): GELU(approximate='none')\n",
       "        (drop1): Dropout(p=0.0, inplace=False)\n",
       "        (norm): Identity()\n",
       "        (fc2): Linear(in_features=768, out_features=192, bias=True)\n",
       "        (drop2): Dropout(p=0.0, inplace=False)\n",
       "      )\n",
       "      (ls2): Identity()\n",
       "      (drop_path2): Identity()\n",
       "    )\n",
       "    (1): Block(\n",
       "      (norm1): LayerNorm((192,), eps=1e-06, elementwise_affine=True)\n",
       "      (attn): Attention(\n",
       "        (qkv): Linear(in_features=192, out_features=576, bias=True)\n",
       "        (q_norm): Identity()\n",
       "        (k_norm): Identity()\n",
       "        (attn_drop): Dropout(p=0.0, inplace=False)\n",
       "        (norm): Identity()\n",
       "        (proj): Linear(in_features=192, out_features=192, bias=True)\n",
       "        (proj_drop): Dropout(p=0.0, inplace=False)\n",
       "      )\n",
       "      (ls1): Identity()\n",
       "      (drop_path1): Identity()\n",
       "      (norm2): LayerNorm((192,), eps=1e-06, elementwise_affine=True)\n",
       "      (mlp): Mlp(\n",
       "        (fc1): Linear(in_features=192, out_features=768, bias=True)\n",
       "        (act): GELU(approximate='none')\n",
       "        (drop1): Dropout(p=0.0, inplace=False)\n",
       "        (norm): Identity()\n",
       "        (fc2): Linear(in_features=768, out_features=192, bias=True)\n",
       "        (drop2): Dropout(p=0.0, inplace=False)\n",
       "      )\n",
       "      (ls2): Identity()\n",
       "      (drop_path2): Identity()\n",
       "    )\n",
       "    (2): Block(\n",
       "      (norm1): LayerNorm((192,), eps=1e-06, elementwise_affine=True)\n",
       "      (attn): Attention(\n",
       "        (qkv): Linear(in_features=192, out_features=576, bias=True)\n",
       "        (q_norm): Identity()\n",
       "        (k_norm): Identity()\n",
       "        (attn_drop): Dropout(p=0.0, inplace=False)\n",
       "        (norm): Identity()\n",
       "        (proj): Linear(in_features=192, out_features=192, bias=True)\n",
       "        (proj_drop): Dropout(p=0.0, inplace=False)\n",
       "      )\n",
       "      (ls1): Identity()\n",
       "      (drop_path1): Identity()\n",
       "      (norm2): LayerNorm((192,), eps=1e-06, elementwise_affine=True)\n",
       "      (mlp): Mlp(\n",
       "        (fc1): Linear(in_features=192, out_features=768, bias=True)\n",
       "        (act): GELU(approximate='none')\n",
       "        (drop1): Dropout(p=0.0, inplace=False)\n",
       "        (norm): Identity()\n",
       "        (fc2): Linear(in_features=768, out_features=192, bias=True)\n",
       "        (drop2): Dropout(p=0.0, inplace=False)\n",
       "      )\n",
       "      (ls2): Identity()\n",
       "      (drop_path2): Identity()\n",
       "    )\n",
       "    (3): Block(\n",
       "      (norm1): LayerNorm((192,), eps=1e-06, elementwise_affine=True)\n",
       "      (attn): Attention(\n",
       "        (qkv): Linear(in_features=192, out_features=576, bias=True)\n",
       "        (q_norm): Identity()\n",
       "        (k_norm): Identity()\n",
       "        (attn_drop): Dropout(p=0.0, inplace=False)\n",
       "        (norm): Identity()\n",
       "        (proj): Linear(in_features=192, out_features=192, bias=True)\n",
       "        (proj_drop): Dropout(p=0.0, inplace=False)\n",
       "      )\n",
       "      (ls1): Identity()\n",
       "      (drop_path1): Identity()\n",
       "      (norm2): LayerNorm((192,), eps=1e-06, elementwise_affine=True)\n",
       "      (mlp): Mlp(\n",
       "        (fc1): Linear(in_features=192, out_features=768, bias=True)\n",
       "        (act): GELU(approximate='none')\n",
       "        (drop1): Dropout(p=0.0, inplace=False)\n",
       "        (norm): Identity()\n",
       "        (fc2): Linear(in_features=768, out_features=192, bias=True)\n",
       "        (drop2): Dropout(p=0.0, inplace=False)\n",
       "      )\n",
       "      (ls2): Identity()\n",
       "      (drop_path2): Identity()\n",
       "    )\n",
       "    (4): Block(\n",
       "      (norm1): LayerNorm((192,), eps=1e-06, elementwise_affine=True)\n",
       "      (attn): Attention(\n",
       "        (qkv): Linear(in_features=192, out_features=576, bias=True)\n",
       "        (q_norm): Identity()\n",
       "        (k_norm): Identity()\n",
       "        (attn_drop): Dropout(p=0.0, inplace=False)\n",
       "        (norm): Identity()\n",
       "        (proj): Linear(in_features=192, out_features=192, bias=True)\n",
       "        (proj_drop): Dropout(p=0.0, inplace=False)\n",
       "      )\n",
       "      (ls1): Identity()\n",
       "      (drop_path1): Identity()\n",
       "      (norm2): LayerNorm((192,), eps=1e-06, elementwise_affine=True)\n",
       "      (mlp): Mlp(\n",
       "        (fc1): Linear(in_features=192, out_features=768, bias=True)\n",
       "        (act): GELU(approximate='none')\n",
       "        (drop1): Dropout(p=0.0, inplace=False)\n",
       "        (norm): Identity()\n",
       "        (fc2): Linear(in_features=768, out_features=192, bias=True)\n",
       "        (drop2): Dropout(p=0.0, inplace=False)\n",
       "      )\n",
       "      (ls2): Identity()\n",
       "      (drop_path2): Identity()\n",
       "    )\n",
       "    (5): Block(\n",
       "      (norm1): LayerNorm((192,), eps=1e-06, elementwise_affine=True)\n",
       "      (attn): Attention(\n",
       "        (qkv): Linear(in_features=192, out_features=576, bias=True)\n",
       "        (q_norm): Identity()\n",
       "        (k_norm): Identity()\n",
       "        (attn_drop): Dropout(p=0.0, inplace=False)\n",
       "        (norm): Identity()\n",
       "        (proj): Linear(in_features=192, out_features=192, bias=True)\n",
       "        (proj_drop): Dropout(p=0.0, inplace=False)\n",
       "      )\n",
       "      (ls1): Identity()\n",
       "      (drop_path1): Identity()\n",
       "      (norm2): LayerNorm((192,), eps=1e-06, elementwise_affine=True)\n",
       "      (mlp): Mlp(\n",
       "        (fc1): Linear(in_features=192, out_features=768, bias=True)\n",
       "        (act): GELU(approximate='none')\n",
       "        (drop1): Dropout(p=0.0, inplace=False)\n",
       "        (norm): Identity()\n",
       "        (fc2): Linear(in_features=768, out_features=192, bias=True)\n",
       "        (drop2): Dropout(p=0.0, inplace=False)\n",
       "      )\n",
       "      (ls2): Identity()\n",
       "      (drop_path2): Identity()\n",
       "    )\n",
       "    (6): Block(\n",
       "      (norm1): LayerNorm((192,), eps=1e-06, elementwise_affine=True)\n",
       "      (attn): Attention(\n",
       "        (qkv): Linear(in_features=192, out_features=576, bias=True)\n",
       "        (q_norm): Identity()\n",
       "        (k_norm): Identity()\n",
       "        (attn_drop): Dropout(p=0.0, inplace=False)\n",
       "        (norm): Identity()\n",
       "        (proj): Linear(in_features=192, out_features=192, bias=True)\n",
       "        (proj_drop): Dropout(p=0.0, inplace=False)\n",
       "      )\n",
       "      (ls1): Identity()\n",
       "      (drop_path1): Identity()\n",
       "      (norm2): LayerNorm((192,), eps=1e-06, elementwise_affine=True)\n",
       "      (mlp): Mlp(\n",
       "        (fc1): Linear(in_features=192, out_features=768, bias=True)\n",
       "        (act): GELU(approximate='none')\n",
       "        (drop1): Dropout(p=0.0, inplace=False)\n",
       "        (norm): Identity()\n",
       "        (fc2): Linear(in_features=768, out_features=192, bias=True)\n",
       "        (drop2): Dropout(p=0.0, inplace=False)\n",
       "      )\n",
       "      (ls2): Identity()\n",
       "      (drop_path2): Identity()\n",
       "    )\n",
       "    (7): Block(\n",
       "      (norm1): LayerNorm((192,), eps=1e-06, elementwise_affine=True)\n",
       "      (attn): Attention(\n",
       "        (qkv): Linear(in_features=192, out_features=576, bias=True)\n",
       "        (q_norm): Identity()\n",
       "        (k_norm): Identity()\n",
       "        (attn_drop): Dropout(p=0.0, inplace=False)\n",
       "        (norm): Identity()\n",
       "        (proj): Linear(in_features=192, out_features=192, bias=True)\n",
       "        (proj_drop): Dropout(p=0.0, inplace=False)\n",
       "      )\n",
       "      (ls1): Identity()\n",
       "      (drop_path1): Identity()\n",
       "      (norm2): LayerNorm((192,), eps=1e-06, elementwise_affine=True)\n",
       "      (mlp): Mlp(\n",
       "        (fc1): Linear(in_features=192, out_features=768, bias=True)\n",
       "        (act): GELU(approximate='none')\n",
       "        (drop1): Dropout(p=0.0, inplace=False)\n",
       "        (norm): Identity()\n",
       "        (fc2): Linear(in_features=768, out_features=192, bias=True)\n",
       "        (drop2): Dropout(p=0.0, inplace=False)\n",
       "      )\n",
       "      (ls2): Identity()\n",
       "      (drop_path2): Identity()\n",
       "    )\n",
       "    (8): Block(\n",
       "      (norm1): LayerNorm((192,), eps=1e-06, elementwise_affine=True)\n",
       "      (attn): Attention(\n",
       "        (qkv): Linear(in_features=192, out_features=576, bias=True)\n",
       "        (q_norm): Identity()\n",
       "        (k_norm): Identity()\n",
       "        (attn_drop): Dropout(p=0.0, inplace=False)\n",
       "        (norm): Identity()\n",
       "        (proj): Linear(in_features=192, out_features=192, bias=True)\n",
       "        (proj_drop): Dropout(p=0.0, inplace=False)\n",
       "      )\n",
       "      (ls1): Identity()\n",
       "      (drop_path1): Identity()\n",
       "      (norm2): LayerNorm((192,), eps=1e-06, elementwise_affine=True)\n",
       "      (mlp): Mlp(\n",
       "        (fc1): Linear(in_features=192, out_features=768, bias=True)\n",
       "        (act): GELU(approximate='none')\n",
       "        (drop1): Dropout(p=0.0, inplace=False)\n",
       "        (norm): Identity()\n",
       "        (fc2): Linear(in_features=768, out_features=192, bias=True)\n",
       "        (drop2): Dropout(p=0.0, inplace=False)\n",
       "      )\n",
       "      (ls2): Identity()\n",
       "      (drop_path2): Identity()\n",
       "    )\n",
       "    (9): Block(\n",
       "      (norm1): LayerNorm((192,), eps=1e-06, elementwise_affine=True)\n",
       "      (attn): Attention(\n",
       "        (qkv): Linear(in_features=192, out_features=576, bias=True)\n",
       "        (q_norm): Identity()\n",
       "        (k_norm): Identity()\n",
       "        (attn_drop): Dropout(p=0.0, inplace=False)\n",
       "        (norm): Identity()\n",
       "        (proj): Linear(in_features=192, out_features=192, bias=True)\n",
       "        (proj_drop): Dropout(p=0.0, inplace=False)\n",
       "      )\n",
       "      (ls1): Identity()\n",
       "      (drop_path1): Identity()\n",
       "      (norm2): LayerNorm((192,), eps=1e-06, elementwise_affine=True)\n",
       "      (mlp): Mlp(\n",
       "        (fc1): Linear(in_features=192, out_features=768, bias=True)\n",
       "        (act): GELU(approximate='none')\n",
       "        (drop1): Dropout(p=0.0, inplace=False)\n",
       "        (norm): Identity()\n",
       "        (fc2): Linear(in_features=768, out_features=192, bias=True)\n",
       "        (drop2): Dropout(p=0.0, inplace=False)\n",
       "      )\n",
       "      (ls2): Identity()\n",
       "      (drop_path2): Identity()\n",
       "    )\n",
       "    (10): Block(\n",
       "      (norm1): LayerNorm((192,), eps=1e-06, elementwise_affine=True)\n",
       "      (attn): Attention(\n",
       "        (qkv): Linear(in_features=192, out_features=576, bias=True)\n",
       "        (q_norm): Identity()\n",
       "        (k_norm): Identity()\n",
       "        (attn_drop): Dropout(p=0.0, inplace=False)\n",
       "        (norm): Identity()\n",
       "        (proj): Linear(in_features=192, out_features=192, bias=True)\n",
       "        (proj_drop): Dropout(p=0.0, inplace=False)\n",
       "      )\n",
       "      (ls1): Identity()\n",
       "      (drop_path1): Identity()\n",
       "      (norm2): LayerNorm((192,), eps=1e-06, elementwise_affine=True)\n",
       "      (mlp): Mlp(\n",
       "        (fc1): Linear(in_features=192, out_features=768, bias=True)\n",
       "        (act): GELU(approximate='none')\n",
       "        (drop1): Dropout(p=0.0, inplace=False)\n",
       "        (norm): Identity()\n",
       "        (fc2): Linear(in_features=768, out_features=192, bias=True)\n",
       "        (drop2): Dropout(p=0.0, inplace=False)\n",
       "      )\n",
       "      (ls2): Identity()\n",
       "      (drop_path2): Identity()\n",
       "    )\n",
       "    (11): Block(\n",
       "      (norm1): LayerNorm((192,), eps=1e-06, elementwise_affine=True)\n",
       "      (attn): Attention(\n",
       "        (qkv): Linear(in_features=192, out_features=576, bias=True)\n",
       "        (q_norm): Identity()\n",
       "        (k_norm): Identity()\n",
       "        (attn_drop): Dropout(p=0.0, inplace=False)\n",
       "        (norm): Identity()\n",
       "        (proj): Linear(in_features=192, out_features=192, bias=True)\n",
       "        (proj_drop): Dropout(p=0.0, inplace=False)\n",
       "      )\n",
       "      (ls1): Identity()\n",
       "      (drop_path1): Identity()\n",
       "      (norm2): LayerNorm((192,), eps=1e-06, elementwise_affine=True)\n",
       "      (mlp): Mlp(\n",
       "        (fc1): Linear(in_features=192, out_features=768, bias=True)\n",
       "        (act): GELU(approximate='none')\n",
       "        (drop1): Dropout(p=0.0, inplace=False)\n",
       "        (norm): Identity()\n",
       "        (fc2): Linear(in_features=768, out_features=192, bias=True)\n",
       "        (drop2): Dropout(p=0.0, inplace=False)\n",
       "      )\n",
       "      (ls2): Identity()\n",
       "      (drop_path2): Identity()\n",
       "    )\n",
       "  )\n",
       "  (norm): LayerNorm((192,), eps=1e-06, elementwise_affine=True)\n",
       "  (fc_norm): Identity()\n",
       "  (head_drop): Dropout(p=0.0, inplace=False)\n",
       "  (head): Linear(in_features=192, out_features=5, bias=True)\n",
       ")"
      ]
     },
     "execution_count": 13,
     "metadata": {},
     "output_type": "execute_result"
    }
   ],
   "source": [
    "CKPT = REPO_ROOT / \"checkpoints\" / \"classification\" / f\"cls_bloodcells_{vit_name}.pt\"\n",
    "state = torch.load(CKPT, map_location=device)\n",
    "model.load_state_dict(state[\"state_dict\"]); model.eval()"
   ]
  },
  {
   "cell_type": "code",
   "execution_count": 17,
   "id": "aa221470",
   "metadata": {},
   "outputs": [
    {
     "name": "stdout",
     "output_type": "stream",
     "text": [
      "Test Accuracy (macro): 0.9907\n",
      "Test Macro AUROC    : 0.9985\n"
     ]
    },
    {
     "data": {
      "text/html": [
       "<div>\n",
       "<style scoped>\n",
       "    .dataframe tbody tr th:only-of-type {\n",
       "        vertical-align: middle;\n",
       "    }\n",
       "\n",
       "    .dataframe tbody tr th {\n",
       "        vertical-align: top;\n",
       "    }\n",
       "\n",
       "    .dataframe thead th {\n",
       "        text-align: right;\n",
       "    }\n",
       "</style>\n",
       "<table border=\"1\" class=\"dataframe\">\n",
       "  <thead>\n",
       "    <tr style=\"text-align: right;\">\n",
       "      <th></th>\n",
       "      <th>precision</th>\n",
       "      <th>recall</th>\n",
       "      <th>f1</th>\n",
       "      <th>support</th>\n",
       "    </tr>\n",
       "  </thead>\n",
       "  <tbody>\n",
       "    <tr>\n",
       "      <th>basophil</th>\n",
       "      <td>1.000000</td>\n",
       "      <td>0.966667</td>\n",
       "      <td>0.983051</td>\n",
       "      <td>150</td>\n",
       "    </tr>\n",
       "    <tr>\n",
       "      <th>erythroblast</th>\n",
       "      <td>1.000000</td>\n",
       "      <td>0.993333</td>\n",
       "      <td>0.996656</td>\n",
       "      <td>150</td>\n",
       "    </tr>\n",
       "    <tr>\n",
       "      <th>monocyte</th>\n",
       "      <td>0.961538</td>\n",
       "      <td>1.000000</td>\n",
       "      <td>0.980392</td>\n",
       "      <td>150</td>\n",
       "    </tr>\n",
       "    <tr>\n",
       "      <th>myeloblast</th>\n",
       "      <td>0.993377</td>\n",
       "      <td>1.000000</td>\n",
       "      <td>0.996678</td>\n",
       "      <td>150</td>\n",
       "    </tr>\n",
       "    <tr>\n",
       "      <th>seg_neutrophil</th>\n",
       "      <td>1.000000</td>\n",
       "      <td>0.993333</td>\n",
       "      <td>0.996656</td>\n",
       "      <td>150</td>\n",
       "    </tr>\n",
       "  </tbody>\n",
       "</table>\n",
       "</div>"
      ],
      "text/plain": [
       "                precision    recall        f1  support\n",
       "basophil         1.000000  0.966667  0.983051      150\n",
       "erythroblast     1.000000  0.993333  0.996656      150\n",
       "monocyte         0.961538  1.000000  0.980392      150\n",
       "myeloblast       0.993377  1.000000  0.996678      150\n",
       "seg_neutrophil   1.000000  0.993333  0.996656      150"
      ]
     },
     "metadata": {},
     "output_type": "display_data"
    },
    {
     "name": "stdout",
     "output_type": "stream",
     "text": [
      "Saved → c:\\Users\\Lenovo\\Desktop\\Exploration-of-ViT-and-CNN-for-Medical-Image-Processing\\results\\figures\\vit_confusion_matrix_counts.png\n"
     ]
    },
    {
     "data": {
      "image/png": "[encoded data removed]",
      "text/plain": [
       "<Figure size 700x500 with 2 Axes>"
      ]
     },
     "metadata": {},
     "output_type": "display_data"
    },
    {
     "name": "stdout",
     "output_type": "stream",
     "text": [
      "Saved → c:\\Users\\Lenovo\\Desktop\\Exploration-of-ViT-and-CNN-for-Medical-Image-Processing\\results\\figures\\vit_confusion_matrix_norm.png\n"
     ]
    },
    {
     "data": {
      "image/png": "[encoded data removed]",
      "text/plain": [
       "<Figure size 700x500 with 2 Axes>"
      ]
     },
     "metadata": {},
     "output_type": "display_data"
    }
   ],
   "source": [
    "import torch, numpy as np, pandas as pd\n",
    "from torch.utils.data import DataLoader\n",
    "from torchmetrics.classification import MulticlassAUROC, MulticlassAccuracy\n",
    "from sklearn.metrics import classification_report, confusion_matrix, precision_recall_fscore_support\n",
    "import matplotlib.pyplot as plt, matplotlib.patheffects as pe\n",
    "import mplcyberpunk\n",
    "plt.style.use(\"cyberpunk\")\n",
    "\n",
    "pin = torch.cuda.is_available()\n",
    "test_loader = DataLoader(test_ds, batch_size=batch_size, shuffle=False, num_workers=0, pin_memory=pin)\n",
    "\n",
    "model.eval()\n",
    "logits_list, targets_list = [], []\n",
    "with torch.no_grad():\n",
    "    for x, y in test_loader:\n",
    "        x = x.to(device, non_blocking=True)\n",
    "        logits_list.append(model(x).cpu())\n",
    "        targets_list.append(torch.as_tensor(y))\n",
    "\n",
    "logits   = torch.cat(logits_list)           \n",
    "probs_t  = torch.softmax(logits, dim=1)     \n",
    "targets  = torch.cat(targets_list).long()   \n",
    "preds_t  = probs_t.argmax(dim=1)            \n",
    "preds    = preds_t.numpy()\n",
    "targets_np = targets.numpy()\n",
    "\n",
    "\n",
    "auroc = MulticlassAUROC(num_classes=num_classes, average=\"macro\")(probs_t, targets).item()\n",
    "acc   = MulticlassAccuracy(num_classes=num_classes, average=\"macro\")(preds_t, targets).item()\n",
    "prec, rec, f1, sup = precision_recall_fscore_support(targets_np, preds, labels=range(num_classes), zero_division=0)\n",
    "\n",
    "print(f\"Test Accuracy (macro): {acc:.4f}\")\n",
    "print(f\"Test Macro AUROC    : {auroc:.4f}\")\n",
    "\n",
    "per_class_df = pd.DataFrame(\n",
    "    {\"precision\": prec, \"recall\": rec, \"f1\": f1, \"support\": sup},\n",
    "    index=class_names\n",
    ")\n",
    "display(per_class_df)\n",
    "\n",
    "\n",
    "cm = confusion_matrix(targets_np, preds)\n",
    "\n",
    "def plot_confusion_matrix_cyberpunk(cm, class_names, title, save_path=None, normalize=False):\n",
    "    cm_disp = cm.astype(float)\n",
    "    if normalize:\n",
    "        row_sums = cm_disp.sum(axis=1, keepdims=True).clip(min=1)\n",
    "        cm_disp = cm_disp / row_sums\n",
    "\n",
    "    fig, ax = plt.subplots(figsize=(7,5))\n",
    "    im = ax.imshow(cm_disp, cmap=\"magma\")\n",
    "    fig.colorbar(im, ax=ax, fraction=0.046, pad=0.04)\n",
    "\n",
    "    ax.set_xticks(np.arange(len(class_names)), labels=class_names, rotation=30, ha=\"right\")\n",
    "    ax.set_yticks(np.arange(len(class_names)), labels=class_names)\n",
    "    ax.set_xlabel(\"Predicted\"); ax.set_ylabel(\"True\"); ax.set_title(title)\n",
    "\n",
    "   \n",
    "    for i in range(cm.shape[0]):\n",
    "        for j in range(cm.shape[1]):\n",
    "            txt = f\"{cm_disp[i, j]:.2f}\" if normalize else f\"{cm[i, j]}\"\n",
    "            ax.text(j, i, txt, ha=\"center\", va=\"center\", color=\"white\", fontsize=10,\n",
    "                    path_effects=[pe.withStroke(linewidth=2, foreground=\"black\")])\n",
    "\n",
    "    mplcyberpunk.make_lines_glow(ax=ax)\n",
    "    plt.tight_layout()\n",
    "    if save_path is not None:\n",
    "        plt.savefig(save_path, dpi=150)\n",
    "        print(\"Saved →\", save_path)\n",
    "    plt.show()\n",
    "\n",
    "FIG_DIR = (REPO_ROOT / \"results\" / \"figures\"); FIG_DIR.mkdir(parents=True, exist_ok=True)\n",
    "\n",
    "# Counts\n",
    "plot_confusion_matrix_cyberpunk(\n",
    "    cm, class_names,\n",
    "    title=\"Confusion Matrix (counts)\",\n",
    "    save_path=FIG_DIR / \"vit_confusion_matrix_counts.png\",\n",
    "    normalize=False\n",
    ")\n",
    "\n",
    "# Normalized\n",
    "plot_confusion_matrix_cyberpunk(\n",
    "    cm, class_names,\n",
    "    title=\"Confusion Matrix (normalized)\",\n",
    "    save_path=FIG_DIR / \"vit_confusion_matrix_norm.png\",\n",
    "    normalize=True\n",
    ")\n"
   ]
  },
  {
   "cell_type": "code",
   "execution_count": 19,
   "id": "0b8586c8",
   "metadata": {},
   "outputs": [],
   "source": [
    "def _unique_legend(ax):\n",
    "    \"\"\"Remove duplicate legend entries (caused by cyberpunk glow).\"\"\"\n",
    "    handles, labels = ax.get_legend_handles_labels()\n",
    "    seen, new_h, new_l = set(), [], []\n",
    "    for h, l in zip(handles, labels):\n",
    "        if l not in seen and l != \"_nolegend_\":\n",
    "            new_h.append(h); new_l.append(l); seen.add(l)\n",
    "    ax.legend(new_h, new_l, loc=\"best\", frameon=True)\n",
    "\n",
    "def plot_training_curves_cyberpunk_fixed(hist_json_path, title_prefix):\n",
    "    hist = json.loads(Path(hist_json_path).read_text())\n",
    "    epochs  = [h[\"epoch\"] for h in hist]\n",
    "    tr_loss = [h[\"train_loss\"] for h in hist]; va_loss = [h[\"val_loss\"] for h in hist]\n",
    "    tr_auc  = [h[\"train_auroc\"] for h in hist]; va_auc  = [h[\"val_auroc\"] for h in hist]\n",
    "\n",
    "    # Loss\n",
    "    fig, ax = plt.subplots(figsize=(8,4))\n",
    "    ax.plot(epochs, tr_loss, label=\"train loss\", linewidth=2)\n",
    "    ax.plot(epochs, va_loss, label=\"val loss\", linewidth=2)\n",
    "    mplcyberpunk.make_lines_glow(ax=ax)\n",
    "    ax.set_title(f\"{title_prefix} — Loss\"); ax.set_xlabel(\"epoch\"); ax.set_ylabel(\"loss\")\n",
    "    ax.margins(x=0)\n",
    "    _unique_legend(ax)\n",
    "    plt.tight_layout(); plt.show()\n",
    "\n",
    "    # AUROC\n",
    "    fig, ax = plt.subplots(figsize=(8,4))\n",
    "    ax.plot(epochs, tr_auc, label=\"train AUROC\", linewidth=2)\n",
    "    ax.plot(epochs, va_auc, label=\"val AUROC\", linewidth=2)\n",
    "    mplcyberpunk.make_lines_glow(ax=ax)\n",
    "    ax.set_title(f\"{title_prefix} — Macro AUROC\"); ax.set_xlabel(\"epoch\"); ax.set_ylabel(\"AUROC\")\n",
    "    ax.margins(x=0)\n",
    "    _unique_legend(ax)\n",
    "    plt.tight_layout(); plt.show()\n"
   ]
  },
  {
   "cell_type": "code",
   "execution_count": 21,
   "id": "a1281a60",
   "metadata": {},
   "outputs": [
    {
     "data": {
      "image/png": "[encoded data removed]",
      "text/plain": [
       "<Figure size 1000x400 with 2 Axes>"
      ]
     },
     "metadata": {},
     "output_type": "display_data"
    }
   ],
   "source": [
    "import json, matplotlib.pyplot as plt, numpy as np\n",
    "from pathlib import Path\n",
    "\n",
    "hist_path = REPO_ROOT / \"results\" / \"metrics\" / \"bloodcells_vit_tiny_history.json\"\n",
    "hist = json.loads(Path(hist_path).read_text())\n",
    "epochs = [h[\"epoch\"] for h in hist]\n",
    "tr_loss = [h[\"train_loss\"] for h in hist]; va_loss = [h[\"val_loss\"] for h in hist]\n",
    "tr_auc  = [h[\"train_auroc\"] for h in hist]; va_auc  = [h[\"val_auroc\"] for h in hist]\n",
    "\n",
    "plt.figure(figsize=(10,4))\n",
    "plt.subplot(1,2,1); plt.plot(epochs, tr_loss, label=\"train\"); plt.plot(epochs, va_loss, label=\"val\")\n",
    "plt.title(\"Loss\"); plt.xlabel(\"epoch\"); plt.legend()\n",
    "plt.subplot(1,2,2); plt.plot(epochs, tr_auc, label=\"train\"); plt.plot(epochs, va_auc, label=\"val\")\n",
    "plt.title(\"Macro AUROC\"); plt.xlabel(\"epoch\"); plt.legend()\n",
    "plt.tight_layout(); plt.show()"
   ]
  },
  {
   "cell_type": "code",
   "execution_count": 22,
   "id": "2336ccef",
   "metadata": {},
   "outputs": [],
   "source": [
    "# --- Cyberpunk model diagram (ViT) ---\n",
    "import math\n",
    "from pathlib import Path\n",
    "import matplotlib.pyplot as plt\n",
    "\n",
    "# deps\n",
    "try:\n",
    "    import networkx as nx\n",
    "except ModuleNotFoundError:\n",
    "    import sys, subprocess; subprocess.check_call([sys.executable, \"-m\", \"pip\", \"install\", \"networkx\"]); import networkx as nx\n",
    "try:\n",
    "    import mplcyberpunk\n",
    "except ModuleNotFoundError:\n",
    "    import sys, subprocess; subprocess.check_call([sys.executable, \"-m\", \"pip\", \"install\", \"mplcyberpunk\"]); import mplcyberpunk\n",
    "\n",
    "import torch\n",
    "from torch import nn\n",
    "\n",
    "# repo root\n",
    "REPO_ROOT = Path.cwd().parents[1] if (Path.cwd().name == \"classification\" and Path.cwd().parent.name == \"notebooks\") else Path.cwd()\n",
    "\n",
    "def count_params(m: nn.Module) -> int:\n",
    "    return sum(p.numel() for p in m.parameters() if p.requires_grad)\n",
    "\n",
    "def vit_feature_shapes(model: nn.Module, input_size=(1,3,224,224), device=\"cpu\"):\n",
    "    \"\"\"Collect output shapes of ViT stages via forward hooks.\"\"\"\n",
    "    shapes = {}\n",
    "    handles = []\n",
    "\n",
    "    def reg(name, module):\n",
    "        if module is None: return\n",
    "        def hook(_m, _in, out):\n",
    "            if isinstance(out, (tuple, list)): out = out[0]\n",
    "            try: shapes[name] = tuple(out.shape)\n",
    "            except Exception: shapes[name] = None\n",
    "        handles.append(module.register_forward_hook(hook))\n",
    "\n",
    "    reg(\"patch_embed\", getattr(model, \"patch_embed\", None))\n",
    "    # all transformer blocks\n",
    "    for i, blk in enumerate(getattr(model, \"blocks\", [])):\n",
    "        reg(f\"block{i}\", blk)\n",
    "    reg(\"norm\", getattr(model, \"norm\", None))\n",
    "    reg(\"head\", getattr(model, \"head\", None))\n",
    "\n",
    "    x = torch.randn(*input_size, device=device)\n",
    "    model.eval()\n",
    "    with torch.no_grad():\n",
    "        _ = model(x)\n",
    "\n",
    "    for h in handles: h.remove()\n",
    "    return shapes\n",
    "\n",
    "def plot_vit_arch_cyberpunk(model: nn.Module, name=\"vit_tiny_patch16_224\",\n",
    "                            input_size=(1,3,224,224), device=\"cpu\"):\n",
    "    # 1) get shapes\n",
    "    shapes = vit_feature_shapes(model.to(device), input_size=input_size, device=device)\n",
    "\n",
    "    # 2) parameter counts per stage\n",
    "    params = {\"patch_embed\": count_params(getattr(model, \"patch_embed\", nn.Identity()))}\n",
    "    for i, blk in enumerate(getattr(model, \"blocks\", [])):\n",
    "        params[f\"block{i}\"] = count_params(blk)\n",
    "    params[\"norm\"] = count_params(getattr(model, \"norm\", nn.Identity()))\n",
    "    params[\"head\"] = count_params(getattr(model, \"head\", nn.Identity()))\n",
    "\n",
    "    # 3) build graph\n",
    "    stages = [\"Input\", \"patch_embed\"] + [f\"block{i}\" for i in range(len(getattr(model, \"blocks\", [])))] + [\"norm\", \"head\", \"Output\"]\n",
    "    G = nx.DiGraph()\n",
    "    for s in stages: G.add_node(s)\n",
    "    for a, b in zip(stages[:-1], stages[1:]): G.add_edge(a, b)\n",
    "\n",
    "    def shp_label(key):\n",
    "        shp = shapes.get(key)\n",
    "        if shp is None: return \"\"\n",
    "        # ViT usually emits (B, N, C) tokens until the head (B, num_classes)\n",
    "        if len(shp) == 3:\n",
    "            _, N, C = shp\n",
    "            return f\"{N}×{C} tokens\"\n",
    "        if len(shp) == 2:\n",
    "            _, F = shp\n",
    "            return f\"{F}\"\n",
    "        return \"?\"\n",
    "\n",
    "    labels = {}\n",
    "    for s in stages:\n",
    "        if s in (\"Input\", \"Output\"):\n",
    "            labels[s] = s\n",
    "        else:\n",
    "            p = params.get(s, 0)\n",
    "            ptxt = f\"{p/1e6:.2f}M\" if p >= 1e6 else (f\"{p/1e3:.1f}K\" if p > 0 else \"0\")\n",
    "            labels[s] = f\"{s}\\n{shp_label(s)}\\n{ptxt}\"\n",
    "\n",
    "    # layout + sizes\n",
    "    pos = {s: (i, 0) for i, s in enumerate(stages)}\n",
    "    sizes = []\n",
    "    for s in stages:\n",
    "        p = params.get(s, 0)\n",
    "        sizes.append(1200 if p == 0 else int(1200 + 2800 * math.log10(p + 10)))\n",
    "\n",
    "    # 4) draw\n",
    "    plt.style.use(\"cyberpunk\")\n",
    "    fig_w = min(2 + 1.3*len(stages), 22)\n",
    "    fig, ax = plt.subplots(figsize=(fig_w, 4.2))\n",
    "    nx.draw_networkx_edges(G, pos, ax=ax, arrows=True, arrowstyle='-|>', arrowsize=20, width=2)\n",
    "    nx.draw_networkx_nodes(G, pos, ax=ax, node_shape='s', node_size=sizes)\n",
    "    nx.draw_networkx_labels(G, pos, ax=ax, labels=labels, font_size=8)\n",
    "    ax.set_title(f\"{name} — Transformer Stage Diagram (output shapes & params)\")\n",
    "    ax.axis(\"off\")\n",
    "    mplcyberpunk.make_lines_glow(ax=ax)\n",
    "\n",
    "    # save\n",
    "    FIG_DIR = REPO_ROOT / \"results\" / \"figures\"; FIG_DIR.mkdir(parents=True, exist_ok=True)\n",
    "    out_path = FIG_DIR / f\"{name}_arch_cyberpunk.png\"\n",
    "    plt.tight_layout(); plt.savefig(out_path, dpi=160); plt.show()\n",
    "    print(\"Saved:\", out_path)\n",
    "\n",
    "    # textual summary\n",
    "    total_params = count_params(model)\n",
    "    print(f\"Blocks: {len(getattr(model, 'blocks', []))} | Trainable params: {total_params/1e6:.2f}M\")\n",
    "    shp_pe = shapes.get(\"patch_embed\")\n",
    "    if shp_pe and len(shp_pe) == 3:\n",
    "        _, N, C = shp_pe\n",
    "        print(f\"PatchEmbed → {N} tokens, embed dim {C} (class token added before blocks).\")\n"
   ]
  },
  {
   "cell_type": "code",
   "execution_count": 23,
   "id": "da213070",
   "metadata": {},
   "outputs": [
    {
     "data": {
      "image/png": "[encoded data removed]",
      "text/plain": [
       "<Figure size 2200x420 with 1 Axes>"
      ]
     },
     "metadata": {},
     "output_type": "display_data"
    },
    {
     "name": "stdout",
     "output_type": "stream",
     "text": [
      "Saved: c:\\Users\\Lenovo\\Desktop\\Exploration-of-ViT-and-CNN-for-Medical-Image-Processing\\results\\figures\\vit_tiny_patch16_224_arch_cyberpunk.png\n",
      "Blocks: 12 | Trainable params: 5.53M\n",
      "PatchEmbed → 196 tokens, embed dim 192 (class token added before blocks).\n"
     ]
    }
   ],
   "source": [
    "plot_vit_arch_cyberpunk(\n",
    "    model,\n",
    "    name=vit_name,                 # appears in the title & filename\n",
    "    input_size=(1, 3, 224, 224),   # change if you used a different img size\n",
    "    device=device\n",
    ")"
   ]
  },
  {
   "cell_type": "code",
   "execution_count": 1,
   "id": "67d643d1",
   "metadata": {},
   "outputs": [],
   "source": [
    "from pathlib import Path\n",
    "import json, torch, timm\n",
    "\n",
    "# 1) paths & names\n",
    "REPO_ROOT = Path.cwd().parents[1] if (Path.cwd().name==\"classification\" and Path.cwd().parent.name==\"notebooks\") else Path.cwd()\n",
    "TS_DIR    = REPO_ROOT / \"exports\" / \"torchscript\"\n",
    "ONNX_DIR  = REPO_ROOT / \"exports\" / \"onnx\"\n",
    "TS_DIR.mkdir(parents=True, exist_ok=True)\n",
    "ONNX_DIR.mkdir(parents=True, exist_ok=True)"
   ]
  },
  {
   "cell_type": "code",
   "execution_count": 2,
   "id": "d3e47a85",
   "metadata": {},
   "outputs": [],
   "source": [
    "vit_name  = \"vit_tiny_patch16_224\"                 \n",
    "ckpt_name = f\"cls_bloodcells_{vit_name}.pt\"        \n",
    "ckpt_path = REPO_ROOT / \"checkpoints\" / \"classification\" / ckpt_name\n",
    "assert ckpt_path.exists(), f\"Checkpoint not found: {ckpt_path}\""
   ]
  },
  {
   "cell_type": "code",
   "execution_count": 3,
   "id": "1815e1d4",
   "metadata": {},
   "outputs": [
    {
     "name": "stderr",
     "output_type": "stream",
     "text": [
      "C:\\Users\\Lenovo\\AppData\\Local\\Temp\\ipykernel_11620\\2905079092.py:2: FutureWarning: You are using `torch.load` with `weights_only=False` (the current default value), which uses the default pickle module implicitly. It is possible to construct malicious pickle data which will execute arbitrary code during unpickling (See https://github.com/pytorch/pytorch/blob/main/SECURITY.md#untrusted-models for more details). In a future release, the default value for `weights_only` will be flipped to `True`. This limits the functions that could be executed during unpickling. Arbitrary objects will no longer be allowed to be loaded via this mode unless they are explicitly allowlisted by the user via `torch.serialization.add_safe_globals`. We recommend you start setting `weights_only=True` for any use case where you don't have full control of the loaded file. Please open an issue on GitHub for any issues related to this experimental feature.\n",
      "  state  = torch.load(ckpt_path, map_location=device)\n"
     ]
    }
   ],
   "source": [
    "device = torch.device(\"cpu\")  \n",
    "state  = torch.load(ckpt_path, map_location=device)"
   ]
  },
  {
   "cell_type": "code",
   "execution_count": 4,
   "id": "c30b3304",
   "metadata": {},
   "outputs": [
    {
     "data": {
      "text/plain": [
       "VisionTransformer(\n",
       "  (patch_embed): PatchEmbed(\n",
       "    (proj): Conv2d(3, 192, kernel_size=(16, 16), stride=(16, 16))\n",
       "    (norm): Identity()\n",
       "  )\n",
       "  (pos_drop): Dropout(p=0.0, inplace=False)\n",
       "  (patch_drop): Identity()\n",
       "  (norm_pre): Identity()\n",
       "  (blocks): Sequential(\n",
       "    (0): Block(\n",
       "      (norm1): LayerNorm((192,), eps=1e-06, elementwise_affine=True)\n",
       "      (attn): Attention(\n",
       "        (qkv): Linear(in_features=192, out_features=576, bias=True)\n",
       "        (q_norm): Identity()\n",
       "        (k_norm): Identity()\n",
       "        (attn_drop): Dropout(p=0.0, inplace=False)\n",
       "        (norm): Identity()\n",
       "        (proj): Linear(in_features=192, out_features=192, bias=True)\n",
       "        (proj_drop): Dropout(p=0.0, inplace=False)\n",
       "      )\n",
       "      (ls1): Identity()\n",
       "      (drop_path1): Identity()\n",
       "      (norm2): LayerNorm((192,), eps=1e-06, elementwise_affine=True)\n",
       "      (mlp): Mlp(\n",
       "        (fc1): Linear(in_features=192, out_features=768, bias=True)\n",
       "        (act): GELU(approximate='none')\n",
       "        (drop1): Dropout(p=0.0, inplace=False)\n",
       "        (norm): Identity()\n",
       "        (fc2): Linear(in_features=768, out_features=192, bias=True)\n",
       "        (drop2): Dropout(p=0.0, inplace=False)\n",
       "      )\n",
       "      (ls2): Identity()\n",
       "      (drop_path2): Identity()\n",
       "    )\n",
       "    (1): Block(\n",
       "      (norm1): LayerNorm((192,), eps=1e-06, elementwise_affine=True)\n",
       "      (attn): Attention(\n",
       "        (qkv): Linear(in_features=192, out_features=576, bias=True)\n",
       "        (q_norm): Identity()\n",
       "        (k_norm): Identity()\n",
       "        (attn_drop): Dropout(p=0.0, inplace=False)\n",
       "        (norm): Identity()\n",
       "        (proj): Linear(in_features=192, out_features=192, bias=True)\n",
       "        (proj_drop): Dropout(p=0.0, inplace=False)\n",
       "      )\n",
       "      (ls1): Identity()\n",
       "      (drop_path1): Identity()\n",
       "      (norm2): LayerNorm((192,), eps=1e-06, elementwise_affine=True)\n",
       "      (mlp): Mlp(\n",
       "        (fc1): Linear(in_features=192, out_features=768, bias=True)\n",
       "        (act): GELU(approximate='none')\n",
       "        (drop1): Dropout(p=0.0, inplace=False)\n",
       "        (norm): Identity()\n",
       "        (fc2): Linear(in_features=768, out_features=192, bias=True)\n",
       "        (drop2): Dropout(p=0.0, inplace=False)\n",
       "      )\n",
       "      (ls2): Identity()\n",
       "      (drop_path2): Identity()\n",
       "    )\n",
       "    (2): Block(\n",
       "      (norm1): LayerNorm((192,), eps=1e-06, elementwise_affine=True)\n",
       "      (attn): Attention(\n",
       "        (qkv): Linear(in_features=192, out_features=576, bias=True)\n",
       "        (q_norm): Identity()\n",
       "        (k_norm): Identity()\n",
       "        (attn_drop): Dropout(p=0.0, inplace=False)\n",
       "        (norm): Identity()\n",
       "        (proj): Linear(in_features=192, out_features=192, bias=True)\n",
       "        (proj_drop): Dropout(p=0.0, inplace=False)\n",
       "      )\n",
       "      (ls1): Identity()\n",
       "      (drop_path1): Identity()\n",
       "      (norm2): LayerNorm((192,), eps=1e-06, elementwise_affine=True)\n",
       "      (mlp): Mlp(\n",
       "        (fc1): Linear(in_features=192, out_features=768, bias=True)\n",
       "        (act): GELU(approximate='none')\n",
       "        (drop1): Dropout(p=0.0, inplace=False)\n",
       "        (norm): Identity()\n",
       "        (fc2): Linear(in_features=768, out_features=192, bias=True)\n",
       "        (drop2): Dropout(p=0.0, inplace=False)\n",
       "      )\n",
       "      (ls2): Identity()\n",
       "      (drop_path2): Identity()\n",
       "    )\n",
       "    (3): Block(\n",
       "      (norm1): LayerNorm((192,), eps=1e-06, elementwise_affine=True)\n",
       "      (attn): Attention(\n",
       "        (qkv): Linear(in_features=192, out_features=576, bias=True)\n",
       "        (q_norm): Identity()\n",
       "        (k_norm): Identity()\n",
       "        (attn_drop): Dropout(p=0.0, inplace=False)\n",
       "        (norm): Identity()\n",
       "        (proj): Linear(in_features=192, out_features=192, bias=True)\n",
       "        (proj_drop): Dropout(p=0.0, inplace=False)\n",
       "      )\n",
       "      (ls1): Identity()\n",
       "      (drop_path1): Identity()\n",
       "      (norm2): LayerNorm((192,), eps=1e-06, elementwise_affine=True)\n",
       "      (mlp): Mlp(\n",
       "        (fc1): Linear(in_features=192, out_features=768, bias=True)\n",
       "        (act): GELU(approximate='none')\n",
       "        (drop1): Dropout(p=0.0, inplace=False)\n",
       "        (norm): Identity()\n",
       "        (fc2): Linear(in_features=768, out_features=192, bias=True)\n",
       "        (drop2): Dropout(p=0.0, inplace=False)\n",
       "      )\n",
       "      (ls2): Identity()\n",
       "      (drop_path2): Identity()\n",
       "    )\n",
       "    (4): Block(\n",
       "      (norm1): LayerNorm((192,), eps=1e-06, elementwise_affine=True)\n",
       "      (attn): Attention(\n",
       "        (qkv): Linear(in_features=192, out_features=576, bias=True)\n",
       "        (q_norm): Identity()\n",
       "        (k_norm): Identity()\n",
       "        (attn_drop): Dropout(p=0.0, inplace=False)\n",
       "        (norm): Identity()\n",
       "        (proj): Linear(in_features=192, out_features=192, bias=True)\n",
       "        (proj_drop): Dropout(p=0.0, inplace=False)\n",
       "      )\n",
       "      (ls1): Identity()\n",
       "      (drop_path1): Identity()\n",
       "      (norm2): LayerNorm((192,), eps=1e-06, elementwise_affine=True)\n",
       "      (mlp): Mlp(\n",
       "        (fc1): Linear(in_features=192, out_features=768, bias=True)\n",
       "        (act): GELU(approximate='none')\n",
       "        (drop1): Dropout(p=0.0, inplace=False)\n",
       "        (norm): Identity()\n",
       "        (fc2): Linear(in_features=768, out_features=192, bias=True)\n",
       "        (drop2): Dropout(p=0.0, inplace=False)\n",
       "      )\n",
       "      (ls2): Identity()\n",
       "      (drop_path2): Identity()\n",
       "    )\n",
       "    (5): Block(\n",
       "      (norm1): LayerNorm((192,), eps=1e-06, elementwise_affine=True)\n",
       "      (attn): Attention(\n",
       "        (qkv): Linear(in_features=192, out_features=576, bias=True)\n",
       "        (q_norm): Identity()\n",
       "        (k_norm): Identity()\n",
       "        (attn_drop): Dropout(p=0.0, inplace=False)\n",
       "        (norm): Identity()\n",
       "        (proj): Linear(in_features=192, out_features=192, bias=True)\n",
       "        (proj_drop): Dropout(p=0.0, inplace=False)\n",
       "      )\n",
       "      (ls1): Identity()\n",
       "      (drop_path1): Identity()\n",
       "      (norm2): LayerNorm((192,), eps=1e-06, elementwise_affine=True)\n",
       "      (mlp): Mlp(\n",
       "        (fc1): Linear(in_features=192, out_features=768, bias=True)\n",
       "        (act): GELU(approximate='none')\n",
       "        (drop1): Dropout(p=0.0, inplace=False)\n",
       "        (norm): Identity()\n",
       "        (fc2): Linear(in_features=768, out_features=192, bias=True)\n",
       "        (drop2): Dropout(p=0.0, inplace=False)\n",
       "      )\n",
       "      (ls2): Identity()\n",
       "      (drop_path2): Identity()\n",
       "    )\n",
       "    (6): Block(\n",
       "      (norm1): LayerNorm((192,), eps=1e-06, elementwise_affine=True)\n",
       "      (attn): Attention(\n",
       "        (qkv): Linear(in_features=192, out_features=576, bias=True)\n",
       "        (q_norm): Identity()\n",
       "        (k_norm): Identity()\n",
       "        (attn_drop): Dropout(p=0.0, inplace=False)\n",
       "        (norm): Identity()\n",
       "        (proj): Linear(in_features=192, out_features=192, bias=True)\n",
       "        (proj_drop): Dropout(p=0.0, inplace=False)\n",
       "      )\n",
       "      (ls1): Identity()\n",
       "      (drop_path1): Identity()\n",
       "      (norm2): LayerNorm((192,), eps=1e-06, elementwise_affine=True)\n",
       "      (mlp): Mlp(\n",
       "        (fc1): Linear(in_features=192, out_features=768, bias=True)\n",
       "        (act): GELU(approximate='none')\n",
       "        (drop1): Dropout(p=0.0, inplace=False)\n",
       "        (norm): Identity()\n",
       "        (fc2): Linear(in_features=768, out_features=192, bias=True)\n",
       "        (drop2): Dropout(p=0.0, inplace=False)\n",
       "      )\n",
       "      (ls2): Identity()\n",
       "      (drop_path2): Identity()\n",
       "    )\n",
       "    (7): Block(\n",
       "      (norm1): LayerNorm((192,), eps=1e-06, elementwise_affine=True)\n",
       "      (attn): Attention(\n",
       "        (qkv): Linear(in_features=192, out_features=576, bias=True)\n",
       "        (q_norm): Identity()\n",
       "        (k_norm): Identity()\n",
       "        (attn_drop): Dropout(p=0.0, inplace=False)\n",
       "        (norm): Identity()\n",
       "        (proj): Linear(in_features=192, out_features=192, bias=True)\n",
       "        (proj_drop): Dropout(p=0.0, inplace=False)\n",
       "      )\n",
       "      (ls1): Identity()\n",
       "      (drop_path1): Identity()\n",
       "      (norm2): LayerNorm((192,), eps=1e-06, elementwise_affine=True)\n",
       "      (mlp): Mlp(\n",
       "        (fc1): Linear(in_features=192, out_features=768, bias=True)\n",
       "        (act): GELU(approximate='none')\n",
       "        (drop1): Dropout(p=0.0, inplace=False)\n",
       "        (norm): Identity()\n",
       "        (fc2): Linear(in_features=768, out_features=192, bias=True)\n",
       "        (drop2): Dropout(p=0.0, inplace=False)\n",
       "      )\n",
       "      (ls2): Identity()\n",
       "      (drop_path2): Identity()\n",
       "    )\n",
       "    (8): Block(\n",
       "      (norm1): LayerNorm((192,), eps=1e-06, elementwise_affine=True)\n",
       "      (attn): Attention(\n",
       "        (qkv): Linear(in_features=192, out_features=576, bias=True)\n",
       "        (q_norm): Identity()\n",
       "        (k_norm): Identity()\n",
       "        (attn_drop): Dropout(p=0.0, inplace=False)\n",
       "        (norm): Identity()\n",
       "        (proj): Linear(in_features=192, out_features=192, bias=True)\n",
       "        (proj_drop): Dropout(p=0.0, inplace=False)\n",
       "      )\n",
       "      (ls1): Identity()\n",
       "      (drop_path1): Identity()\n",
       "      (norm2): LayerNorm((192,), eps=1e-06, elementwise_affine=True)\n",
       "      (mlp): Mlp(\n",
       "        (fc1): Linear(in_features=192, out_features=768, bias=True)\n",
       "        (act): GELU(approximate='none')\n",
       "        (drop1): Dropout(p=0.0, inplace=False)\n",
       "        (norm): Identity()\n",
       "        (fc2): Linear(in_features=768, out_features=192, bias=True)\n",
       "        (drop2): Dropout(p=0.0, inplace=False)\n",
       "      )\n",
       "      (ls2): Identity()\n",
       "      (drop_path2): Identity()\n",
       "    )\n",
       "    (9): Block(\n",
       "      (norm1): LayerNorm((192,), eps=1e-06, elementwise_affine=True)\n",
       "      (attn): Attention(\n",
       "        (qkv): Linear(in_features=192, out_features=576, bias=True)\n",
       "        (q_norm): Identity()\n",
       "        (k_norm): Identity()\n",
       "        (attn_drop): Dropout(p=0.0, inplace=False)\n",
       "        (norm): Identity()\n",
       "        (proj): Linear(in_features=192, out_features=192, bias=True)\n",
       "        (proj_drop): Dropout(p=0.0, inplace=False)\n",
       "      )\n",
       "      (ls1): Identity()\n",
       "      (drop_path1): Identity()\n",
       "      (norm2): LayerNorm((192,), eps=1e-06, elementwise_affine=True)\n",
       "      (mlp): Mlp(\n",
       "        (fc1): Linear(in_features=192, out_features=768, bias=True)\n",
       "        (act): GELU(approximate='none')\n",
       "        (drop1): Dropout(p=0.0, inplace=False)\n",
       "        (norm): Identity()\n",
       "        (fc2): Linear(in_features=768, out_features=192, bias=True)\n",
       "        (drop2): Dropout(p=0.0, inplace=False)\n",
       "      )\n",
       "      (ls2): Identity()\n",
       "      (drop_path2): Identity()\n",
       "    )\n",
       "    (10): Block(\n",
       "      (norm1): LayerNorm((192,), eps=1e-06, elementwise_affine=True)\n",
       "      (attn): Attention(\n",
       "        (qkv): Linear(in_features=192, out_features=576, bias=True)\n",
       "        (q_norm): Identity()\n",
       "        (k_norm): Identity()\n",
       "        (attn_drop): Dropout(p=0.0, inplace=False)\n",
       "        (norm): Identity()\n",
       "        (proj): Linear(in_features=192, out_features=192, bias=True)\n",
       "        (proj_drop): Dropout(p=0.0, inplace=False)\n",
       "      )\n",
       "      (ls1): Identity()\n",
       "      (drop_path1): Identity()\n",
       "      (norm2): LayerNorm((192,), eps=1e-06, elementwise_affine=True)\n",
       "      (mlp): Mlp(\n",
       "        (fc1): Linear(in_features=192, out_features=768, bias=True)\n",
       "        (act): GELU(approximate='none')\n",
       "        (drop1): Dropout(p=0.0, inplace=False)\n",
       "        (norm): Identity()\n",
       "        (fc2): Linear(in_features=768, out_features=192, bias=True)\n",
       "        (drop2): Dropout(p=0.0, inplace=False)\n",
       "      )\n",
       "      (ls2): Identity()\n",
       "      (drop_path2): Identity()\n",
       "    )\n",
       "    (11): Block(\n",
       "      (norm1): LayerNorm((192,), eps=1e-06, elementwise_affine=True)\n",
       "      (attn): Attention(\n",
       "        (qkv): Linear(in_features=192, out_features=576, bias=True)\n",
       "        (q_norm): Identity()\n",
       "        (k_norm): Identity()\n",
       "        (attn_drop): Dropout(p=0.0, inplace=False)\n",
       "        (norm): Identity()\n",
       "        (proj): Linear(in_features=192, out_features=192, bias=True)\n",
       "        (proj_drop): Dropout(p=0.0, inplace=False)\n",
       "      )\n",
       "      (ls1): Identity()\n",
       "      (drop_path1): Identity()\n",
       "      (norm2): LayerNorm((192,), eps=1e-06, elementwise_affine=True)\n",
       "      (mlp): Mlp(\n",
       "        (fc1): Linear(in_features=192, out_features=768, bias=True)\n",
       "        (act): GELU(approximate='none')\n",
       "        (drop1): Dropout(p=0.0, inplace=False)\n",
       "        (norm): Identity()\n",
       "        (fc2): Linear(in_features=768, out_features=192, bias=True)\n",
       "        (drop2): Dropout(p=0.0, inplace=False)\n",
       "      )\n",
       "      (ls2): Identity()\n",
       "      (drop_path2): Identity()\n",
       "    )\n",
       "  )\n",
       "  (norm): LayerNorm((192,), eps=1e-06, elementwise_affine=True)\n",
       "  (fc_norm): Identity()\n",
       "  (head_drop): Dropout(p=0.0, inplace=False)\n",
       "  (head): Linear(in_features=192, out_features=5, bias=True)\n",
       ")"
      ]
     },
     "execution_count": 4,
     "metadata": {},
     "output_type": "execute_result"
    }
   ],
   "source": [
    "num_classes = state[\"num_classes\"]\n",
    "class_names = state.get(\"class_names\", [str(i) for i in range(num_classes)])\n",
    "model = timm.create_model(vit_name, pretrained=False, num_classes=num_classes)\n",
    "model.load_state_dict(state[\"state_dict\"])\n",
    "model.eval().to(device)"
   ]
  },
  {
   "cell_type": "code",
   "execution_count": 5,
   "id": "a610701f",
   "metadata": {},
   "outputs": [
    {
     "name": "stderr",
     "output_type": "stream",
     "text": [
      "c:\\Users\\Lenovo\\Desktop\\Exploration-of-ViT-and-CNN-for-Medical-Image-Processing\\.venv\\Lib\\site-packages\\torch\\__init__.py:2040: TracerWarning: Converting a tensor to a Python boolean might cause the trace to be incorrect. We can't record the data flow of Python values, so this value will be treated as a constant in the future. This means that the trace might not generalize to other inputs!\n",
      "  assert condition, message\n"
     ]
    },
    {
     "name": "stdout",
     "output_type": "stream",
     "text": [
      "TorchScript saved → c:\\Users\\Lenovo\\Desktop\\Exploration-of-ViT-and-CNN-for-Medical-Image-Processing\\exports\\torchscript\\cls_bloodcells_vit_tiny_patch16_224.pt\n"
     ]
    }
   ],
   "source": [
    "mean = [0.485, 0.456, 0.406]\n",
    "std  = [0.229, 0.224, 0.225]\n",
    "img_size = (3, 224, 224)\n",
    "\n",
    "dummy = torch.randn(1, *img_size, device=device)\n",
    "ts_path = TS_DIR / ckpt_name.replace(\".pt\", \".pt\")\n",
    "traced = torch.jit.trace(model, dummy, strict=False)\n",
    "torch.jit.save(traced, ts_path)\n",
    "print(\"TorchScript saved →\", ts_path)"
   ]
  },
  {
   "cell_type": "code",
   "execution_count": 6,
   "id": "6c24cd47",
   "metadata": {},
   "outputs": [
    {
     "name": "stdout",
     "output_type": "stream",
     "text": [
      "ONNX saved → c:\\Users\\Lenovo\\Desktop\\Exploration-of-ViT-and-CNN-for-Medical-Image-Processing\\exports\\onnx\\cls_bloodcells_vit_tiny_patch16_224.onnx\n"
     ]
    }
   ],
   "source": [
    "try:\n",
    "    import onnx  \n",
    "except ModuleNotFoundError:\n",
    "    import sys, subprocess\n",
    "    subprocess.check_call([sys.executable, \"-m\", \"pip\", \"install\", \"onnx\"])\n",
    "    import onnx  \n",
    "\n",
    "onnx_path = ONNX_DIR / ckpt_name.replace(\".pt\", \".onnx\")\n",
    "torch.onnx.export(\n",
    "    model, dummy, onnx_path.as_posix(),\n",
    "    input_names=[\"input\"], output_names=[\"logits\"],\n",
    "    opset_version=17, do_constant_folding=True,\n",
    "    dynamic_axes={\"input\": {0: \"batch\"}, \"logits\": {0: \"batch\"}}\n",
    ")\n",
    "\n",
    "import onnx\n",
    "onnx.checker.check_model(onnx.load(onnx_path.as_posix()))\n",
    "print(\"ONNX saved →\", onnx_path)\n",
    "\n",
    "\n",
    "meta = {\n",
    "    \"model_name\": vit_name,\n",
    "    \"checkpoint\": ckpt_path.name,\n",
    "    \"image_size\": img_size,\n",
    "    \"mean\": mean, \"std\": std,\n",
    "    \"num_classes\": num_classes,\n",
    "    \"class_names\": class_names,\n",
    "}"
   ]
  },
  {
   "cell_type": "code",
   "execution_count": null,
   "id": "6c9472a4",
   "metadata": {},
   "outputs": [],
   "source": []
  }
 ],
 "metadata": {
  "kernelspec": {
   "display_name": ".venv",
   "language": "python",
   "name": "python3"
  },
  "language_info": {
   "codemirror_mode": {
    "name": "ipython",
    "version": 3
   },
   "file_extension": ".py",
   "mimetype": "text/x-python",
   "name": "python",
   "nbconvert_exporter": "python",
   "pygments_lexer": "ipython3",
   "version": "3.11.9"
  }
 },
 "nbformat": 4,
 "nbformat_minor": 5
}
