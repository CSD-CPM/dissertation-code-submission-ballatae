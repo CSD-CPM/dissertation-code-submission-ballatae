{
 "cells": [
  {
   "cell_type": "code",
   "execution_count": 1,
   "id": "95f995b5",
   "metadata": {},
   "outputs": [],
   "source": [
    "import os, math, json, random\n",
    "from pathlib import Path\n",
    "from collections import Counter\n",
    "\n",
    "import numpy as np\n",
    "import pandas as pd\n",
    "import matplotlib.pyplot as plt\n",
    "\n",
    "from PIL import Image\n",
    "\n",
    "import torch\n",
    "import torch.nn as nn\n",
    "import torch.optim as optim\n",
    "from torch.utils.data import Dataset, DataLoader\n",
    "\n",
    "from torchvision import transforms as T\n",
    "from torchvision import models as tvm\n",
    "from torchvision.models import ResNet18_Weights\n",
    "\n",
    "from torch.cuda.amp import autocast, GradScaler\n",
    "from tqdm import tqdm\n",
    "\n",
    "# Metrics\n",
    "from torchmetrics.classification import MulticlassAccuracy, MulticlassAUROC"
   ]
  },
  {
   "cell_type": "code",
   "execution_count": 2,
   "id": "6b6a9d2c",
   "metadata": {},
   "outputs": [],
   "source": [
    "DATA_ROOT = Path(\"../../data/processed/classification/leukemia_classification/\")\n",
    "\n",
    "TRAIN_DIR = DATA_ROOT / \"train\"\n",
    "VAL_DIR   = DATA_ROOT / \"validation\"\n",
    "TEST_DIR  = DATA_ROOT / \"test\"\n"
   ]
  },
  {
   "cell_type": "code",
   "execution_count": 3,
   "id": "0a1d3a59",
   "metadata": {},
   "outputs": [
    {
     "name": "stdout",
     "output_type": "stream",
     "text": [
      "Train path: ..\\..\\data\\processed\\classification\\leukemia_classification\\train\n",
      "Val path:   ..\\..\\data\\processed\\classification\\leukemia_classification\\validation\n",
      "Test path:  ..\\..\\data\\processed\\classification\\leukemia_classification\\test\n"
     ]
    }
   ],
   "source": [
    "\n",
    "print(\"Train path:\", TRAIN_DIR)\n",
    "print(\"Val path:  \", VAL_DIR)\n",
    "print(\"Test path: \", TEST_DIR)"
   ]
  },
  {
   "cell_type": "code",
   "execution_count": 4,
   "id": "6324e8c1",
   "metadata": {},
   "outputs": [],
   "source": [
    "assert TRAIN_DIR.exists(), f\"Train dir not found: {TRAIN_DIR}\"\n",
    "assert VAL_DIR.exists(),   f\"Validation dir not found: {VAL_DIR}\"\n",
    "assert TEST_DIR.exists(),  f\"Test dir not found: {TEST_DIR}\""
   ]
  },
  {
   "cell_type": "code",
   "execution_count": 7,
   "id": "ac6aa1d5",
   "metadata": {},
   "outputs": [],
   "source": [
    "from torchvision import transforms as T\n",
    "\n",
    "IMG_SIZE = 224  # ResNet-18 input size\n",
    "\n",
    "IMAGENET_MEAN = [0.485, 0.456, 0.406]\n",
    "IMAGENET_STD  = [0.229, 0.224, 0.225]\n",
    "\n",
    "train_tfms = T.Compose([\n",
    "    T.Resize((IMG_SIZE, IMG_SIZE)),\n",
    "    T.RandomHorizontalFlip(p=0.5),\n",
    "    T.RandomVerticalFlip(p=0.5),\n",
    "    T.RandomRotation(degrees=15),\n",
    "    T.ColorJitter(brightness=0.2, contrast=0.2, saturation=0.2, hue=0.1),\n",
    "    T.ToTensor(),\n",
    "    T.Normalize(mean=IMAGENET_MEAN, std=IMAGENET_STD),\n",
    "])\n",
    "\n",
    "val_tfms = T.Compose([\n",
    "    T.Resize((IMG_SIZE, IMG_SIZE)),\n",
    "    T.ToTensor(),\n",
    "    T.Normalize(mean=IMAGENET_MEAN, std=IMAGENET_STD),\n",
    "])\n"
   ]
  },
  {
   "cell_type": "code",
   "execution_count": 8,
   "id": "0a9957e3",
   "metadata": {},
   "outputs": [],
   "source": [
    "from torchvision.datasets import ImageFolder"
   ]
  },
  {
   "cell_type": "code",
   "execution_count": 9,
   "id": "148552db",
   "metadata": {},
   "outputs": [
    {
     "name": "stdout",
     "output_type": "stream",
     "text": [
      "Classes: ['fold_0', 'fold_1', 'fold_2']\n",
      "Train size: 8885\n",
      "Val size: 1776\n",
      "Test size: 1867\n"
     ]
    }
   ],
   "source": [
    "\n",
    "train_ds = ImageFolder(TRAIN_DIR, transform=train_tfms)\n",
    "val_ds   = ImageFolder(VAL_DIR,   transform=val_tfms)\n",
    "test_ds  = ImageFolder(TEST_DIR,  transform=val_tfms)\n",
    "\n",
    "class_names = train_ds.classes\n",
    "num_classes = len(class_names)\n",
    "\n",
    "print(\"Classes:\", class_names)\n",
    "print(\"Train size:\", len(train_ds))\n",
    "print(\"Val size:\", len(val_ds))\n",
    "print(\"Test size:\", len(test_ds))\n"
   ]
  },
  {
   "cell_type": "code",
   "execution_count": 10,
   "id": "6920d88d",
   "metadata": {},
   "outputs": [
    {
     "name": "stdout",
     "output_type": "stream",
     "text": [
      "Classes: ['all', 'hem']\n",
      "Train size: 8885\n",
      "Val size: 1776\n",
      "Test size: 1867\n"
     ]
    }
   ],
   "source": [
    "from torch.utils.data import ConcatDataset\n",
    "\n",
    "# Load each fold separately\n",
    "train_fold0 = ImageFolder(TRAIN_DIR / \"fold_0\", transform=train_tfms)\n",
    "train_fold1 = ImageFolder(TRAIN_DIR / \"fold_1\", transform=train_tfms)\n",
    "train_fold2 = ImageFolder(TRAIN_DIR / \"fold_2\", transform=train_tfms)\n",
    "\n",
    "# Merge into one training dataset\n",
    "train_ds = ConcatDataset([train_fold0, train_fold1, train_fold2])\n",
    "\n",
    "# Validation and test stay the same\n",
    "val_ds  = ImageFolder(VAL_DIR,  transform=val_tfms)\n",
    "test_ds = ImageFolder(TEST_DIR, transform=val_tfms)\n",
    "\n",
    "# Classes (same for all folds)\n",
    "class_names = train_fold0.classes\n",
    "num_classes = len(class_names)\n",
    "\n",
    "print(\"Classes:\", class_names)\n",
    "print(\"Train size:\", len(train_ds))\n",
    "print(\"Val size:\", len(val_ds))\n",
    "print(\"Test size:\", len(test_ds))\n"
   ]
  },
  {
   "cell_type": "markdown",
   "id": "918c5a21",
   "metadata": {},
   "source": [
    "Data loaders"
   ]
  },
  {
   "cell_type": "code",
   "execution_count": 12,
   "id": "42a3163e",
   "metadata": {},
   "outputs": [
    {
     "name": "stdout",
     "output_type": "stream",
     "text": [
      "Steps per epoch: 278 56 59\n",
      "First batch: torch.Size([32, 3, 224, 224]) torch.Size([32])\n"
     ]
    }
   ],
   "source": [
    "from torch.utils.data import DataLoader\n",
    "\n",
    "def seed_worker(worker_id):\n",
    "    worker_seed = (torch.initial_seed() + worker_id) % 2**32\n",
    "    np.random.seed(worker_seed)\n",
    "    random.seed(worker_seed)\n",
    "\n",
    "g = torch.Generator()\n",
    "g.manual_seed(42)\n",
    "\n",
    "batch_size = 32\n",
    "num_workers = 0\n",
    "pin = torch.cuda.is_available()\n",
    "\n",
    "train_loader = DataLoader(train_ds, batch_size=batch_size, shuffle=True,\n",
    "                          num_workers=num_workers, pin_memory=pin,\n",
    "                          worker_init_fn=seed_worker, generator=g)\n",
    "\n",
    "val_loader = DataLoader(val_ds, batch_size=batch_size, shuffle=False,\n",
    "                        num_workers=num_workers, pin_memory=pin,\n",
    "                        worker_init_fn=seed_worker, generator=g)\n",
    "\n",
    "test_loader = DataLoader(test_ds, batch_size=batch_size, shuffle=False,\n",
    "                         num_workers=num_workers, pin_memory=pin,\n",
    "                         worker_init_fn=seed_worker, generator=g)\n",
    "\n",
    "print(\"Steps per epoch:\", len(train_loader), len(val_loader), len(test_loader))\n",
    "\n",
    "# Smoke test: check a batch\n",
    "xb, yb = next(iter(train_loader))\n",
    "print(\"First batch:\", xb.shape, yb.shape)\n"
   ]
  },
  {
   "cell_type": "code",
   "execution_count": 13,
   "id": "9e5e2616",
   "metadata": {},
   "outputs": [],
   "source": [
    "from torchvision import models as tvm\n",
    "from torchvision.models import ResNet18_Weights\n",
    "from collections import Counter"
   ]
  },
  {
   "cell_type": "code",
   "execution_count": 14,
   "id": "9d1f22f0",
   "metadata": {},
   "outputs": [
    {
     "name": "stdout",
     "output_type": "stream",
     "text": [
      "Device: cuda\n"
     ]
    }
   ],
   "source": [
    "device = torch.device(\"cuda\" if torch.cuda.is_available() else \"cpu\")\n",
    "print(\"Device:\", device)"
   ]
  },
  {
   "cell_type": "code",
   "execution_count": 18,
   "id": "7bac3282",
   "metadata": {},
   "outputs": [
    {
     "name": "stdout",
     "output_type": "stream",
     "text": [
      "Train class counts: Counter({0: 6044, 1: 2841})\n"
     ]
    }
   ],
   "source": [
    "cnt = Counter()\n",
    "for d in train_ds.datasets:       # loop over each fold (ImageFolder)\n",
    "    cnt.update([y for _, y in d.samples])\n",
    "\n",
    "print(\"Train class counts:\", cnt)"
   ]
  },
  {
   "cell_type": "code",
   "execution_count": 19,
   "id": "218f86a1",
   "metadata": {},
   "outputs": [
    {
     "name": "stdout",
     "output_type": "stream",
     "text": [
      "Class weights: tensor([0.6395, 1.3605], device='cuda:0')\n"
     ]
    }
   ],
   "source": [
    "freqs = np.array([cnt.get(i, 0) for i in range(num_classes)], dtype=float)\n",
    "weights = (1.0 / (freqs + 1e-9))\n",
    "weights = weights / weights.sum() * num_classes\n",
    "class_weights = torch.tensor(weights, dtype=torch.float32, device=device)\n",
    "\n",
    "print(\"Class weights:\", class_weights)"
   ]
  },
  {
   "cell_type": "code",
   "execution_count": 20,
   "id": "6cca81bf",
   "metadata": {},
   "outputs": [],
   "source": [
    "# --- Define model ---\n",
    "model = tvm.resnet18(weights=ResNet18_Weights.DEFAULT)\n",
    "model.fc = nn.Linear(model.fc.in_features, num_classes)  # replace head\n",
    "model = model.to(device)"
   ]
  },
  {
   "cell_type": "code",
   "execution_count": 26,
   "id": "cd0b7e9a",
   "metadata": {},
   "outputs": [],
   "source": [
    "# --- Loss, Optimizer, Scheduler ---\n",
    "criterion = nn.CrossEntropyLoss()\n",
    "optimizer = optim.AdamW(model.parameters(), lr=3e-4, weight_decay=1e-4)\n",
    "\n",
    "epochs = 20\n",
    "scheduler = optim.lr_scheduler.CosineAnnealingLR(optimizer, T_max=epochs)"
   ]
  },
  {
   "cell_type": "code",
   "execution_count": 27,
   "id": "a24657c1",
   "metadata": {},
   "outputs": [
    {
     "name": "stderr",
     "output_type": "stream",
     "text": [
      "C:\\Users\\Lenovo\\AppData\\Local\\Temp\\ipykernel_5148\\2695130681.py:3: FutureWarning: `torch.cuda.amp.GradScaler(args...)` is deprecated. Please use `torch.amp.GradScaler('cuda', args...)` instead.\n",
      "  scaler = GradScaler(enabled=torch.cuda.is_available())\n"
     ]
    }
   ],
   "source": [
    "from torch.cuda.amp import autocast, GradScaler\n",
    "\n",
    "scaler = GradScaler(enabled=torch.cuda.is_available())\n"
   ]
  },
  {
   "cell_type": "code",
   "execution_count": 31,
   "id": "4ea6e51b",
   "metadata": {},
   "outputs": [],
   "source": [
    "def run_epoch(loader, train=True):\n",
    "    model.train(train)\n",
    "    loss_sum = 0.0\n",
    "    logits_all, targets_all = [], []\n",
    "\n",
    "    for x, yb in tqdm(loader, leave=False):\n",
    "        x, yb = x.to(device, non_blocking=True), yb.to(device, non_blocking=True)\n",
    "\n",
    "        if train:\n",
    "            optimizer.zero_grad(set_to_none=True)\n",
    "            with torch.amp.autocast(\"cuda\", enabled=torch.cuda.is_available()):\n",
    "                logits = model(x)\n",
    "                logits = torch.nan_to_num(logits, nan=0.0, posinf=1e4, neginf=-1e4)\n",
    "                loss = criterion(logits, yb)\n",
    "            scaler.scale(loss).backward()\n",
    "            scaler.step(optimizer)\n",
    "            scaler.update()\n",
    "        else:\n",
    "            with torch.no_grad(), torch.amp.autocast(\"cuda\", enabled=torch.cuda.is_available()):\n",
    "                logits = model(x)\n",
    "                logits = torch.nan_to_num(logits, nan=0.0, posinf=1e4, neginf=-1e4)\n",
    "                loss = criterion(logits, yb)\n",
    "\n",
    "        loss_sum += loss.item() * x.size(0)\n",
    "        logits_all.append(logits.detach().float().cpu())\n",
    "        targets_all.append(yb.detach().long().cpu())\n",
    "\n",
    "    # Aggregate\n",
    "    loss_epoch = loss_sum / len(loader.dataset)\n",
    "    logits_all = torch.cat(logits_all)\n",
    "    targets_all = torch.cat(targets_all)\n",
    "\n",
    "    auroc = MulticlassAUROC(num_classes=num_classes, average=\"macro\")(\n",
    "        logits_all.softmax(1), targets_all\n",
    "    ).item()\n",
    "    acc = MulticlassAccuracy(num_classes=num_classes, average=\"macro\")(\n",
    "        logits_all.argmax(1), targets_all\n",
    "    ).item()\n",
    "\n",
    "    return loss_epoch, acc, auroc"
   ]
  },
  {
   "cell_type": "code",
   "execution_count": 32,
   "id": "0dffdb67",
   "metadata": {},
   "outputs": [],
   "source": [
    "import json\n",
    "\n",
    "CKPT_DIR = Path(\"checkpoints\")\n",
    "CKPT_DIR.mkdir(exist_ok=True)\n",
    "\n",
    "def fit(epochs=20, ckpt_name=\"leukemia_resnet18.pt\"):\n",
    "    best = -math.inf\n",
    "    hist = []\n",
    "\n",
    "    for ep in range(1, epochs + 1):\n",
    "        tr_loss, tr_acc, tr_auc = run_epoch(train_loader, True)\n",
    "        va_loss, va_acc, va_auc = run_epoch(val_loader, False)\n",
    "\n",
    "        scheduler.step()\n",
    "\n",
    "        hist.append({\n",
    "            \"epoch\": ep,\n",
    "            \"train_loss\": tr_loss, \"train_acc\": tr_acc, \"train_auroc\": tr_auc,\n",
    "            \"val_loss\": va_loss, \"val_acc\": va_acc, \"val_auroc\": va_auc,\n",
    "            \"lr\": scheduler.get_last_lr()[0]\n",
    "        })\n",
    "\n",
    "        print(f\"[{ep:03d}] \"\n",
    "              f\"train: loss {tr_loss:.4f} acc {tr_acc:.3f} auroc {tr_auc:.3f} | \"\n",
    "              f\"val: loss {va_loss:.4f} acc {va_acc:.3f} auroc {va_auc:.3f}\")\n",
    "\n",
    "        if va_auc > best:\n",
    "            best = va_auc\n",
    "            torch.save({\n",
    "                \"state_dict\": model.state_dict(),\n",
    "                \"class_names\": class_names,\n",
    "                \"num_classes\": num_classes,\n",
    "            }, CKPT_DIR / ckpt_name)\n",
    "\n",
    "    with open(\"training_history.json\", \"w\") as f:\n",
    "        json.dump(hist, f, indent=2)\n",
    "\n",
    "    print(\"Best val AUROC:\", best)\n",
    "    return hist\n"
   ]
  },
  {
   "cell_type": "code",
   "execution_count": 34,
   "id": "c77e9be3",
   "metadata": {},
   "outputs": [
    {
     "name": "stdout",
     "output_type": "stream",
     "text": [
      "Val classes: ['all', 'hem']\n"
     ]
    }
   ],
   "source": [
    "print(\"Val classes:\", val_ds.classes)"
   ]
  },
  {
   "cell_type": "code",
   "execution_count": 35,
   "id": "c64106a3",
   "metadata": {},
   "outputs": [
    {
     "name": "stdout",
     "output_type": "stream",
     "text": [
      "Val class counts: Counter({0: 1228, 1: 548})\n"
     ]
    }
   ],
   "source": [
    "from collections import Counter\n",
    "val_counts = Counter([y for _, y in val_ds.samples])\n",
    "print(\"Val class counts:\", val_counts)\n"
   ]
  },
  {
   "cell_type": "code",
   "execution_count": 36,
   "id": "fb9f28c2",
   "metadata": {},
   "outputs": [
    {
     "name": "stdout",
     "output_type": "stream",
     "text": [
      "Train classes: ['all', 'hem']\n",
      "Val classes: ['all', 'hem']\n",
      "Test classes: ['all', 'hem']\n"
     ]
    }
   ],
   "source": [
    "print(\"Train classes:\", train_fold0.classes)\n",
    "print(\"Val classes:\", val_ds.classes)\n",
    "print(\"Test classes:\", test_ds.classes)"
   ]
  },
  {
   "cell_type": "code",
   "execution_count": 37,
   "id": "18177bec",
   "metadata": {},
   "outputs": [
    {
     "name": "stderr",
     "output_type": "stream",
     "text": [
      "                                                 \r"
     ]
    },
    {
     "name": "stdout",
     "output_type": "stream",
     "text": [
      "[001] train: loss 0.3113 acc 0.832 auroc 0.916 | val: loss 0.6934 acc 0.500 auroc 0.500\n"
     ]
    },
    {
     "name": "stderr",
     "output_type": "stream",
     "text": [
      "                                                 \r"
     ]
    },
    {
     "name": "stdout",
     "output_type": "stream",
     "text": [
      "[002] train: loss 0.2992 acc 0.841 auroc 0.922 | val: loss 0.6934 acc 0.500 auroc 0.500\n"
     ]
    },
    {
     "name": "stderr",
     "output_type": "stream",
     "text": [
      "                                                 \r"
     ]
    },
    {
     "name": "stdout",
     "output_type": "stream",
     "text": [
      "[003] train: loss 0.2820 acc 0.854 auroc 0.932 | val: loss 0.6934 acc 0.500 auroc 0.500\n"
     ]
    },
    {
     "name": "stderr",
     "output_type": "stream",
     "text": [
      "                                                 \r"
     ]
    },
    {
     "name": "stdout",
     "output_type": "stream",
     "text": [
      "[004] train: loss 0.2702 acc 0.860 auroc 0.934 | val: loss 0.6934 acc 0.500 auroc 0.500\n"
     ]
    },
    {
     "name": "stderr",
     "output_type": "stream",
     "text": [
      "                                                 \r"
     ]
    },
    {
     "name": "stdout",
     "output_type": "stream",
     "text": [
      "[005] train: loss 0.2570 acc 0.868 auroc 0.942 | val: loss 0.6934 acc 0.500 auroc 0.500\n"
     ]
    },
    {
     "name": "stderr",
     "output_type": "stream",
     "text": [
      "                                                 \r"
     ]
    },
    {
     "name": "stdout",
     "output_type": "stream",
     "text": [
      "[006] train: loss 0.2579 acc 0.869 auroc 0.941 | val: loss 0.6934 acc 0.500 auroc 0.500\n"
     ]
    },
    {
     "name": "stderr",
     "output_type": "stream",
     "text": [
      "                                                 \r"
     ]
    },
    {
     "name": "stdout",
     "output_type": "stream",
     "text": [
      "[007] train: loss 0.2413 acc 0.879 auroc 0.947 | val: loss 0.6934 acc 0.500 auroc 0.500\n"
     ]
    },
    {
     "name": "stderr",
     "output_type": "stream",
     "text": [
      "                                                 \r"
     ]
    },
    {
     "name": "stdout",
     "output_type": "stream",
     "text": [
      "[008] train: loss 0.2351 acc 0.883 auroc 0.952 | val: loss 0.6934 acc 0.500 auroc 0.500\n"
     ]
    },
    {
     "name": "stderr",
     "output_type": "stream",
     "text": [
      "                                                 \r"
     ]
    },
    {
     "name": "stdout",
     "output_type": "stream",
     "text": [
      "[009] train: loss 0.2368 acc 0.879 auroc 0.949 | val: loss 0.6934 acc 0.500 auroc 0.500\n"
     ]
    },
    {
     "name": "stderr",
     "output_type": "stream",
     "text": [
      "                                                 \r"
     ]
    },
    {
     "name": "stdout",
     "output_type": "stream",
     "text": [
      "[010] train: loss 0.2223 acc 0.887 auroc 0.956 | val: loss 0.6934 acc 0.500 auroc 0.500\n"
     ]
    },
    {
     "name": "stderr",
     "output_type": "stream",
     "text": [
      "                                                 \r"
     ]
    },
    {
     "name": "stdout",
     "output_type": "stream",
     "text": [
      "[011] train: loss 0.2175 acc 0.892 auroc 0.958 | val: loss 0.6934 acc 0.500 auroc 0.500\n"
     ]
    },
    {
     "name": "stderr",
     "output_type": "stream",
     "text": [
      "                                                 \r"
     ]
    },
    {
     "name": "stdout",
     "output_type": "stream",
     "text": [
      "[012] train: loss 0.2133 acc 0.894 auroc 0.960 | val: loss 0.6934 acc 0.500 auroc 0.500\n"
     ]
    },
    {
     "name": "stderr",
     "output_type": "stream",
     "text": [
      "                                                 \r"
     ]
    },
    {
     "name": "stdout",
     "output_type": "stream",
     "text": [
      "[013] train: loss 0.2037 acc 0.900 auroc 0.962 | val: loss 0.6934 acc 0.500 auroc 0.500\n"
     ]
    },
    {
     "name": "stderr",
     "output_type": "stream",
     "text": [
      "                                                 \r"
     ]
    },
    {
     "name": "stdout",
     "output_type": "stream",
     "text": [
      "[014] train: loss 0.1951 acc 0.900 auroc 0.966 | val: loss 0.6934 acc 0.500 auroc 0.500\n"
     ]
    },
    {
     "name": "stderr",
     "output_type": "stream",
     "text": [
      "                                                 \r"
     ]
    },
    {
     "name": "stdout",
     "output_type": "stream",
     "text": [
      "[015] train: loss 0.1925 acc 0.902 auroc 0.968 | val: loss 0.6934 acc 0.500 auroc 0.500\n"
     ]
    },
    {
     "name": "stderr",
     "output_type": "stream",
     "text": [
      "                                                 \r"
     ]
    },
    {
     "name": "stdout",
     "output_type": "stream",
     "text": [
      "[016] train: loss 0.1835 acc 0.908 auroc 0.971 | val: loss 0.6934 acc 0.500 auroc 0.500\n"
     ]
    },
    {
     "name": "stderr",
     "output_type": "stream",
     "text": [
      "                                                 \r"
     ]
    },
    {
     "name": "stdout",
     "output_type": "stream",
     "text": [
      "[017] train: loss 0.1841 acc 0.911 auroc 0.970 | val: loss 0.6934 acc 0.500 auroc 0.500\n"
     ]
    },
    {
     "name": "stderr",
     "output_type": "stream",
     "text": [
      "                                                 \r"
     ]
    },
    {
     "name": "stdout",
     "output_type": "stream",
     "text": [
      "[018] train: loss 0.1853 acc 0.908 auroc 0.969 | val: loss 0.6934 acc 0.500 auroc 0.500\n"
     ]
    },
    {
     "name": "stderr",
     "output_type": "stream",
     "text": [
      "                                                 \r"
     ]
    },
    {
     "name": "stdout",
     "output_type": "stream",
     "text": [
      "[019] train: loss 0.1851 acc 0.909 auroc 0.970 | val: loss 0.6934 acc 0.500 auroc 0.500\n"
     ]
    },
    {
     "name": "stderr",
     "output_type": "stream",
     "text": [
      "                                                 "
     ]
    },
    {
     "name": "stdout",
     "output_type": "stream",
     "text": [
      "[020] train: loss 0.1889 acc 0.911 auroc 0.971 | val: loss 0.6934 acc 0.500 auroc 0.500\n",
      "Best val AUROC: 0.5\n"
     ]
    },
    {
     "name": "stderr",
     "output_type": "stream",
     "text": [
      "\r"
     ]
    }
   ],
   "source": [
    "history = fit(epochs=epochs)"
   ]
  },
  {
   "cell_type": "code",
   "execution_count": 39,
   "id": "296e3322",
   "metadata": {},
   "outputs": [
    {
     "name": "stdout",
     "output_type": "stream",
     "text": [
      "Checkpoint saved → C:\\Users\\Lenovo\\Desktop\\Exploration-of-ViT-and-CNN-for-Medical-Image-Processing\\checkpoints\\classification\\cls_leukemia_resnet18.pt\n"
     ]
    }
   ],
   "source": [
    "from pathlib import Path\n",
    "import torch\n",
    "\n",
    "CKPT_DIR = Path(r\"C:\\Users\\Lenovo\\Desktop\\Exploration-of-ViT-and-CNN-for-Medical-Image-Processing\\checkpoints\\classification\")\n",
    "CKPT_DIR.mkdir(parents=True, exist_ok=True)\n",
    "\n",
    "ckpt_path = CKPT_DIR / \"cls_leukemia_resnet18.pt\"\n",
    "\n",
    "# Save current model\n",
    "torch.save({\n",
    "    \"state_dict\": model.state_dict(),\n",
    "    \"class_names\": class_names,\n",
    "    \"num_classes\": num_classes,\n",
    "}, ckpt_path)\n",
    "\n",
    "print(\"Checkpoint saved →\", ckpt_path)\n"
   ]
  },
  {
   "cell_type": "code",
   "execution_count": null,
   "id": "b90ee4e4",
   "metadata": {},
   "outputs": [],
   "source": [
    "import json, torch, numpy as np, seaborn as sns, matplotlib.pyplot as plt\n",
    "from sklearn.metrics import classification_report, confusion_matrix\n",
    "from torchmetrics.classification import MulticlassAUROC\n",
    "from tqdm.auto import tqdm\n",
    "from pathlib import Path\n",
    "\n",
    "ckpt_path = Path(r\"C:\\Users\\Lenovo\\Desktop\\Exploration-of-ViT-and-CNN-for-Medical-Image-Processing\\checkpoints\\classification\\cls_leukemia_resnet18.pt\")\n",
    "state = torch.load(ckpt_path, map_location=device)\n",
    "model.load_state_dict(state[\"state_dict\"]); model.eval()\n",
    "print(\"Loaded checkpoint →\", ckpt_path)\n",
    "\n",
    "logits_list, targets_list = [], []\n",
    "with torch.no_grad():\n",
    "    for x, y in tqdm(test_loader, leave=False):\n",
    "        logits_list.append(model(x.to(device)).cpu())\n",
    "        targets_list.append(y.cpu())\n",
    "\n",
    "logits = torch.cat(logits_list)\n",
    "targets = torch.cat(targets_list)\n",
    "\n",
    "probs = logits.softmax(1).numpy()\n",
    "preds = probs.argmax(1)\n",
    "targets_np = targets.numpy()\n",
    "\n",
    "test_auroc = MulticlassAUROC(num_classes=num_classes, average=\"macro\")(\n",
    "    torch.tensor(probs), torch.tensor(targets_np)\n",
    ").item()\n",
    "test_acc = float((preds == targets_np).mean())\n",
    "\n",
    "report = classification_report(\n",
    "    targets_np, preds, target_names=class_names, output_dict=True\n",
    ")\n",
    "\n",
    "MET_DIR = Path(r\"C:\\Users\\Lenovo\\Desktop\\Exploration-of-ViT-and-CNN-for-Medical-Image-Processing\\results\\metrics\")\n",
    "MET_DIR.mkdir(parents=True, exist_ok=True)\n",
    "out_json = MET_DIR / \"cls_leukemia_resnet18_test.json\"\n",
    "\n",
    "with open(out_json, \"w\") as f:\n",
    "    json.dump({\n",
    "        \"dataset\": \"leukemia\",\n",
    "        \"model\": \"resnet18\",\n",
    "        \"num_classes\": num_classes,\n",
    "        \"test_macro_auroc\": test_auroc,\n",
    "        \"test_accuracy\": test_acc,\n",
    "        \"classification_report\": report\n",
    "    }, f, indent=2)\n",
    "\n",
    "print(\"Saved →\", out_json)\n",
    "\n",
    "cm = confusion_matrix(targets_np, preds)\n",
    "FIG_DIR = Path(r\"C:\\Users\\Lenovo\\Desktop\\Exploration-of-ViT-and-CNN-for-Medical-Image-Processing\\results\\figures\")\n",
    "FIG_DIR.mkdir(parents=True, exist_ok=True)\n",
    "\n",
    "plt.figure(figsize=(6,5))\n",
    "sns.heatmap(cm, annot=True, fmt=\"d\", cbar=False,\n",
    "            xticklabels=class_names, yticklabels=class_names)\n",
    "plt.xlabel(\"Predicted\"); plt.ylabel(\"True\"); plt.title(\"Leukemia • ResNet-18 Confusion Matrix\")\n",
    "plt.tight_layout()\n",
    "\n",
    "fig_path = FIG_DIR / \"cls_leukemia_resnet18_confusion_matrix.png\"\n",
    "plt.savefig(fig_path, dpi=150); plt.show()\n",
    "print(\"Saved →\", fig_path)\n"
   ]
  },
  {
   "cell_type": "markdown",
   "id": "52572fb1",
   "metadata": {},
   "source": [
    "📈 Training Curves"
   ]
  },
  {
   "cell_type": "code",
   "execution_count": 41,
   "id": "1952c8a2",
   "metadata": {},
   "outputs": [
    {
     "data": {
      "image/png": "[encoded data removed]",
      "text/plain": [
       "<Figure size 1000x400 with 2 Axes>"
      ]
     },
     "metadata": {},
     "output_type": "display_data"
    }
   ],
   "source": [
    "hist = json.loads(Path(\"training_history.json\").read_text())\n",
    "\n",
    "epochs = [h[\"epoch\"] for h in hist]\n",
    "tr_loss = [h[\"train_loss\"] for h in hist]; va_loss = [h[\"val_loss\"] for h in hist]\n",
    "tr_auc  = [h[\"train_auroc\"] for h in hist]; va_auc  = [h[\"val_auroc\"] for h in hist]\n",
    "\n",
    "plt.figure(figsize=(10,4))\n",
    "plt.subplot(1,2,1)\n",
    "plt.plot(epochs, tr_loss, label=\"train\"); plt.plot(epochs, va_loss, label=\"val\")\n",
    "plt.title(\"Loss\"); plt.xlabel(\"epoch\"); plt.legend()\n",
    "\n",
    "plt.subplot(1,2,2)\n",
    "plt.plot(epochs, tr_auc, label=\"train\"); plt.plot(epochs, va_auc, label=\"val\")\n",
    "plt.title(\"Macro AUROC\"); plt.xlabel(\"epoch\"); plt.legend()\n",
    "\n",
    "plt.tight_layout(); plt.show()\n"
   ]
  },
  {
   "cell_type": "markdown",
   "id": "4f832bec",
   "metadata": {},
   "source": [
    "🚀 Model Export (ONNX + TorchScript)"
   ]
  },
  {
   "cell_type": "code",
   "execution_count": 42,
   "id": "edeb6c01",
   "metadata": {},
   "outputs": [
    {
     "name": "stdout",
     "output_type": "stream",
     "text": [
      "ONNX saved → C:\\Users\\Lenovo\\Desktop\\Exploration-of-ViT-and-CNN-for-Medical-Image-Processing\\exports\\onnx\\leukemia_resnet18.onnx\n",
      "TorchScript saved → C:\\Users\\Lenovo\\Desktop\\Exploration-of-ViT-and-CNN-for-Medical-Image-Processing\\exports\\torchscript\\leukemia_resnet18.pt\n"
     ]
    }
   ],
   "source": [
    "# === Export to ONNX & TorchScript ===\n",
    "onnx_out = Path(r\"C:\\Users\\Lenovo\\Desktop\\Exploration-of-ViT-and-CNN-for-Medical-Image-Processing\\exports\\onnx\\leukemia_resnet18.onnx\")\n",
    "ts_out   = Path(r\"C:\\Users\\Lenovo\\Desktop\\Exploration-of-ViT-and-CNN-for-Medical-Image-Processing\\exports\\torchscript\\leukemia_resnet18.pt\")\n",
    "\n",
    "onnx_out.parent.mkdir(parents=True, exist_ok=True)\n",
    "ts_out.parent.mkdir(parents=True, exist_ok=True)\n",
    "\n",
    "dummy = torch.randn(1, 3, 224, 224, device=device)\n",
    "model.eval()\n",
    "\n",
    "# ONNX\n",
    "torch.onnx.export(model, dummy, onnx_out.as_posix(),\n",
    "                  input_names=[\"input\"], output_names=[\"logits\"],\n",
    "                  opset_version=17,\n",
    "                  dynamic_axes={\"input\": {0:\"batch\"}, \"logits\": {0:\"batch\"}})\n",
    "print(\"ONNX saved →\", onnx_out)\n",
    "\n",
    "# TorchScript\n",
    "traced = torch.jit.trace(model, dummy)\n",
    "traced.save(ts_out.as_posix())\n",
    "print(\"TorchScript saved →\", ts_out)\n"
   ]
  },
  {
   "cell_type": "code",
   "execution_count": 51,
   "id": "c1b96078",
   "metadata": {},
   "outputs": [
    {
     "data": {
      "image/png": "[encoded data removed]",
      "text/plain": [
       "<Figure size 1200x500 with 2 Axes>"
      ]
     },
     "metadata": {},
     "output_type": "display_data"
    }
   ],
   "source": [
    "import json\n",
    "import matplotlib.pyplot as plt\n",
    "import mplcyberpunk\n",
    "from pathlib import Path\n",
    "\n",
    "plt.style.use(\"cyberpunk\")\n",
    "\n",
    "# Load history\n",
    "REPO_ROOT = Path(r\"C:\\Users\\Lenovo\\Desktop\\Exploration-of-ViT-and-CNN-for-Medical-Image-Processing\")\n",
    "hist_path = REPO_ROOT / \"results\" / \"metrics\" / \"leukemia_resnet18_history.json\"\n",
    "hist = json.loads(Path(hist_path).read_text())\n",
    "\n",
    "epochs  = [h[\"epoch\"] for h in hist]\n",
    "tr_loss = [h[\"train_loss\"] for h in hist]; va_loss = [h[\"val_loss\"] for h in hist]\n",
    "tr_auc  = [h[\"train_auroc\"] for h in hist]; va_auc  = [h[\"val_auroc\"] for h in hist]\n",
    "\n",
    "fig, (ax1, ax2) = plt.subplots(1, 2, figsize=(12, 5))\n",
    "\n",
    "# --- Loss ---\n",
    "ax1.plot(epochs, tr_loss, label=\"train\", linewidth=2)\n",
    "ax1.plot(epochs, va_loss, label=\"val\", linewidth=2)\n",
    "mplcyberpunk.make_lines_glow(ax=ax1)\n",
    "handles, labels = ax1.get_legend_handles_labels()\n",
    "ax1.legend(dict(zip(labels, handles)).values(), dict(zip(labels, handles)).keys())\n",
    "ax1.set_title(\"Loss\")\n",
    "ax1.set_xlabel(\"epoch\"); ax1.set_ylabel(\"Loss\")\n",
    "ax1.margins(x=0)\n",
    "\n",
    "# --- AUROC ---\n",
    "ax2.plot(epochs, tr_auc, label=\"train\", linewidth=2)\n",
    "ax2.plot(epochs, va_auc, label=\"val\", linewidth=2)\n",
    "mplcyberpunk.make_lines_glow(ax=ax2)\n",
    "handles, labels = ax2.get_legend_handles_labels()\n",
    "ax2.legend(dict(zip(labels, handles)).values(), dict(zip(labels, handles)).keys())\n",
    "ax2.set_title(\"Macro AUROC\")\n",
    "ax2.set_xlabel(\"epoch\"); ax2.set_ylabel(\"AUROC\")\n",
    "ax2.margins(x=0)\n",
    "\n",
    "plt.tight_layout()\n",
    "plt.show()\n"
   ]
  },
  {
   "cell_type": "code",
   "execution_count": null,
   "id": "cb2cb8e8",
   "metadata": {},
   "outputs": [],
   "source": []
  }
 ],
 "metadata": {
  "kernelspec": {
   "display_name": ".venv",
   "language": "python",
   "name": "python3"
  },
  "language_info": {
   "codemirror_mode": {
    "name": "ipython",
    "version": 3
   },
   "file_extension": ".py",
   "mimetype": "text/x-python",
   "name": "python",
   "nbconvert_exporter": "python",
   "pygments_lexer": "ipython3",
   "version": "3.11.9"
  }
 },
 "nbformat": 4,
 "nbformat_minor": 5
}
