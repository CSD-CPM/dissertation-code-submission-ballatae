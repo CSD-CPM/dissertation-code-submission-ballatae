{
 "cells": [
  {
   "cell_type": "code",
   "execution_count": 1,
   "id": "dae35359",
   "metadata": {},
   "outputs": [],
   "source": [
    "from pathlib import Path\n",
    "import json, pandas as pd\n",
    "\n",
    "REPO_ROOT = (Path.cwd().parents[1] if (Path.cwd().name == \"classification\" and Path.cwd().parent.name == \"notebooks\")\n",
    "             else Path.cwd())\n",
    "MET_DIR = REPO_ROOT / \"results\" / \"metrics\""
   ]
  },
  {
   "cell_type": "code",
   "execution_count": 2,
   "id": "90afe635",
   "metadata": {},
   "outputs": [],
   "source": [
    "def show_test_json(fname):\n",
    "    p = MET_DIR / fname\n",
    "    obj = json.loads(p.read_text())\n",
    "    print(f\"Model: {obj.get('model')}\")\n",
    "    print(f\"Test Accuracy: {obj['test_accuracy']:.4f}\")\n",
    "    print(f\"Test Macro AUROC: {obj['test_macro_auroc']:.4f}\")\n",
    "    df = pd.DataFrame(obj[\"classification_report\"]).T\n",
    "    display(df)\n",
    "\n"
   ]
  },
  {
   "cell_type": "code",
   "execution_count": 5,
   "id": "8b45e4e6",
   "metadata": {},
   "outputs": [
    {
     "name": "stdout",
     "output_type": "stream",
     "text": [
      "Model: resnet18\n",
      "Test Accuracy: 0.6529\n",
      "Test Macro AUROC: 0.5000\n"
     ]
    },
    {
     "data": {
      "text/html": [
       "<div>\n",
       "<style scoped>\n",
       "    .dataframe tbody tr th:only-of-type {\n",
       "        vertical-align: middle;\n",
       "    }\n",
       "\n",
       "    .dataframe tbody tr th {\n",
       "        vertical-align: top;\n",
       "    }\n",
       "\n",
       "    .dataframe thead th {\n",
       "        text-align: right;\n",
       "    }\n",
       "</style>\n",
       "<table border=\"1\" class=\"dataframe\">\n",
       "  <thead>\n",
       "    <tr style=\"text-align: right;\">\n",
       "      <th></th>\n",
       "      <th>precision</th>\n",
       "      <th>recall</th>\n",
       "      <th>f1-score</th>\n",
       "      <th>support</th>\n",
       "    </tr>\n",
       "  </thead>\n",
       "  <tbody>\n",
       "    <tr>\n",
       "      <th>all</th>\n",
       "      <td>0.652919</td>\n",
       "      <td>1.0</td>\n",
       "      <td>0.790019</td>\n",
       "      <td>1219.0</td>\n",
       "    </tr>\n",
       "    <tr>\n",
       "      <th>hem</th>\n",
       "      <td>0.000000</td>\n",
       "      <td>0.0</td>\n",
       "      <td>0.000000</td>\n",
       "      <td>648.0</td>\n",
       "    </tr>\n",
       "  </tbody>\n",
       "</table>\n",
       "</div>"
      ],
      "text/plain": [
       "     precision  recall  f1-score  support\n",
       "all   0.652919     1.0  0.790019   1219.0\n",
       "hem   0.000000     0.0  0.000000    648.0"
      ]
     },
     "metadata": {},
     "output_type": "display_data"
    }
   ],
   "source": [
    "# CNN\n",
    "show_test_json(\"cls_leukemia_resnet18_test.json\")\n"
   ]
  },
  {
   "cell_type": "code",
   "execution_count": 6,
   "id": "0581989f",
   "metadata": {},
   "outputs": [
    {
     "name": "stdout",
     "output_type": "stream",
     "text": [
      "Model: vit_tiny_patch16_224\n",
      "Test Accuracy: 0.7869\n",
      "Test Macro AUROC: 0.6270\n"
     ]
    },
    {
     "data": {
      "text/html": [
       "<div>\n",
       "<style scoped>\n",
       "    .dataframe tbody tr th:only-of-type {\n",
       "        vertical-align: middle;\n",
       "    }\n",
       "\n",
       "    .dataframe tbody tr th {\n",
       "        vertical-align: top;\n",
       "    }\n",
       "\n",
       "    .dataframe thead th {\n",
       "        text-align: right;\n",
       "    }\n",
       "</style>\n",
       "<table border=\"1\" class=\"dataframe\">\n",
       "  <thead>\n",
       "    <tr style=\"text-align: right;\">\n",
       "      <th></th>\n",
       "      <th>precision</th>\n",
       "      <th>recall</th>\n",
       "      <th>f1-score</th>\n",
       "      <th>support</th>\n",
       "    </tr>\n",
       "  </thead>\n",
       "  <tbody>\n",
       "    <tr>\n",
       "      <th>all</th>\n",
       "      <td>0.719603</td>\n",
       "      <td>0.951600</td>\n",
       "      <td>0.819498</td>\n",
       "      <td>1219.0</td>\n",
       "    </tr>\n",
       "    <tr>\n",
       "      <th>hem</th>\n",
       "      <td>0.768627</td>\n",
       "      <td>0.302469</td>\n",
       "      <td>0.434109</td>\n",
       "      <td>648.0</td>\n",
       "    </tr>\n",
       "  </tbody>\n",
       "</table>\n",
       "</div>"
      ],
      "text/plain": [
       "     precision    recall  f1-score  support\n",
       "all   0.719603  0.951600  0.819498   1219.0\n",
       "hem   0.768627  0.302469  0.434109    648.0"
      ]
     },
     "metadata": {},
     "output_type": "display_data"
    }
   ],
   "source": [
    "show_test_json(\"cls_leukemia_vit_tiny_patch16_224_test.json\")"
   ]
  },
  {
   "cell_type": "code",
   "execution_count": null,
   "id": "3180f590",
   "metadata": {},
   "outputs": [],
   "source": []
  }
 ],
 "metadata": {
  "kernelspec": {
   "display_name": ".venv",
   "language": "python",
   "name": "python3"
  },
  "language_info": {
   "codemirror_mode": {
    "name": "ipython",
    "version": 3
   },
   "file_extension": ".py",
   "mimetype": "text/x-python",
   "name": "python",
   "nbconvert_exporter": "python",
   "pygments_lexer": "ipython3",
   "version": "3.11.9"
  }
 },
 "nbformat": 4,
 "nbformat_minor": 5
}
