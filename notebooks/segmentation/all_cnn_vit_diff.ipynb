{
 "cells": [
  {
   "cell_type": "code",
   "execution_count": 1,
   "id": "634b7c20",
   "metadata": {},
   "outputs": [],
   "source": [
    "import json\n",
    "import pandas as pd\n",
    "from pathlib import Path\n",
    "\n",
    "MET_DIR = Path(r\"C:\\Users\\Lenovo\\Desktop\\Exploration-of-ViT-and-CNN-for-Medical-Image-Processing\\results\\metrics\")\n",
    "\n",
    "def show_test_json_seg(fname):\n",
    "    p = MET_DIR / fname\n",
    "    obj = json.loads(p.read_text())\n",
    "    \n",
    "    print(\"📊 Segmentation Test Results\")\n",
    "    print(f\"Loss:             {obj['loss']:.4f}\")\n",
    "    print(f\"Accuracy:         {obj['accuracy']:.4f}\")\n",
    "    print(f\"IoU Metric:       {obj['iou_metric']:.4f}\")\n",
    "    print(f\"Dice Coefficient: {obj['dice_coefficient']:.4f}\")\n"
   ]
  },
  {
   "cell_type": "code",
   "execution_count": 2,
   "id": "e9de9e7c",
   "metadata": {},
   "outputs": [
    {
     "name": "stdout",
     "output_type": "stream",
     "text": [
      "CNN Model Results:\n",
      "------------------\n",
      "📊 Segmentation Test Results\n",
      "Loss:             0.0794\n",
      "Accuracy:         0.7877\n",
      "IoU Metric:       0.6784\n",
      "Dice Coefficient: 0.7670\n",
      "\n",
      "ViT Model Results:\n",
      "------------------\n",
      "📊 Segmentation Test Results\n",
      "Loss:             0.2451\n",
      "Accuracy:         0.9742\n",
      "IoU Metric:       0.5785\n",
      "Dice Coefficient: 0.6805\n"
     ]
    }
   ],
   "source": [
    "print(\"CNN Model Results:\")\n",
    "print(\"------------------\")\n",
    "show_test_json_seg(\"seg_all_cnn_test.json\")\n",
    "\n",
    "print(\"\\nViT Model Results:\")\n",
    "print(\"------------------\")\n",
    "show_test_json_seg(\"seg_all_vit_test.json\")"
   ]
  },
  {
   "cell_type": "code",
   "execution_count": 3,
   "id": "db055d38",
   "metadata": {},
   "outputs": [
    {
     "data": {
      "text/html": [
       "<div>\n",
       "<style scoped>\n",
       "    .dataframe tbody tr th:only-of-type {\n",
       "        vertical-align: middle;\n",
       "    }\n",
       "\n",
       "    .dataframe tbody tr th {\n",
       "        vertical-align: top;\n",
       "    }\n",
       "\n",
       "    .dataframe thead th {\n",
       "        text-align: right;\n",
       "    }\n",
       "</style>\n",
       "<table border=\"1\" class=\"dataframe\">\n",
       "  <thead>\n",
       "    <tr style=\"text-align: right;\">\n",
       "      <th></th>\n",
       "      <th>file</th>\n",
       "      <th>loss</th>\n",
       "      <th>accuracy</th>\n",
       "      <th>IoU</th>\n",
       "      <th>Dice</th>\n",
       "    </tr>\n",
       "  </thead>\n",
       "  <tbody>\n",
       "    <tr>\n",
       "      <th>0</th>\n",
       "      <td>seg_all_cnn_test.json</td>\n",
       "      <td>0.079371</td>\n",
       "      <td>0.787706</td>\n",
       "      <td>0.678372</td>\n",
       "      <td>0.766976</td>\n",
       "    </tr>\n",
       "    <tr>\n",
       "      <th>1</th>\n",
       "      <td>seg_all_vit_test.json</td>\n",
       "      <td>0.245057</td>\n",
       "      <td>0.974153</td>\n",
       "      <td>0.578493</td>\n",
       "      <td>0.680530</td>\n",
       "    </tr>\n",
       "  </tbody>\n",
       "</table>\n",
       "</div>"
      ],
      "text/plain": [
       "                    file      loss  accuracy       IoU      Dice\n",
       "0  seg_all_cnn_test.json  0.079371  0.787706  0.678372  0.766976\n",
       "1  seg_all_vit_test.json  0.245057  0.974153  0.578493  0.680530"
      ]
     },
     "metadata": {},
     "output_type": "display_data"
    }
   ],
   "source": [
    "import pandas as pd, json\n",
    "from pathlib import Path\n",
    "\n",
    "MET_DIR = Path(r\"C:\\Users\\Lenovo\\Desktop\\Exploration-of-ViT-and-CNN-for-Medical-Image-Processing\\results\\metrics\")\n",
    "\n",
    "files = [\n",
    "    \"seg_all_cnn_test.json\",\n",
    "    \"seg_all_vit_test.json\",\n",
    "]\n",
    "\n",
    "rows = []\n",
    "for f in files:\n",
    "    o = json.loads((MET_DIR / f).read_text())\n",
    "    rows.append({\n",
    "        \"file\": f,\n",
    "        \"loss\": o[\"loss\"],\n",
    "        \"accuracy\": o[\"accuracy\"],\n",
    "        \"IoU\": o[\"iou_metric\"],\n",
    "        \"Dice\": o[\"dice_coefficient\"]\n",
    "    })\n",
    "\n",
    "df = pd.DataFrame(rows).sort_values(\"Dice\", ascending=False)\n",
    "display(df)\n"
   ]
  },
  {
   "cell_type": "code",
   "execution_count": null,
   "id": "de69c3a8",
   "metadata": {},
   "outputs": [],
   "source": []
  }
 ],
 "metadata": {
  "kernelspec": {
   "display_name": ".venv",
   "language": "python",
   "name": "python3"
  },
  "language_info": {
   "codemirror_mode": {
    "name": "ipython",
    "version": 3
   },
   "file_extension": ".py",
   "mimetype": "text/x-python",
   "name": "python",
   "nbconvert_exporter": "python",
   "pygments_lexer": "ipython3",
   "version": "3.11.9"
  }
 },
 "nbformat": 4,
 "nbformat_minor": 5
}
