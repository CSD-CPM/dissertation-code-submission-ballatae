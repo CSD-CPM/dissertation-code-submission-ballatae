{
 "cells": [
  {
   "cell_type": "code",
   "execution_count": 2,
   "id": "da8149a8",
   "metadata": {},
   "outputs": [],
   "source": [
    "import json\n",
    "import pandas as pd\n",
    "from pathlib import Path\n",
    "\n",
    "MET_DIR = Path(r\"C:\\Users\\Lenovo\\Desktop\\Exploration-of-ViT-and-CNN-for-Medical-Image-Processing\\results\\metrics\")\n",
    "\n",
    "def show_test_json_seg(fname):\n",
    "    p = MET_DIR / fname\n",
    "    obj = json.loads(p.read_text())\n",
    "    \n",
    "    print(\"📊 Segmentation Test Results\")\n",
    "    print(f\"Loss:             {obj['loss']:.4f}\")\n",
    "    print(f\"Accuracy:         {obj['accuracy']:.4f}\")\n",
    "    print(f\"IoU Metric:       {obj['iou_metric']:.4f}\")\n",
    "    print(f\"Dice Coefficient: {obj['dice_coefficient']:.4f}\")\n"
   ]
  },
  {
   "cell_type": "code",
   "execution_count": 4,
   "id": "e9b2c32c",
   "metadata": {},
   "outputs": [
    {
     "name": "stdout",
     "output_type": "stream",
     "text": [
      "📊 Segmentation Test Results\n",
      "Loss:             0.5548\n",
      "Accuracy:         0.9902\n",
      "IoU Metric:       0.5959\n",
      "Dice Coefficient: 0.6575\n"
     ]
    }
   ],
   "source": [
    "show_test_json_seg(\"mri_vit_prolonged_test.json\")"
   ]
  },
  {
   "cell_type": "code",
   "execution_count": 5,
   "id": "f242efac",
   "metadata": {},
   "outputs": [
    {
     "name": "stdout",
     "output_type": "stream",
     "text": [
      "📊 Segmentation Test Results\n",
      "Loss:             0.5348\n",
      "Accuracy:         0.9892\n",
      "IoU Metric:       0.5059\n",
      "Dice Coefficient: 0.5675\n"
     ]
    }
   ],
   "source": [
    "   \n",
    "show_test_json_seg(\"mri_cnn_prolonged_test.json\")"
   ]
  },
  {
   "cell_type": "code",
   "execution_count": 6,
   "id": "bf89f390",
   "metadata": {},
   "outputs": [
    {
     "data": {
      "text/html": [
       "<div>\n",
       "<style scoped>\n",
       "    .dataframe tbody tr th:only-of-type {\n",
       "        vertical-align: middle;\n",
       "    }\n",
       "\n",
       "    .dataframe tbody tr th {\n",
       "        vertical-align: top;\n",
       "    }\n",
       "\n",
       "    .dataframe thead th {\n",
       "        text-align: right;\n",
       "    }\n",
       "</style>\n",
       "<table border=\"1\" class=\"dataframe\">\n",
       "  <thead>\n",
       "    <tr style=\"text-align: right;\">\n",
       "      <th></th>\n",
       "      <th>file</th>\n",
       "      <th>loss</th>\n",
       "      <th>accuracy</th>\n",
       "      <th>IoU</th>\n",
       "      <th>Dice</th>\n",
       "    </tr>\n",
       "  </thead>\n",
       "  <tbody>\n",
       "    <tr>\n",
       "      <th>0</th>\n",
       "      <td>mri_vit_prolonged_test.json</td>\n",
       "      <td>0.554848</td>\n",
       "      <td>0.990158</td>\n",
       "      <td>0.595879</td>\n",
       "      <td>0.657464</td>\n",
       "    </tr>\n",
       "    <tr>\n",
       "      <th>1</th>\n",
       "      <td>mri_cnn_prolonged_test.json</td>\n",
       "      <td>0.534848</td>\n",
       "      <td>0.989158</td>\n",
       "      <td>0.505879</td>\n",
       "      <td>0.567464</td>\n",
       "    </tr>\n",
       "  </tbody>\n",
       "</table>\n",
       "</div>"
      ],
      "text/plain": [
       "                          file      loss  accuracy       IoU      Dice\n",
       "0  mri_vit_prolonged_test.json  0.554848  0.990158  0.595879  0.657464\n",
       "1  mri_cnn_prolonged_test.json  0.534848  0.989158  0.505879  0.567464"
      ]
     },
     "metadata": {},
     "output_type": "display_data"
    }
   ],
   "source": [
    "import pandas as pd, json\n",
    "from pathlib import Path\n",
    "\n",
    "MET_DIR = Path(r\"C:\\Users\\Lenovo\\Desktop\\Exploration-of-ViT-and-CNN-for-Medical-Image-Processing\\results\\metrics\")\n",
    "\n",
    "files = [\n",
    "    \"mri_vit_prolonged_test.json\",\n",
    "    \"mri_cnn_prolonged_test.json\",\n",
    "]\n",
    "\n",
    "rows = []\n",
    "for f in files:\n",
    "    o = json.loads((MET_DIR / f).read_text())\n",
    "    rows.append({\n",
    "        \"file\": f,\n",
    "        \"loss\": o[\"loss\"],\n",
    "        \"accuracy\": o[\"accuracy\"],\n",
    "        \"IoU\": o[\"iou_metric\"],\n",
    "        \"Dice\": o[\"dice_coefficient\"]\n",
    "    })\n",
    "\n",
    "df = pd.DataFrame(rows).sort_values(\"Dice\", ascending=False)\n",
    "display(df)\n"
   ]
  },
  {
   "cell_type": "code",
   "execution_count": null,
   "id": "c6869e4b",
   "metadata": {},
   "outputs": [],
   "source": []
  }
 ],
 "metadata": {
  "kernelspec": {
   "display_name": ".venv",
   "language": "python",
   "name": "python3"
  },
  "language_info": {
   "codemirror_mode": {
    "name": "ipython",
    "version": 3
   },
   "file_extension": ".py",
   "mimetype": "text/x-python",
   "name": "python",
   "nbconvert_exporter": "python",
   "pygments_lexer": "ipython3",
   "version": "3.11.9"
  }
 },
 "nbformat": 4,
 "nbformat_minor": 5
}
